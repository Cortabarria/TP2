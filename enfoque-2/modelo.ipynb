{
 "cells": [
  {
   "cell_type": "markdown",
   "metadata": {},
   "source": [
    "Se carga el dataset `trainLimpio` y se divide en 80% para el entrenamiento y 20% en testeo."
   ]
  },
  {
   "cell_type": "code",
   "execution_count": 6,
   "metadata": {},
   "outputs": [],
   "source": [
    "import pandas as pd\n",
    "from sklearn.model_selection import train_test_split\n",
    "ruta_archivo = 'trainLimpio.csv'\n",
    "\n",
    "X = pd.read_csv(ruta_archivo, sep=',')\n",
    "\n",
    "# Se divide en 80% para el entrenamiento y 20% en testeo\n",
    "X_train, X_test, y_train, y_test = train_test_split(X.drop(columns=['HasDetections', 'MachineIdentifier']),  X['HasDetections'], test_size=0.2, random_state=42)\n"
   ]
  },
  {
   "cell_type": "markdown",
   "metadata": {},
   "source": [
    "XGBoost"
   ]
  },
  {
   "cell_type": "code",
   "execution_count": 7,
   "metadata": {},
   "outputs": [
    {
     "name": "stdout",
     "output_type": "stream",
     "text": [
      "Accuracy: 0.6577531655324198\n"
     ]
    }
   ],
   "source": [
    "import xgboost as xgb\n",
    "from sklearn.metrics import accuracy_score, classification_report, confusion_matrix\n",
    "\n",
    "# XGBoost classifier\n",
    "xgb_classifier = xgb.XGBClassifier(objective='binary:logistic', random_state=42)\n",
    "\n",
    "# Entrenar el modelo\n",
    "xgb_classifier.fit(X_train, y_train)\n",
    "\n",
    "# Hacer la prediccion\n",
    "y_pred = xgb_classifier.predict(X_test)\n",
    "\n",
    "accuracy = accuracy_score(y_test, y_pred)\n",
    "\n",
    "print(f\"Exactitud: {accuracy}\")"
   ]
  },
  {
   "cell_type": "markdown",
   "metadata": {},
   "source": [
    "XGBoost Random Forest "
   ]
  },
  {
   "cell_type": "code",
   "execution_count": 12,
   "metadata": {},
   "outputs": [
    {
     "name": "stdout",
     "output_type": "stream",
     "text": [
      "Exactitud: 0.6216375412837661\n"
     ]
    }
   ],
   "source": [
    "# XGBoost Random Forest classifier\n",
    "xgb_rf_classifier = xgb.XGBRFClassifier(objective='binary:logistic', random_state=42)\n",
    "\n",
    "xgb_rf_classifier.fit(X_train, y_train)\n",
    "\n",
    "y_pred_rf = xgb_rf_classifier.predict(X_test)\n",
    "\n",
    "accuracy_rf = accuracy_score(y_test, y_pred_rf)\n",
    "print(f\"Exactitud: {accuracy_rf}\")\n"
   ]
  },
  {
   "cell_type": "markdown",
   "metadata": {},
   "source": [
    "XGBoost Regressor"
   ]
  },
  {
   "cell_type": "code",
   "execution_count": null,
   "metadata": {},
   "outputs": [],
   "source": [
    "# XGBoost Regressor\n",
    "xgb_regressor = xgb.XGBRegressor(objective='reg:squarederror', random_state=42)\n",
    "\n",
    "xgb_regressor.fit(X_train, y_train)\n",
    "\n",
    "y_pred_regressor = xgb_regressor.predict(X_test)\n"
   ]
  },
  {
   "cell_type": "code",
   "execution_count": 17,
   "metadata": {},
   "outputs": [
    {
     "name": "stdout",
     "output_type": "stream",
     "text": [
      "Error Cuadrático Medio: 0.21233367732551084\n"
     ]
    }
   ],
   "source": [
    "from sklearn.metrics import mean_squared_error\n",
    "mse = mean_squared_error(y_test, y_pred_regressor)\n",
    "\n",
    "print(f\"Error Cuadrático Medio: {mse}\")"
   ]
  },
  {
   "cell_type": "markdown",
   "metadata": {},
   "source": [
    "Codigo para cargar al archivo los resultados"
   ]
  },
  {
   "cell_type": "code",
   "execution_count": 18,
   "metadata": {},
   "outputs": [],
   "source": [
    "with open('ExactitudArchivo2.txt', 'a') as file:\n",
    "    file.write(f\"XGBoost - Exactitud: {accuracy:.2%}\\n\")\n",
    "    file.write(f\"XGBoost Random Forest - Exactitud: {accuracy_rf:.2%}\\n\")\n",
    "    file.write(f\"XGBoost Regressor - Error Cuadrático Medio: {mse}\\n\")\n"
   ]
  }
 ],
 "metadata": {
  "kernelspec": {
   "display_name": "ml",
   "language": "python",
   "name": "python3"
  },
  "language_info": {
   "codemirror_mode": {
    "name": "ipython",
    "version": 3
   },
   "file_extension": ".py",
   "mimetype": "text/x-python",
   "name": "python",
   "nbconvert_exporter": "python",
   "pygments_lexer": "ipython3",
   "version": "3.10.11"
  }
 },
 "nbformat": 4,
 "nbformat_minor": 2
}
