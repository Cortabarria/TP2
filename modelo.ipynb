{
 "cells": [
  {
   "cell_type": "code",
   "execution_count": 8,
   "metadata": {},
   "outputs": [],
   "source": [
    "import pandas as pd\n",
    "from sklearn.model_selection import train_test_split\n",
    "ruta_archivo = 'trainLimpio.csv'\n",
    "\n",
    "# Assuming your target variable is in the 'y' column and your features are in the 'X' DataFrame.\n",
    "#X = pd.read_csv(ruta_archivo, sep=',').drop(columns=['HasDetections']).drop(columns=['MachineIdentifier'])\n",
    "X = pd.read_csv(ruta_archivo, sep=',')\n",
    "X = X.fillna(0)\n",
    "X = X.drop(columns=['HasDetections', 'MachineIdentifier'])\n",
    "y = pd.read_csv(ruta_archivo, sep=',')['HasDetections']\n",
    "\n",
    "# Split the data into training (80%) and testing (20%) sets\n",
    "X_train, X_test, y_train, y_test = train_test_split(X, y, test_size=0.2, random_state=42)\n"
   ]
  },
  {
   "cell_type": "code",
   "execution_count": 2,
   "metadata": {},
   "outputs": [
    {
     "name": "stdout",
     "output_type": "stream",
     "text": [
      "Random Forest - Exactitud: 60.88%\n"
     ]
    }
   ],
   "source": [
    "import pandas as pd\n",
    "from sklearn.model_selection import train_test_split\n",
    "from sklearn.ensemble import RandomForestClassifier  # Import the Random Forest classifier\n",
    "\n",
    "\n",
    "\n",
    "# Initialize and train the Random Forest classifier\n",
    "modelRFC = RandomForestClassifier(n_estimators=100, max_depth=10)\n",
    "modelRFC.fit(X_train, y_train)\n",
    "\n",
    "# Predict on the test data\n",
    "y_predRFC = modelRFC.predict(X_test)\n",
    "\n",
    "# Calculate accuracy\n",
    "accuracyRFC = (y_predRFC == y_test).mean()\n",
    "\n",
    "print(f\"Random Forest - Exactitud: {accuracyRFC:.2%}\")\n"
   ]
  },
  {
   "cell_type": "code",
   "execution_count": 2,
   "metadata": {},
   "outputs": [
    {
     "name": "stdout",
     "output_type": "stream",
     "text": [
      "Random Forest - Exactitud: 61.85%\n"
     ]
    }
   ],
   "source": [
    "import pandas as pd\n",
    "from sklearn.model_selection import train_test_split\n",
    "from sklearn.ensemble import RandomForestClassifier  # Import the Random Forest classifier\n",
    "\n",
    "\n",
    "\n",
    "# Initialize and train the Random Forest classifier\n",
    "modelRFC = RandomForestClassifier(n_estimators=100, max_depth=15)\n",
    "modelRFC.fit(X_train, y_train)\n",
    "\n",
    "# Predict on the test data\n",
    "y_predRFC = modelRFC.predict(X_test)\n",
    "\n",
    "# Calculate accuracy\n",
    "accuracyRFC = (y_predRFC == y_test).mean()\n",
    "\n",
    "print(f\"Random Forest - Exactitud: {accuracyRFC:.2%}\")"
   ]
  },
  {
   "cell_type": "code",
   "execution_count": 3,
   "metadata": {},
   "outputs": [
    {
     "name": "stdout",
     "output_type": "stream",
     "text": [
      "Random Forest - Exactitud: 63.29%\n"
     ]
    }
   ],
   "source": [
    "import pandas as pd\n",
    "from sklearn.model_selection import train_test_split\n",
    "from sklearn.ensemble import RandomForestClassifier  # Import the Random Forest classifier\n",
    "\n",
    "\n",
    "\n",
    "# Initialize and train the Random Forest classifier\n",
    "modelRFC = RandomForestClassifier(n_estimators=100, max_depth=25)\n",
    "modelRFC.fit(X_train, y_train)\n",
    "\n",
    "# Predict on the test data\n",
    "y_predRFC = modelRFC.predict(X_test)\n",
    "\n",
    "# Calculate accuracy\n",
    "accuracyRFC = (y_predRFC == y_test).mean()\n",
    "\n",
    "print(f\"Random Forest - Exactitud: {accuracyRFC:.2%}\")"
   ]
  },
  {
   "cell_type": "code",
   "execution_count": null,
   "metadata": {},
   "outputs": [
    {
     "name": "stdout",
     "output_type": "stream",
     "text": [
      "Regresion Logica -Exactitud: 49.95%\n"
     ]
    }
   ],
   "source": [
    "import pandas as pd\n",
    "from sklearn.model_selection import train_test_split\n",
    "from sklearn.linear_model import LogisticRegression\n",
    "\n",
    "model = LogisticRegression()\n",
    "model.fit(X_train, y_train)\n",
    "\n",
    "# Predict on the test data\n",
    "y_pred = model.predict(X_test)\n",
    "\n",
    "# Calculate accuracy\n",
    "accuracy = (y_pred == y_test).mean()\n",
    "\n",
    "print(f\"Regresion Logica -Exactitud: {accuracy:.2%}\")"
   ]
  },
  {
   "cell_type": "code",
   "execution_count": 9,
   "metadata": {},
   "outputs": [
    {
     "name": "stdout",
     "output_type": "stream",
     "text": [
      "Decision Tree - Exactitud: 60.19%\n"
     ]
    }
   ],
   "source": [
    "from sklearn.tree import DecisionTreeClassifier\n",
    "\n",
    "modelDTC = DecisionTreeClassifier(max_depth=25)\n",
    "modelDTC.fit(X_train, y_train)\n",
    "y_predDTC = modelDTC.predict(X_test)\n",
    "accuracyDTC = (y_predDTC == y_test).mean()\n",
    "print(f\"Decision Tree - Exactitud: {accuracyDTC:.2%}\")\n"
   ]
  },
  {
   "cell_type": "code",
   "execution_count": null,
   "metadata": {},
   "outputs": [],
   "source": [
    "from sklearn.ensemble import GradientBoostingClassifier\n",
    "\n",
    "modelGBC = GradientBoostingClassifier(n_estimators=100, max_depth=5)\n",
    "modelGBC.fit(X_train, y_train)\n",
    "y_predGBC = modelGBC.predict(X_test)\n",
    "accuracyGBC = (y_predGBC == y_test).mean()\n",
    "print(f\"Gradient Boosting - Exactitud: {accuracyGBC:.2%}\")\n"
   ]
  },
  {
   "cell_type": "code",
   "execution_count": null,
   "metadata": {},
   "outputs": [],
   "source": [
    "from sklearn.svm import SVC\n",
    "\n",
    "modelSVM = SVC()\n",
    "modelSVM.fit(X_train, y_train)\n",
    "y_predSVM = modelSVM.predict(X_test)\n",
    "accuracySVM = (y_predSVM == y_test).mean()\n",
    "print(f\"SVM - Exactitud: {accuracySVM:.2%}\")\n"
   ]
  },
  {
   "cell_type": "code",
   "execution_count": null,
   "metadata": {},
   "outputs": [],
   "source": [
    "from sklearn.neighbors import KNeighborsClassifier\n",
    "\n",
    "modelKNN = KNeighborsClassifier(n_neighbors=5)  # You can adjust n_neighbors as needed\n",
    "modelKNN.fit(X_train, y_train)\n",
    "y_predKNN = modelKNN.predict(X_test)\n",
    "accuracyKNN = (y_predKNN == y_test).mean()\n",
    "print(f\"K-Nearest Neighbors - Exactitud: {accuracyKNN:.2%}\")\n"
   ]
  },
  {
   "cell_type": "markdown",
   "metadata": {},
   "source": []
  },
  {
   "cell_type": "code",
   "execution_count": 11,
   "metadata": {},
   "outputs": [],
   "source": [
    "with open('ExactitudArchivo.txt', 'a') as file:\n",
    "    #file.write(f\"Random Forest - max_depth=25 - Exactitud: {accuracyRFC:.2%}\\n\")\n",
    "    file.write(f\"Random Forest - max_depth=25 - Exactitud: {accuracyRFC:.2%}\\n\")"
   ]
  },
  {
   "cell_type": "code",
   "execution_count": 7,
   "metadata": {},
   "outputs": [],
   "source": [
    "with open('ExactitudArchivo.txt', 'a') as file:\n",
    "    file.write(\"Regresion Logica - Exactitud: 49.95%\\n\")"
   ]
  },
  {
   "cell_type": "code",
   "execution_count": null,
   "metadata": {},
   "outputs": [],
   "source": []
  }
 ],
 "metadata": {
  "kernelspec": {
   "display_name": "ml",
   "language": "python",
   "name": "python3"
  },
  "language_info": {
   "codemirror_mode": {
    "name": "ipython",
    "version": 3
   },
   "file_extension": ".py",
   "mimetype": "text/x-python",
   "name": "python",
   "nbconvert_exporter": "python",
   "pygments_lexer": "ipython3",
   "version": "3.10.11"
  }
 },
 "nbformat": 4,
 "nbformat_minor": 2
}
