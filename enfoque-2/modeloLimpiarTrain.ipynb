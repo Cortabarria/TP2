{
 "cells": [
  {
   "cell_type": "markdown",
   "metadata": {},
   "source": [
    "Se carga el Dataset"
   ]
  },
  {
   "cell_type": "code",
   "execution_count": 2,
   "metadata": {},
   "outputs": [
    {
     "name": "stderr",
     "output_type": "stream",
     "text": [
      "C:\\Users\\Feli\\AppData\\Local\\Temp\\ipykernel_15148\\1603032320.py:5: DtypeWarning: Columns (28) have mixed types. Specify dtype option on import or set low_memory=False.\n",
      "  dataframe = pd.read_csv(ruta_archivo, sep=',')\n"
     ]
    }
   ],
   "source": [
    "import pandas as pd\n",
    "\n",
    "ruta_archivo = '../train.csv'\n",
    "\n",
    "dataframe = pd.read_csv(ruta_archivo, sep=',')"
   ]
  },
  {
   "cell_type": "markdown",
   "metadata": {},
   "source": [
    "Lo copiamos para poder hacer cambios de manera mas eficiente por si tenemos que comparar"
   ]
  },
  {
   "cell_type": "code",
   "execution_count": 3,
   "metadata": {},
   "outputs": [],
   "source": [
    "dfC = dataframe.copy()"
   ]
  },
  {
   "cell_type": "markdown",
   "metadata": {},
   "source": [
    "A continuacion, vamos ir columna por columna. Cambiando los valores por numericos"
   ]
  },
  {
   "cell_type": "markdown",
   "metadata": {},
   "source": [
    "ProductName"
   ]
  },
  {
   "cell_type": "code",
   "execution_count": 4,
   "metadata": {},
   "outputs": [
    {
     "name": "stdout",
     "output_type": "stream",
     "text": [
      "['win8defender' 'mse' 'mseprerelease' 'windowsintune' 'fep' 'scep']\n"
     ]
    }
   ],
   "source": [
    "print(dataframe['ProductName'].unique())"
   ]
  },
  {
   "cell_type": "code",
   "execution_count": 5,
   "metadata": {},
   "outputs": [],
   "source": [
    "unique_valuesPN = dfC['ProductName'].unique()\n",
    "\n",
    "# Mappeo los valores unicos por numeros\n",
    "value_to_number = {value: index + 1 for index, value in enumerate(unique_valuesPN)}\n",
    "\n",
    "# Cambio los valores por los numeros \n",
    "dfC['ProductName'] = dfC['ProductName'].map(value_to_number)"
   ]
  },
  {
   "cell_type": "markdown",
   "metadata": {},
   "source": [
    "EngineVersion"
   ]
  },
  {
   "cell_type": "code",
   "execution_count": 6,
   "metadata": {},
   "outputs": [
    {
     "name": "stdout",
     "output_type": "stream",
     "text": [
      "['1.1.15100.1' '1.1.14600.4' '1.1.15200.1' '1.1.15300.6' '1.1.13504.0'\n",
      " '1.1.14800.3' '1.1.15000.2' '1.1.14104.0' '1.1.13804.0' '1.1.14306.0'\n",
      " '1.1.15000.1' '1.1.13407.0' '1.1.14405.2' '1.1.14901.4' '1.1.14700.3'\n",
      " '1.1.14202.0' '1.1.13303.0' '1.1.13701.0' '1.1.13000.0' '1.1.15300.5'\n",
      " '1.1.14500.5' '1.1.14700.5' '1.1.14003.0' '1.1.13601.0' '1.1.13903.0'\n",
      " '1.1.12805.0' '1.1.13202.0' '1.1.12902.0' '1.1.14305.0' '1.1.13704.0'\n",
      " '1.1.14901.3' '1.1.14002.0' '1.1.14103.0' '1.1.14700.4' '1.1.14800.1'\n",
      " '1.1.13103.0' '1.1.14303.0' '1.1.14201.0' '1.1.13102.0' '1.1.11701.0'\n",
      " '1.1.12400.0' '1.1.14500.2' '1.1.14001.0' '1.1.11804.0' '1.1.10401.0'\n",
      " '1.1.13902.0' '1.1.14102.0' '1.1.12603.0' '1.1.12706.0' '1.1.12002.0'\n",
      " '1.1.13803.0' '1.1.12101.0' '1.1.13406.0' '1.1.13802.0' '1.1.10302.0'\n",
      " '1.1.11400.0' '1.1.12804.0' '1.1.12300.0' '1.1.12205.0' '1.1.11903.0'\n",
      " '1.1.12505.0' '1.1.11502.0' '1.1.9700.0' '1.1.11602.0' '1.1.13503.0'\n",
      " '1.1.13301.0' '1.1.11202.0' '1.1.11104.0' '1.1.12802.0' '1.1.10701.0']\n"
     ]
    }
   ],
   "source": [
    "print(dataframe['EngineVersion'].unique())"
   ]
  },
  {
   "cell_type": "code",
   "execution_count": 7,
   "metadata": {},
   "outputs": [],
   "source": [
    "unique_valuesEV = dfC['EngineVersion'].unique()\n",
    "\n",
    "# Mappeo los valores unicos por numeros\n",
    "value_to_number = {value: index + 1 for index, value in enumerate(unique_valuesEV)}\n",
    "\n",
    "# Cambio los valores por los numeros \n",
    "dfC['EngineVersion'] = dfC['EngineVersion'].map(value_to_number)"
   ]
  },
  {
   "cell_type": "markdown",
   "metadata": {},
   "source": [
    "AppVersion"
   ]
  },
  {
   "cell_type": "code",
   "execution_count": 8,
   "metadata": {},
   "outputs": [
    {
     "name": "stdout",
     "output_type": "stream",
     "text": [
      "['4.18.1807.18075' '4.13.17134.1' '4.9.218.0' '4.18.1806.18062'\n",
      " '4.18.1809.2' '4.10.209.0' '4.8.10240.17914' '4.13.17134.228'\n",
      " '4.12.16299.15' '4.14.17639.18041' '4.9.10586.494' '4.10.14393.1593'\n",
      " '4.9.10586.0' '4.11.15063.0' '4.9.10586.589' '4.8.10240.16384'\n",
      " '4.16.17656.18052' '4.11.15063.447' '4.8.10240.17443' '4.9.10586.1106'\n",
      " '4.10.14393.0' '4.12.17007.18022' '4.14.17613.18039' '4.11.15063.1155'\n",
      " '4.10.14393.1794' '4.8.207.0' '4.8.10240.17946' '4.12.17007.18011'\n",
      " '4.8.10240.17354' '4.10.14393.1066' '4.13.17134.191' '4.8.10240.17113'\n",
      " '4.9.10586.873' '4.10.14393.1198' '4.9.10586.839' '4.8.204.0'\n",
      " '4.9.10586.962' '4.9.10586.672' '4.10.14393.1613' '4.9.10586.1045'\n",
      " '4.13.17134.112' '4.12.17007.17123' '4.9.10586.916' '4.10.14393.2273'\n",
      " '4.8.10240.17319' '4.9.10586.965' '4.8.10240.17184' '4.8.10240.17889'\n",
      " '4.10.14393.953' '4.8.10240.17861' '4.8.10240.17071' '4.8.10240.17202'\n",
      " '4.18.1807.18072' '4.13.17134.319' '4.10.205.0' '4.6.305.0' '4.4.304.0'\n",
      " '4.14.17613.18038' '4.8.10240.17609' '4.7.205.0' '4.18.1806.20021'\n",
      " '4.17.17677.1000' '4.8.10240.17533' '4.5.218.0' '4.10.14393.2248'\n",
      " '4.8.10240.17146' '4.8.10240.17394' '4.8.10240.17797' '4.10.14393.1532'\n",
      " '4.8.10240.17918' '4.10.14393.2457' '4.16.17656.18051' '4.8.10240.17770'\n",
      " '4.9.10586.456' '4.18.1806.20015' '4.15.17661.1001' '4.15.17643.1000'\n",
      " '4.18.1807.20063' '4.5.216.0' '4.17.17686.1003' '4.10.14393.726'\n",
      " '4.8.10240.17446' '4.9.10586.1177' '4.17.17672.1000' '4.11.15063.994'\n",
      " '4.15.17666.1000' '4.17.17682.1000' '4.15.17650.1001' '4.4.306.0'\n",
      " '4.17.17685.20082' '4.18.1806.20033' '4.13.17634.1000' '4.12.17007.18021'\n",
      " '4.15.17655.1000' '4.12.17007.17121' '4.13.17627.1000' '4.18.1807.18070'\n",
      " '4.13.17639.1000' '4.9.219.0' '4.8.203.0' '4.11.15063.1154'\n",
      " '4.8.10240.16425' '4.17.17686.1004' '4.5.212.0' '4.13.17134.226'\n",
      " '4.7.209.0' '4.13.17618.1000' '4.12.16299.0' '4.8.10240.17943'\n",
      " '4.13.17604.1000']\n"
     ]
    }
   ],
   "source": [
    "print(dataframe['AppVersion'].unique())"
   ]
  },
  {
   "cell_type": "code",
   "execution_count": 9,
   "metadata": {},
   "outputs": [],
   "source": [
    "unique_valuesAppV = dfC['AppVersion'].unique()\n",
    "\n",
    "# Mappeo los valores unicos por numeros\n",
    "value_to_number = {value: index + 1 for index, value in enumerate(unique_valuesAppV)}\n",
    "\n",
    "# Cambio los valores por los numeros \n",
    "dfC['AppVersion'] = dfC['AppVersion'].map(value_to_number)"
   ]
  },
  {
   "cell_type": "markdown",
   "metadata": {},
   "source": [
    "AvSigVersion"
   ]
  },
  {
   "cell_type": "code",
   "execution_count": 10,
   "metadata": {},
   "outputs": [
    {
     "name": "stdout",
     "output_type": "stream",
     "text": [
      "['1.273.1735.0' '1.263.48.0' '1.273.1341.0' ... '1.213.1918.0'\n",
      " '1.203.1966.0' '1.223.1075.0']\n"
     ]
    }
   ],
   "source": [
    "print(dataframe['AvSigVersion'].unique())"
   ]
  },
  {
   "cell_type": "code",
   "execution_count": 11,
   "metadata": {},
   "outputs": [],
   "source": [
    "unique_valuesAvSig = dataframe['AvSigVersion'].unique()\n",
    "\n",
    "# Mappeo los valores unicos por numeros\n",
    "value_to_number = {value: index + 1 for index, value in enumerate(unique_valuesAvSig)}\n",
    "\n",
    "# Cambio los valores por los numeros \n",
    "dfC['AvSigVersion'] = dfC['AvSigVersion'].map(value_to_number)"
   ]
  },
  {
   "cell_type": "markdown",
   "metadata": {},
   "source": [
    "IsBeta"
   ]
  },
  {
   "cell_type": "code",
   "execution_count": 12,
   "metadata": {},
   "outputs": [
    {
     "name": "stdout",
     "output_type": "stream",
     "text": [
      "[0 1]\n"
     ]
    }
   ],
   "source": [
    "print(dataframe['IsBeta'].unique())"
   ]
  },
  {
   "cell_type": "markdown",
   "metadata": {},
   "source": [
    "No hay que hacer ningun cambio ya que estan en 0 1"
   ]
  },
  {
   "cell_type": "markdown",
   "metadata": {},
   "source": [
    "RtpStateBitfield"
   ]
  },
  {
   "cell_type": "code",
   "execution_count": 13,
   "metadata": {},
   "outputs": [
    {
     "name": "stdout",
     "output_type": "stream",
     "text": [
      "[ 7.  0. nan  3.  5.  8.  1. 35.]\n"
     ]
    }
   ],
   "source": [
    "print(dataframe['RtpStateBitfield'].unique())"
   ]
  },
  {
   "cell_type": "code",
   "execution_count": 14,
   "metadata": {},
   "outputs": [],
   "source": [
    "unique_valuesRtp = dataframe['RtpStateBitfield'].unique()\n",
    "\n",
    "# Mappeo los valores unicos por numeros\n",
    "value_to_number = {value: index + 1 for index, value in enumerate(unique_valuesRtp)}\n",
    "\n",
    "# Cambio los valores por los numeros \n",
    "dfC['RtpStateBitfield'] = dfC['RtpStateBitfield'].map(value_to_number)"
   ]
  },
  {
   "cell_type": "markdown",
   "metadata": {},
   "source": [
    "IsSxsPassiveMode"
   ]
  },
  {
   "cell_type": "code",
   "execution_count": 15,
   "metadata": {},
   "outputs": [
    {
     "name": "stdout",
     "output_type": "stream",
     "text": [
      "[0 1]\n"
     ]
    }
   ],
   "source": [
    "print(dataframe['IsSxsPassiveMode'].unique())"
   ]
  },
  {
   "cell_type": "markdown",
   "metadata": {},
   "source": [
    "AVProductStatesIdentifier"
   ]
  },
  {
   "cell_type": "code",
   "execution_count": 16,
   "metadata": {},
   "outputs": [
    {
     "name": "stdout",
     "output_type": "stream",
     "text": [
      "[53447. 43927. 46413. ... 16684. 60602. 31745.]\n"
     ]
    }
   ],
   "source": [
    "print(dataframe['AVProductStatesIdentifier'].unique())"
   ]
  },
  {
   "cell_type": "code",
   "execution_count": 17,
   "metadata": {},
   "outputs": [],
   "source": [
    "unique_valuesAvProductSt = dataframe['AVProductStatesIdentifier'].unique()\n",
    "\n",
    "# Mappeo los valores unicos por numeros\n",
    "value_to_number = {value: index + 1 for index, value in enumerate(unique_valuesAvProductSt)}\n",
    "\n",
    "# Cambio los valores por los numeros \n",
    "dfC['AVProductStatesIdentifier'] = dfC['AVProductStatesIdentifier'].map(value_to_number)"
   ]
  },
  {
   "cell_type": "markdown",
   "metadata": {},
   "source": [
    "AVProductsInstalled"
   ]
  },
  {
   "cell_type": "code",
   "execution_count": 18,
   "metadata": {},
   "outputs": [
    {
     "name": "stdout",
     "output_type": "stream",
     "text": [
      "[ 1.  2.  3.  5. nan  4.  6.  7.  0.]\n"
     ]
    }
   ],
   "source": [
    "print(dataframe['AVProductsInstalled'].unique())"
   ]
  },
  {
   "cell_type": "markdown",
   "metadata": {},
   "source": [
    "AVProductsEnabled"
   ]
  },
  {
   "cell_type": "code",
   "execution_count": 19,
   "metadata": {},
   "outputs": [
    {
     "name": "stdout",
     "output_type": "stream",
     "text": [
      "[ 1.  2.  0.  4. nan  3.  5.]\n"
     ]
    }
   ],
   "source": [
    "print(dataframe['AVProductsEnabled'].unique())"
   ]
  },
  {
   "cell_type": "markdown",
   "metadata": {},
   "source": [
    "HasTpm"
   ]
  },
  {
   "cell_type": "code",
   "execution_count": 20,
   "metadata": {},
   "outputs": [
    {
     "name": "stdout",
     "output_type": "stream",
     "text": [
      "[1 0]\n"
     ]
    }
   ],
   "source": [
    "print(dataframe['HasTpm'].unique())"
   ]
  },
  {
   "cell_type": "markdown",
   "metadata": {},
   "source": [
    "CountryIdentifier"
   ]
  },
  {
   "cell_type": "code",
   "execution_count": 21,
   "metadata": {},
   "outputs": [
    {
     "name": "stdout",
     "output_type": "stream",
     "text": [
      "[ 29  93  86  88  18  97  78 164 107  80 171 169 157 178 158  43 147  12\n",
      " 203 205 199   9  68 201 141  35 159 160 129  44 207  15  89   3 108  55\n",
      " 195 214 148 100  16 155 190  95  53 204  94   8 152 110 184 132 122  57\n",
      "  39  51  59  70  52 121 149 142  41   2 179 180  27 103 167 101 220 119\n",
      " 173  84 166  60  56 150  99  66  24 151  19  91  81  50 168 162  21 154\n",
      "  45 137   7 139 123  37 177  33 104 188 202 211 112 118 144 115 221  98\n",
      "  85 208  11  40  58 120 170 102 145 215 143  62 163  48 222 131 156 124\n",
      "  90 106  28  73  30  63  26  22 117 183  49  96  61 185 138 172 133 127\n",
      "  87  46  42   5  71  32 198 197  17   6 113  83  36 135 153 206  25  38\n",
      " 219 140  34  67  23 130 175 136  13 111  74  47 192 210 146  76 191 125\n",
      " 176 209   4 218 182  92 194  77 134 196  10 186  69  82   1 181  31  54\n",
      "  20 109 116  65 213 126 189 174  75 165 114  79 128  72 217 187  64  14\n",
      " 200 216 212 193 105 161]\n"
     ]
    }
   ],
   "source": [
    "print(dataframe['CountryIdentifier'].unique())"
   ]
  },
  {
   "cell_type": "markdown",
   "metadata": {},
   "source": [
    "GeoNameIdentifierAvSigVersion"
   ]
  },
  {
   "cell_type": "code",
   "execution_count": 22,
   "metadata": {},
   "outputs": [
    {
     "name": "stdout",
     "output_type": "stream",
     "text": [
      "[ 35. 119.  64. 117. 277. 126.  89. 205. 138. 101. 211. 209. 199. 230.\n",
      " 202.  53. 187.  15. 255. 274. 266.  10. 276. 267. 240.  45. 204.  57.\n",
      "  17. 120.  75. 185. 253.  71. 122. 184. 287.  76. 252.  98. 167.  77.\n",
      " 258. 148. 181. 157.  52. 224. 234. 233.  30. 186. 129. 237. 151. 200.\n",
      " 192.   3.   6.  24. 125. 107.  68.  39. 121. 198.  63. 294. 160.  11.\n",
      " 171. 251.  23. 207.  78. 194.  32. 241. 114. 282.  16. 154.  81. 144.\n",
      " 201. 264.  88. 206.  29. 284. 180.  66.  85. 150. 175.  91. 257. 123.\n",
      " 243. 226.  87. 275. 134. 145. 143.  19. 225.  67. 248. 115. 127. 133.\n",
      " 152. 155.   9. 165. 259.  90.  22. 176.  97.  21.  99. 286. 244. 111.\n",
      "  65. 140. 163. 273.  84. 208. 191. 250. 235.   2. 135. 170. 193. 109.\n",
      "  18. 118.  38.  12. 295. 177.   1. 281. 183.  33.  44. 246. 104. 110.\n",
      " 158. 178. 141. 166.  25.  69. 146.  80. 172. 261.  70. 112. 196. 228.\n",
      " 293.  43. 159. 100. 156.  27.  96. 147. 236.  46.   5. 227. 270.  60.\n",
      " 103. 173. 153. 105. 182. 113.  94. 247.  40. 102. 283. 221. 239. 268.\n",
      " 223. 128.  74. 263. 215.  86.  26. 131.  28.  82.  61. 149.  50.   7.\n",
      " 203.  34.  37. 162. 229. 271. 168. 272. 142. 288.  56. 232.  93. 289.\n",
      "  nan 269. 254. 164. 108.  58.   4. 285. 222.  54.  41. 195. 256. 161.\n",
      " 238.  49.  79. 174.  48. 220. 212.  36. 216. 139. 179.  73. 296.  31.\n",
      " 218.  59.  47. 291. 213. 188. 214. 262. 137.   8. 190. 217. 290. 245.\n",
      " 231. 124.  42. 189. 136. 260. 242. 292. 197.  95.  13. 280.  14.  51.\n",
      "  72. 210. 249. 265. 132. 169. 116. 106.  92. 219.  55. 279. 278.]\n"
     ]
    }
   ],
   "source": [
    "print(dataframe['GeoNameIdentifier'].unique())"
   ]
  },
  {
   "cell_type": "markdown",
   "metadata": {},
   "source": [
    "LocaleEnglishNameIdentifier"
   ]
  },
  {
   "cell_type": "code",
   "execution_count": 23,
   "metadata": {},
   "outputs": [
    {
     "name": "stdout",
     "output_type": "stream",
     "text": [
      "[171  64  49 115  75 124  88 172 134 107 182  74  71  70  42  58  46 266\n",
      " 214 251 233  60 170 218 118 221 228  17  52  69  83 106 103 227  12  56\n",
      "  68 226 211 210 216 277 126 217  72  91  16 230   8  55 113 224  51  34\n",
      " 168 229 219   7  22  93 239  15 223 262 222 235 246  32 225 236 102 162\n",
      " 253  77 139 231  73 105  97  80 232 215 140  94  81  66   5   6  96 202\n",
      "  13  19  44  67 129  36 176   9  45  61  63  65 283 265  10 179 234 125\n",
      " 132 178  14 263 116  79  76  35 199 198 114  82 101   2 269 121  26 135\n",
      " 238  59  95 160  90  43 154  92 147 237  11 159 209 143  78 200  24 144\n",
      " 260  85 192 149 272  50 201 100  21   1 212 104 208  33   3 142  30 166\n",
      "  87  62 152 252  89 276 247 158 108  41 278 169 163  20 136  54 117   4\n",
      "  40  25 187 181 180  18 141 112  28 110 270 242 173 271 174 177  29 157\n",
      " 243 250 130 111 175 148  48 186 240 196 145 150 189  53 133 254 282 155\n",
      " 188 195  98 127  84  31 245 167 164 197 206 275 220 274 194  86 138 205\n",
      " 119 273 191 183 109 131  23 248 280 151 123 241 244  38 204 264 161 257\n",
      "  47 165 128 185 122 267 258 213 153 249  27 279 137 184 156 193 190 146\n",
      " 120 255  39  99 203 259]\n"
     ]
    }
   ],
   "source": [
    "print(dataframe['LocaleEnglishNameIdentifier'].unique())"
   ]
  },
  {
   "cell_type": "markdown",
   "metadata": {},
   "source": [
    "Platform"
   ]
  },
  {
   "cell_type": "code",
   "execution_count": 24,
   "metadata": {},
   "outputs": [
    {
     "name": "stdout",
     "output_type": "stream",
     "text": [
      "['windows10' 'windows7' 'windows8' 'windows2016']\n"
     ]
    }
   ],
   "source": [
    "print(dataframe['Platform'].unique())"
   ]
  },
  {
   "cell_type": "code",
   "execution_count": 25,
   "metadata": {},
   "outputs": [],
   "source": [
    "unique_valuesPlatform = dataframe['Platform'].unique()\n",
    "\n",
    "# Mappeo los valores unicos por numeros\n",
    "value_to_number = {value: index + 1 for index, value in enumerate(unique_valuesPlatform)}\n",
    "\n",
    "# Cambio los valores por los numeros \n",
    "dfC['Platform'] = dfC['Platform'].map(value_to_number)"
   ]
  },
  {
   "cell_type": "code",
   "execution_count": 26,
   "metadata": {},
   "outputs": [
    {
     "name": "stdout",
     "output_type": "stream",
     "text": [
      "0    1\n",
      "1    1\n",
      "2    1\n",
      "3    1\n",
      "4    1\n",
      "5    1\n",
      "6    1\n",
      "Name: Platform, dtype: int64\n"
     ]
    }
   ],
   "source": [
    "print(dfC['Platform'].head(7))"
   ]
  },
  {
   "cell_type": "markdown",
   "metadata": {},
   "source": [
    "Processor"
   ]
  },
  {
   "cell_type": "code",
   "execution_count": 27,
   "metadata": {},
   "outputs": [
    {
     "name": "stdout",
     "output_type": "stream",
     "text": [
      "['x64' 'arm64' 'x86']\n"
     ]
    }
   ],
   "source": [
    "print(dataframe['Processor'].unique())"
   ]
  },
  {
   "cell_type": "code",
   "execution_count": 28,
   "metadata": {},
   "outputs": [],
   "source": [
    "unique_valuesProcessor = dataframe['Processor'].unique()\n",
    "\n",
    "# Mappeo los valores unicos por numeros\n",
    "value_to_number = {value: index + 1 for index, value in enumerate(unique_valuesProcessor)}\n",
    "\n",
    "# Cambio los valores por los numeros \n",
    "dfC['Processor'] = dfC['Processor'].map(value_to_number)"
   ]
  },
  {
   "cell_type": "code",
   "execution_count": 29,
   "metadata": {},
   "outputs": [
    {
     "name": "stdout",
     "output_type": "stream",
     "text": [
      "0    1\n",
      "1    1\n",
      "2    1\n",
      "3    1\n",
      "4    1\n",
      "5    1\n",
      "6    1\n",
      "Name: Processor, dtype: int64\n"
     ]
    }
   ],
   "source": [
    "print(dfC['Processor'].head(7))"
   ]
  },
  {
   "cell_type": "markdown",
   "metadata": {},
   "source": [
    "OsVer"
   ]
  },
  {
   "cell_type": "code",
   "execution_count": 30,
   "metadata": {},
   "outputs": [
    {
     "name": "stdout",
     "output_type": "stream",
     "text": [
      "['10.0.0.0' '6.1.1.0' '6.3.0.0' '10.0.1.44' '6.1.0.0' '6.3.1.0' '6.1.3.0'\n",
      " '10.0.3.0' '10.0.1.0' '10.0.32.72' '10.0.2.0' '10.0.5.18' '10.0.0.1'\n",
      " '10.0.21.0' '6.3.3.0' '10.0.4.0' '10.0.80.0' '10.0.7.0' '10.0.5.0'\n",
      " '6.3.4.0' '10.0.32.0' '10.0.3.80' '10.0.2.86' '10.0.19.80' '10.0.16.36'\n",
      " '6.1.0.112' '10.0.5.117' '10.0.48.0' '6.3.16.0' '10.0.16.0' '10.0.1.144'\n",
      " '10.0.7.101' '6.1.7.0' '6.1.0.128' '10.0.0.96' '10.0.0.112' '10.0.0.22'\n",
      " '10.0.153.153' '10.0.8.0' '10.0.23.0' '6.3.0.16' '10.0.0.3' '6.3.5.0'\n",
      " '10.0.6.0' '6.1.2.0' '6.3.80.0' '6.1.6.0' '6.1.4.0' '6.3.32.72'\n",
      " '6.1.16.36' '10.0.4.80' '6.3.1.144' '6.3.0.2' '6.3.0.117' '10.0.0.2'\n",
      " '6.3.0.112' '10.0.0.80' '6.3.7.0']\n"
     ]
    }
   ],
   "source": [
    "print(dataframe['OsVer'].unique())"
   ]
  },
  {
   "cell_type": "code",
   "execution_count": 31,
   "metadata": {},
   "outputs": [],
   "source": [
    "unique_valuesOsVer = dataframe['OsVer'].unique()\n",
    "\n",
    "# Mappeo los valores unicos por numeros\n",
    "value_to_number = {value: index + 1 for index, value in enumerate(unique_valuesOsVer)}\n",
    "\n",
    "# Cambio los valores por los numeros \n",
    "dfC['OsVer'] = dfC['OsVer'].map(value_to_number)"
   ]
  },
  {
   "cell_type": "code",
   "execution_count": 32,
   "metadata": {},
   "outputs": [
    {
     "name": "stdout",
     "output_type": "stream",
     "text": [
      "0    1\n",
      "1    1\n",
      "2    1\n",
      "3    1\n",
      "4    1\n",
      "5    1\n",
      "6    1\n",
      "Name: OsVer, dtype: int64\n"
     ]
    }
   ],
   "source": [
    "print(dfC['OsVer'].head(7))"
   ]
  },
  {
   "cell_type": "markdown",
   "metadata": {},
   "source": [
    "OsBuild"
   ]
  },
  {
   "cell_type": "code",
   "execution_count": 33,
   "metadata": {},
   "outputs": [
    {
     "name": "stdout",
     "output_type": "stream",
     "text": [
      "[17134 14393 16299  7601  9600 10240 15063 10586 17744 17692 17738 17751\n",
      " 17755 17730 17733 17746 17735 17754 17741 17713 17740 17672 17758 17763\n",
      "  7600 17666 17677 17686 17747 17760 17759 17682 17761 17704 17661 17643\n",
      " 18234 17618 18204 17639 17634 17728 18237 18242 17133 17723 17650 17711\n",
      " 18219 18240 17627 17655 18214 18201 17604 18224 18241 17689 17718 17753\n",
      " 18227 18238 17725 17694 17757 18233 17623 17756 17749 17734 17752 18226\n",
      " 18230 18244 18236 17750]\n"
     ]
    }
   ],
   "source": [
    "print(dataframe['OsBuild'].unique())"
   ]
  },
  {
   "cell_type": "markdown",
   "metadata": {},
   "source": [
    "OsSuite"
   ]
  },
  {
   "cell_type": "code",
   "execution_count": 34,
   "metadata": {},
   "outputs": [
    {
     "name": "stdout",
     "output_type": "stream",
     "text": [
      "[256 768 272  16 400 784 305 274  49 144 402 528 307  18]\n"
     ]
    }
   ],
   "source": [
    "print(dataframe['OsSuite'].unique())"
   ]
  },
  {
   "cell_type": "markdown",
   "metadata": {},
   "source": [
    "OsPlatformSubRelease"
   ]
  },
  {
   "cell_type": "code",
   "execution_count": 35,
   "metadata": {},
   "outputs": [
    {
     "name": "stdout",
     "output_type": "stream",
     "text": [
      "['rs4' 'rs1' 'rs3' 'windows7' 'windows8.1' 'th1' 'rs2' 'th2' 'prers5']\n"
     ]
    }
   ],
   "source": [
    "print(dataframe['OsPlatformSubRelease'].unique())"
   ]
  },
  {
   "cell_type": "code",
   "execution_count": 36,
   "metadata": {},
   "outputs": [],
   "source": [
    "unique_valuesOsPlatformSubRelease = dataframe['OsPlatformSubRelease'].unique()\n",
    "\n",
    "# Mappeo los valores unicos por numeros\n",
    "value_to_number = {value: index + 1 for index, value in enumerate(unique_valuesOsPlatformSubRelease)}\n",
    "\n",
    "# Cambio los valores por los numeros \n",
    "dfC['OsPlatformSubRelease'] = dfC['OsPlatformSubRelease'].map(value_to_number)"
   ]
  },
  {
   "cell_type": "code",
   "execution_count": 37,
   "metadata": {},
   "outputs": [
    {
     "name": "stdout",
     "output_type": "stream",
     "text": [
      "0    1\n",
      "1    1\n",
      "2    1\n",
      "3    1\n",
      "4    1\n",
      "5    1\n",
      "6    1\n",
      "Name: OsPlatformSubRelease, dtype: int64\n"
     ]
    }
   ],
   "source": [
    "print(dfC['OsPlatformSubRelease'].head(7))"
   ]
  },
  {
   "cell_type": "markdown",
   "metadata": {},
   "source": [
    "OsBuildLab"
   ]
  },
  {
   "cell_type": "code",
   "execution_count": 38,
   "metadata": {},
   "outputs": [
    {
     "name": "stdout",
     "output_type": "stream",
     "text": [
      "['17134.1.amd64fre.rs4_release.180410-1804'\n",
      " '14393.0.amd64fre.rs1_release.160715-1616'\n",
      " '16299.431.amd64fre.rs3_release_svc_escrow.180502-1908'\n",
      " '17134.1.arm64fre.rs4_release.180410-1804'\n",
      " '7601.18409.amd64fre.win7sp1_gdr.140303-2144'\n",
      " '16299.15.amd64fre.rs3_release.170928-1534'\n",
      " '9600.19067.x86fre.winblue_ltsb_escrow.180619-2033'\n",
      " '10240.17914.amd64fre.th1.180627-1911'\n",
      " '17134.1.x86fre.rs4_release.180410-1804'\n",
      " '16299.15.x86fre.rs3_release.170928-1534'\n",
      " '14393.576.x86fre.rs1_release_inmarket.161208-2252'\n",
      " '15063.0.amd64fre.rs2_release.170317-1834'\n",
      " '9600.19067.amd64fre.winblue_ltsb_escrow.180619-2033'\n",
      " '10586.545.amd64fre.th2_release.160802-1857'\n",
      " '9600.19125.amd64fre.winblue_ltsb.180812-0703'\n",
      " '14393.1593.amd64fre.rs1_release.170731-1934'\n",
      " '14393.2189.amd64fre.rs1_release.180329-1711'\n",
      " '9600.19000.amd64fre.winblue_ltsb.180410-0600'\n",
      " '10586.420.amd64fre.th2_release_sec.160527-1834'\n",
      " '10586.589.x86fre.th2_release.160906-1759'\n",
      " '14393.2189.x86fre.rs1_release.180329-1711'\n",
      " '10240.16384.amd64fre.th1.150709-1700'\n",
      " '16299.402.amd64fre.rs3_release_svc_escrow_im.180415-0955'\n",
      " '10586.306.amd64fre.th2_release_sec.160422-1850'\n",
      " '10240.17443.amd64fre.th1.170602-2340'\n",
      " '10586.1176.amd64fre.th2_release_sec.170913-1848'\n",
      " '14393.321.x86fre.rs1_release_inmarket.161004-2338'\n",
      " '15063.0.x86fre.rs2_release.170317-1834'\n",
      " '10240.16393.amd64fre.th1_st1.150717-1719'\n",
      " '9600.18969.x86fre.winblue_ltsb.180309-0600'\n",
      " '14393.447.amd64fre.rs1_release_inmarket.161102-0100'\n",
      " '10586.103.amd64fre.th2_release.160126-1819'\n",
      " '10586.122.amd64fre.th2_release_inmarket.160222-1549'\n",
      " '14393.1066.amd64fre.rs1_release_sec.170327-1835'\n",
      " '9600.18589.amd64fre.winblue_ltsb.170204-0600'\n",
      " '14393.1715.amd64fre.rs1_release_inmarket.170906-1810'\n",
      " '10586.1176.x86fre.th2_release_sec.170913-1848'\n",
      " '9600.19101.amd64fre.winblue_ltsb_escrow.180718-1800'\n",
      " '14393.2007.x86fre.rs1_release.171231-1800'\n",
      " '14393.1914.amd64fre.rs1_release_inmarket.171117-1700'\n",
      " '10586.162.x86fre.th2_release_sec.160223-1728'\n",
      " '14393.2214.amd64fre.rs1_release_1.180402-1758'\n",
      " '9600.18289.amd64fre.winblue_ltsb.160328-1315'\n",
      " '10240.17946.amd64fre.th1.180806-2045'\n",
      " '7601.23418.amd64fre.win7sp1_ldr.160408-2045'\n",
      " '10240.17354.amd64fre.th1_st1.170327-1827'\n",
      " '10586.0.amd64fre.th2_release.151029-1700'\n",
      " '10586.494.amd64fre.th2_release_sec.160630-1736'\n",
      " '7601.24214.amd64fre.win7sp1_ldr_escrow.180801-1700'\n",
      " '10240.17443.x86fre.th1.170602-2340'\n",
      " '14393.2068.amd64fre.rs1_release.180209-1727'\n",
      " '10586.162.amd64fre.th2_release_sec.160223-1728'\n",
      " '16299.637.amd64fre.rs3_release_svc.180808-1748'\n",
      " '10240.16412.amd64fre.th1.150729-1800'\n",
      " '10240.17113.amd64fre.th1.160906-1755'\n",
      " '7601.23418.x86fre.win7sp1_ldr.160408-2045'\n",
      " '7601.24168.x86fre.win7sp1_ldr.180608-0600'\n",
      " '14393.2214.x86fre.rs1_release_1.180402-1758'\n",
      " '10240.16590.amd64fre.th1_st1.151104-1714'\n",
      " '14393.351.amd64fre.rs1_release_inmarket.161014-1755'\n",
      " '7601.24168.amd64fre.win7sp1_ldr.180608-0600'\n",
      " '14393.1944.x86fre.rs1_release.171129-2100'\n",
      " '14393.1770.amd64fre.rs1_release.170917-1700'\n",
      " '14393.1794.amd64fre.rs1_release.171008-1615'\n",
      " '14393.576.amd64fre.rs1_release_inmarket.161208-2252'\n",
      " '10586.839.amd64fre.th2_release.170303-1605'\n",
      " '14393.2395.amd64fre.rs1_release_inmarket.180714-1932'\n",
      " '14393.2035.amd64fre.rs1_release_inmarket.180110-1910'\n",
      " '9600.18969.amd64fre.winblue_ltsb.180309-0600'\n",
      " '10586.0.x86fre.th2_release.151029-1700'\n",
      " '9600.18505.amd64fre.winblue_ltsb.160930-0600'\n",
      " '14393.1198.amd64fre.rs1_release_sec.170427-1353'\n",
      " '14393.693.x86fre.rs1_release.161220-1747'\n",
      " '14393.1066.x86fre.rs1_release_sec.170327-1835'\n",
      " '14393.1358.amd64fre.rs1_release.170602-2252'\n",
      " '10586.306.x86fre.th2_release_sec.160422-1850'\n",
      " '7601.23915.amd64fre.win7sp1_ldr.170913-0600'\n",
      " '14393.1198.x86fre.rs1_release_sec.170427-1353'\n",
      " '14393.693.amd64fre.rs1_release.161220-1747'\n",
      " '14393.2007.amd64fre.rs1_release.171231-1800'\n",
      " '14393.2430.amd64fre.rs1_release_inmarket_aim.180806-1810'\n",
      " '10586.11.amd64fre.th2_release.151112-1900'\n",
      " '10586.1106.amd64fre.th2_release.170904-1742'\n",
      " '14393.82.amd64fre.rs1_release.160805-1735'\n",
      " '7601.18798.amd64fre.win7sp1_gdr.150316-1654'\n",
      " '10586.494.x86fre.th2_release_sec.160630-1736'\n",
      " '10240.16384.x86fre.th1.150709-1700'\n",
      " '10586.63.amd64fre.th2_release.160104-1513'\n",
      " '16299.637.x86fre.rs3_release_svc.180808-1748'\n",
      " '9600.19035.amd64fre.winblue_ltsb_escrow.180522-1700'\n",
      " '14393.2430.x86fre.rs1_release_inmarket_aim.180806-1810'\n",
      " '10586.962.x86fre.th2_release.170602-2241'\n",
      " '10586.420.x86fre.th2_release_sec.160527-1834'\n",
      " '17744.1001.amd64fre.rs5_release.180818-1845'\n",
      " '10586.672.amd64fre.th2_release_sec.161024-1825'\n",
      " '10586.633.amd64fre.th2_release.161004-1602'\n",
      " '9600.18821.amd64fre.winblue_ltsb.170914-0600'\n",
      " '10586.11.x86fre.th2_release.151112-1900'\n",
      " '7601.24214.x86fre.win7sp1_ldr_escrow.180801-1700'\n",
      " '14393.187.amd64fre.rs1_release_inmarket.160906-1818'\n",
      " '7601.24093.amd64fre.win7sp1_ldr_escrow.180327-2230'\n",
      " '10586.1045.amd64fre.th2_release.170728-1941'\n",
      " '10586.17.x86fre.th2_release.151121-2308'\n",
      " '14393.1480.amd64fre.rs1_release.170706-2004'\n",
      " '14393.1944.amd64fre.rs1_release.171129-2100'\n",
      " '14393.2125.amd64fre.rs1_release.180301-2139'\n",
      " '7601.24150.amd64fre.win7sp1_ldr_escrow.180528-1700'\n",
      " '9600.18895.amd64fre.winblue_ltsb.180101-1800'\n",
      " '17692.1004.amd64fre.rs_prerelease_flt.180625-1624'\n",
      " '10586.212.amd64fre.th2_release_sec.160328-1908'\n",
      " '14393.953.amd64fre.rs1_release_inmarket.170303-1614'\n",
      " '10586.916.amd64fre.th2_release_sec.170427-1350'\n",
      " '7601.24231.amd64fre.win7sp1_ldr.180810-0600'\n",
      " '14393.2248.amd64fre.rs1_release.180427-1804'\n",
      " '10586.3.amd64fre.th2_release_sec.151104-1948'\n",
      " '10586.589.amd64fre.th2_release.160906-1759'\n",
      " '14393.2097.amd64fre.rs1_release_1.180212-1105'\n",
      " '14393.1593.x86fre.rs1_release.170731-1934'\n",
      " '10586.545.x86fre.th2_release.160802-1857'\n",
      " '14393.2485.x86fre.rs1_release.180827-1809'\n",
      " '7601.23807.amd64fre.win7sp1_ldr.170512-0600'\n",
      " '7601.18247.amd64fre.win7sp1_gdr.130828-1532'\n",
      " '10586.672.x86fre.th2_release_sec.161024-1825'\n",
      " '14393.0.x86fre.rs1_release.160715-1616'\n",
      " '9600.18946.amd64fre.winblue_ltsb_escrow.180302-1800'\n",
      " '10586.962.amd64fre.th2_release.170602-2241'\n",
      " '17738.1000.amd64fre.rs5_release.180810-1706'\n",
      " '17751.1.amd64fre.rs5_release.180828-1428'\n",
      " '14393.2125.x86fre.rs1_release.180301-2139'\n",
      " '7601.24150.x86fre.win7sp1_ldr_escrow.180528-1700'\n",
      " '14393.321.amd64fre.rs1_release_inmarket.161004-2338'\n",
      " '10240.16412.x86fre.th1.150729-1800'\n",
      " '14393.1480.x86fre.rs1_release.170706-2004'\n",
      " '7601.24024.x86fre.win7sp1_ldr.180112-0600'\n",
      " '10586.17.amd64fre.th2_release.151121-2308'\n",
      " '10240.17319.amd64fre.th1.170303-1600'\n",
      " '10586.1007.amd64fre.th2_release.170706-2002'\n",
      " '10240.16644.amd64fre.th1.160104-1507'\n",
      " '10240.16463.amd64fre.th1.150819-1946'\n",
      " '7601.23864.amd64fre.win7sp1_ldr.170707-0600'\n",
      " '14393.2068.x86fre.rs1_release.180209-1727'\n",
      " '14393.2457.amd64fre.rs1_release_inmarket.180822-1743'\n",
      " '10586.212.x86fre.th2_release_sec.160328-1908'\n",
      " '10240.17184.amd64fre.th1_st1.161024-1820'\n",
      " '10240.17889.amd64fre.th1_st1.180529-1823'\n",
      " '17755.1.amd64fre.rs5_release.180904-1423'\n",
      " '7601.24094.amd64fre.win7sp1_ldr_escrow.180330-1600'\n",
      " '10240.16841.amd64fre.th1_st1.160408-1853'\n",
      " '10240.17861.amd64fre.th1.180427-1806'\n",
      " '14393.1914.x86fre.rs1_release_inmarket.171117-1700'\n",
      " '14393.447.x86fre.rs1_release_inmarket.161102-0100'\n",
      " '14393.1358.x86fre.rs1_release.170602-2252'\n",
      " '10586.839.x86fre.th2_release.170303-1605'\n",
      " '10240.17071.amd64fre.th1.160802-1852'\n",
      " '10240.17202.amd64fre.th1_st1.161118-1836'\n",
      " '10586.1106.x86fre.th2_release.170904-1742'\n",
      " '10240.16393.x86fre.th1_st1.150717-1719'\n",
      " '9600.18292.amd64fre.winblue_ltsb.160330-1744'\n",
      " '10586.103.x86fre.th2_release.160126-1819'\n",
      " '7601.23539.amd64fre.win7sp1_ldr.160902-0600'\n",
      " '7601.23796.amd64fre.win7sp1_ldr.170427-1518'\n",
      " '9600.19101.x86fre.winblue_ltsb_escrow.180718-1800'\n",
      " '7601.24000.amd64fre.win7sp1_ldr.171231-1547'\n",
      " '14393.2248.x86fre.rs1_release.180427-1804'\n",
      " '14393.953.x86fre.rs1_release_inmarket.170303-1614'\n",
      " '14393.2273.amd64fre.rs1_release_1.180427-1811'\n",
      " '14393.223.amd64fre.rs1_release_inmarket_rim.161002-1903'\n",
      " '9600.18931.amd64fre.winblue_ltsb.180201-0600'\n",
      " '14393.1794.x86fre.rs1_release.171008-1615'\n",
      " '10586.1007.x86fre.th2_release.170706-2002'\n",
      " '7601.24231.x86fre.win7sp1_ldr.180810-0600'\n",
      " '14393.206.amd64fre.rs1_release.160915-0644'\n",
      " '17730.1000.amd64fre.rs5_release.180731-1427'\n",
      " '10586.3.x86fre.th2_release_sec.151104-1948'\n",
      " '17733.1000.amd64fre.rs5_release.180803-1525'\n",
      " '14393.2363.amd64fre.rs1_release.180625-1741'\n",
      " '7601.19160.amd64fre.win7sp1_gdr.160211-0600'\n",
      " '7601.24094.x86fre.win7sp1_ldr_escrow.180330-1600'\n",
      " '10240.17113.x86fre.th1.160906-1755'\n",
      " '14393.206.x86fre.rs1_release.160915-0644'\n",
      " '7601.23569.x86fre.win7sp1_ldr.161007-0600'\n",
      " '7601.23572.x86fre.win7sp1_ldr.161011-0600'\n",
      " '14393.2363.x86fre.rs1_release.180625-1741'\n",
      " '7601.24000.x86fre.win7sp1_ldr.171231-1547'\n",
      " '7601.23915.x86fre.win7sp1_ldr.170913-0600'\n",
      " '14393.2368.x86fre.rs1_release_inmarket_aim.180712-1833'\n",
      " '10240.17976.amd64fre.th1.180905-1120'\n",
      " '17746.1000.amd64fre.rs5_release.180821-1736'\n",
      " '10586.916.x86fre.th2_release_sec.170427-1350'\n",
      " '14393.2457.x86fre.rs1_release_inmarket.180822-1743'\n",
      " '10586.122.x86fre.th2_release_inmarket.160222-1549'\n",
      " '17735.1000.amd64fre.rs5_release.180807-1451'\n",
      " '7601.23564.amd64fre.win7sp1_ldr.160930-0600'\n",
      " '17754.1.amd64fre.rs5_release.180831-1429'\n",
      " '17741.1000.amd64fre.rs5_release.180814-1430'\n",
      " '10586.338.amd64fre.th2_release.160517-1918'\n",
      " '17713.1000.amd64fre.rs5_release.180706-1551'\n",
      " '17740.1000.arm64fre.rs5_release.180813-1429'\n",
      " '7601.24117.x86fre.win7sp1_ldr_escrow.180422-1430'\n",
      " '14393.1770.x86fre.rs1_release.170917-1700'\n",
      " '7601.24117.amd64fre.win7sp1_ldr_escrow.180422-1430'\n",
      " '9600.17630.amd64fre.winblue_r7.150109-2022'\n",
      " '17672.1000.amd64fre.rs_prerelease.180511-1445'\n",
      " '14393.103.x86fre.rs1_release_inmarket.160819-1924'\n",
      " '17758.1.amd64fre.rs5_release.180907-1536'\n",
      " '10240.17709.amd64fre.th1.171130-0900'\n",
      " '9600.19000.x86fre.winblue_ltsb.180410-0600'\n",
      " '14393.2485.amd64fre.rs1_release.180827-1809'\n",
      " '10586.1045.x86fre.th2_release.170728-1941'\n",
      " '17763.1.amd64fre.rs5_release.180914-1434'\n",
      " '7601.24024.amd64fre.win7sp1_ldr.180112-0600'\n",
      " '7601.19045.x86fre.win7sp1_gdr.151019-1254'\n",
      " '9600.18264.amd64fre.winblue_ltsb.160310-0600'\n",
      " '7600.17795.x86fre.win7_gdr.150318-1623'\n",
      " '14393.1715.x86fre.rs1_release_inmarket.170906-1810'\n",
      " '14393.726.x86fre.rs1_release.170112-1758'\n",
      " '17666.1000.amd64fre.rs_prerelease.180504-1501'\n",
      " '17713.1000.x86fre.rs5_release.180706-1551'\n",
      " '9600.19125.x86fre.winblue_ltsb.180812-0703'\n",
      " '10240.17022.amd64fre.th1_st1.160623-1726'\n",
      " '10586.633.x86fre.th2_release.161004-1602'\n",
      " '7601.23677.amd64fre.win7sp1_ldr.170209-0600'\n",
      " '17758.1.x86fre.rs5_release.180907-1536'\n",
      " '9600.18790.amd64fre.winblue_ltsb.170810-1616'\n",
      " '17735.1000.x86fre.rs5_release.180807-1451'\n",
      " '17677.1000.amd64fre.rs_prerelease.180520-0940'\n",
      " '17763.1.x86fre.rs5_release.180914-1434'\n",
      " '14393.2515.amd64fre.rs1_release_1.180830-1044'\n",
      " '14393.351.x86fre.rs1_release_inmarket.161014-1755'\n",
      " '17686.1003.amd64fre.rs_prerelease.180603-1447'\n",
      " '14393.2368.amd64fre.rs1_release_inmarket_aim.180712-1833'\n",
      " '9600.18685.amd64fre.winblue_ltsb.170427-1704'\n",
      " '14393.479.amd64fre.rs1_release.161110-2025'\n",
      " '7601.23889.amd64fre.win7sp1_ldr.170810-1615'\n",
      " '17747.1000.amd64fre.rs5_release_sigma.180822-1727'\n",
      " '7601.23455.amd64fre.win7sp1_ldr.160516-0600'\n",
      " '9600.18946.x86fre.winblue_ltsb_escrow.180302-1800'\n",
      " '10240.17533.amd64fre.th1.170801-1946'\n",
      " '10240.16515.amd64fre.th1.150916-2039'\n",
      " '9600.17238.amd64fre.winblue_gdr.140723-2018'\n",
      " '14314.1944.amd64fre.rs1_release.171194-2100'\n",
      " '10240.17146.x86fre.th1_st1.160929-1748'\n",
      " '9600.17415.amd64fre.winblue_r4.141028-1500'\n",
      " '9600.18758.amd64fre.winblue_ltsb.170707-0600'\n",
      " '7601.18869.x86fre.win7sp1_gdr.150525-0603'\n",
      " '14393.103.amd64fre.rs1_release_inmarket.160819-1924'\n",
      " '10240.17394.amd64fre.th1_st1.170427-1347'\n",
      " '17760.1.amd64fre.rs5_release.180911-1415'\n",
      " '7601.23392.x86fre.win7sp1_ldr.160317-0600'\n",
      " '14393.2312.amd64fre.rs1_release.180607-1919'\n",
      " '10240.17976.x86fre.th1.180905-1120'\n",
      " '9600.18696.amd64fre.winblue_ltsb.170511-1554'\n",
      " '10240.16545.amd64fre.th1.150930-1750'\n",
      " '9600.18438.amd64fre.winblue_ltsb.160812-0914'\n",
      " '9600.18730.amd64fre.winblue_ltsb.170613-0600'\n",
      " '10240.16463.x86fre.th1.150819-1946'\n",
      " '14393.2155.x86fre.rs1_release_1.180305-1842'\n",
      " '10240.17831.amd64fre.th1_st1.180323-1758'\n",
      " '14393.187.x86fre.rs1_release_inmarket.160906-1818'\n",
      " '9600.19035.x86fre.winblue_ltsb_escrow.180522-1700'\n",
      " '17744.1001.arm64fre.rs5_release.180818-1845'\n",
      " '7601.24060.amd64fre.win7sp1_ldr_escrow.180319-1512'\n",
      " '14393.2339.amd64fre.rs1_release_inmarket.180611-1502'\n",
      " '14393.2035.x86fre.rs1_release_inmarket.180110-1910'\n",
      " '9600.18066.amd64fre.winblue_ltsb.150928-1002'\n",
      " '7601.17514.x86fre.win7sp1_rtm.101119-1850'\n",
      " '17759.1.amd64fre.rs5_release.180910-1322'\n",
      " '7601.19135.amd64fre.win7sp1_gdr.160121-1718'\n",
      " '17746.1000.x86fre.rs5_release.180821-1736'\n",
      " '9600.18378.amd64fre.winblue_ltsb.160611-0600'\n",
      " '14393.2155.amd64fre.rs1_release_1.180305-1842'\n",
      " '7601.23392.amd64fre.win7sp1_ldr.160317-0600'\n",
      " '10240.17738.amd64fre.th1.180101-1159'\n",
      " '9600.18895.x86fre.winblue_ltsb.180101-1800'\n",
      " '7601.23539.x86fre.win7sp1_ldr.160902-0600'\n",
      " '14393.479.x86fre.rs1_release.161110-2025'\n",
      " '10240.17797.x86fre.th1_st1.180228-1829'\n",
      " '14393.1532.amd64fre.rs1_release_d.170711-1840'\n",
      " '7601.23714.amd64fre.win7sp1_ldr.170307-1800'\n",
      " '10240.17146.amd64fre.th1_st1.160929-1748'\n",
      " '10586.63.x86fre.th2_release.160104-1513'\n",
      " '10240.17071.x86fre.th1.160802-1852'\n",
      " '9600.18821.x86fre.winblue_ltsb.170914-0600'\n",
      " '10240.16430.amd64fre.th1.150807-2049'\n",
      " '10240.16431.amd64fre.th1.150810-2333'\n",
      " '10240.17918.amd64fre.th1_escrow.180712-1918'\n",
      " '7601.23889.x86fre.win7sp1_ldr.170810-1615'\n",
      " '14393.2097.x86fre.rs1_release_1.180212-1105'\n",
      " '17692.1000.amd64fre.rs_prerelease.180609-1317'\n",
      " '9600.18202.amd64fre.winblue_ltsb.160119-0600'\n",
      " '16299.431.arm64fre.rs3_release_svc_escrow.180502-1908'\n",
      " '17666.1000.x86fre.rs_prerelease.180504-1501'\n",
      " '17754.1.x86fre.rs5_release.180831-1429'\n",
      " '14393.2312.x86fre.rs1_release.180607-1919'\n",
      " '9600.18931.x86fre.winblue_ltsb.180201-0600'\n",
      " '9600.19038.amd64fre.winblue_ltsb_escrow.180608-1416'\n",
      " '7601.19135.x86fre.win7sp1_gdr.160121-1718'\n",
      " '14393.2339.x86fre.rs1_release_inmarket.180611-1502'\n",
      " '7601.18933.amd64fre.win7sp1_gdr.150715-0600'\n",
      " '7601.19160.x86fre.win7sp1_gdr.160211-0600'\n",
      " '10240.17643.x86fre.th1_st1.170918-1824'\n",
      " '7601.18869.amd64fre.win7sp1_gdr.150525-0603'\n",
      " '14393.82.x86fre.rs1_release.160805-1735'\n",
      " '7600.17795.amd64fre.win7_gdr.150318-1623'\n",
      " '9600.18589.x86fre.winblue_ltsb.170204-0600'\n",
      " '17682.1000.amd64fre.rs_prerelease.180525-1616'\n",
      " '7601.23677.x86fre.win7sp1_ldr.170209-0600'\n",
      " '17761.1001.amd64fre.rs5_release_edge.180912-1739'\n",
      " '9600.18505.x86fre.winblue_ltsb.160930-0600'\n",
      " '10240.17770.amd64fre.th1.180209-1728'\n",
      " '10586.456.amd64fre.th2_release.160617-1853'\n",
      " '9600.17085.amd64fre.winblue_gdr.140330-1035'\n",
      " '10240.16387.amd64fre.th1_st1.150711-1429'\n",
      " '10240.17946.x86fre.th1.180806-2045'\n",
      " '10240.17022.x86fre.th1_st1.160623-1726'\n",
      " '10240.17202.x86fre.th1_st1.161118-1836'\n",
      " '7601.19018.x86fre.win7sp1_gdr.150928-1507'\n",
      " '9600.18258.amd64fre.winblue_ltsb.160303-0600'\n",
      " '17704.1000.amd64fre.rs_prerelease.180623-1611'\n",
      " '10240.16841.x86fre.th1_st1.160408-1853'\n",
      " '9600.17936.amd64fre.winblue_ltsb.150715-0840'\n",
      " '7601.18409.x86fre.win7sp1_gdr.140303-2144'\n",
      " '14393.726.amd64fre.rs1_release.170112-1758'\n",
      " '10240.17914.x86fre.th1.180627-1911'\n",
      " '7601.23569.amd64fre.win7sp1_ldr.161007-0600'\n",
      " '17661.1001.amd64fre.rs_prerelease.180428-1349'\n",
      " '7601.18839.x86fre.win7sp1_gdr.150427-0707'\n",
      " '9600.17668.amd64fre.winblue_r8.150127-1500'\n",
      " '10240.17643.amd64fre.th1_st1.170918-1824'\n",
      " '7600.21980.amd64fre.win7_ldr.150318-1623'\n",
      " '17643.1000.amd64fre.rs_prerelease.180405-1509'\n",
      " '18234.1000.amd64fre.rs_prerelease.180831-1440'\n",
      " '7601.23807.x86fre.win7sp1_ldr.170512-0600'\n",
      " '17692.1004.x86fre.rs_prerelease_flt.180625-1624'\n",
      " '7601.17592.amd64fre.win7sp1_gdr.110408-1631'\n",
      " '10240.16724.x86fre.th1_st1.160222-1812'\n",
      " '14393.1537.amd64fre.rs1_release_inmarket.170731-1907'\n",
      " '17618.1000.amd64fre.rs_prerelease.180302-1651'\n",
      " '10240.16431.x86fre.th1.150810-2333'\n",
      " '9600.18289.x86fre.winblue_ltsb.160328-1315'\n",
      " '9600.17476.amd64fre.winblue_r5.141029-1500'\n",
      " '18204.1001.amd64fre.rs_prerelease.180721-1657'\n",
      " '17639.1000.amd64fre.rs_prerelease.180330-1630'\n",
      " '7601.24009.amd64fre.win7sp1_ldr.180107-0421'\n",
      " '7600.16385.x86fre.win7_rtm.090713-1255' nan\n",
      " '9600.18896.amd64fre.winblue_ltsb_escrow.180108-1534'\n",
      " '9600.17736.amd64fre.winblue_r9.150322-1500'\n",
      " '10240.17889.x86fre.th1_st1.180529-1823'\n",
      " '17634.1000.amd64fre.rs_prerelease.180323-1629'\n",
      " '7601.18526.x86fre.win7sp1_gdr.140706-1506'\n",
      " '7600.16792.x86fre.win7_gdr.110408-1633'\n",
      " '7601.23572.amd64fre.win7sp1_ldr.161011-0600'\n",
      " '10240.16430.x86fre.th1.150807-2049'\n",
      " '7601.24059.x86fre.win7sp1_ldr_escrow.180308-1637'\n",
      " '10240.17709.x86fre.th1.171130-0900'\n",
      " '17728.1000.amd64fre.rs5_release.180727-1721'\n",
      " '10586.639.x86fre.th2_release_inmarket.161014-1749'\n",
      " '10240.16724.amd64fre.th1_st1.160222-1812'\n",
      " '7601.18741.amd64fre.win7sp1_gdr.150202-1526'\n",
      " '10240.17797.amd64fre.th1_st1.180228-1829'\n",
      " '7601.17640.amd64fre.win7sp1_gdr.110622-1506'\n",
      " '9600.18438.x86fre.winblue_ltsb.160812-0914'\n",
      " '10240.16590.x86fre.th1_st1.151104-1714'\n",
      " '7601.18741.x86fre.win7sp1_gdr.150202-1526'\n",
      " '7601.19018.amd64fre.win7sp1_gdr.150928-1507'\n",
      " '7601.23391.x86fre.win7sp1_ldr.160316-0600'\n",
      " '10240.16515.x86fre.th1.150916-2039'\n",
      " '10240.17831.x86fre.th1_st1.180323-1758'\n",
      " '18237.1000.amd64fre.rs_prerelease.180907-1621'\n",
      " '9600.18696.x86fre.winblue_ltsb.170511-1554'\n",
      " '18242.1000.amd64fre.rs_prerelease.180914-1435'\n",
      " '10240.17319.x86fre.th1.170303-1600'\n",
      " '7601.24059.amd64fre.win7sp1_ldr_escrow.180308-1637'\n",
      " '7601.23796.x86fre.win7sp1_ldr.170427-1518'\n",
      " '7601.23349.x86fre.win7sp1_ldr.160210-0600'\n",
      " '10240.17918.x86fre.th1_escrow.180712-1918'\n",
      " '14393.2273.x86fre.rs1_release_1.180427-1811'\n",
      " '7601.23564.x86fre.win7sp1_ldr.160930-0600'\n",
      " '9600.17328.amd64fre.winblue_r3.140827-1500'\n",
      " '9600.18758.x86fre.winblue_ltsb.170707-0600'\n",
      " '7601.18247.x86fre.win7sp1_gdr.130828-1532'\n",
      " '7601.21701.x86fre.win7sp1_ldr.110408-1634'\n",
      " '17686.1003.x86fre.rs_prerelease.180603-1447'\n",
      " '17133.1.amd64fre.rs4_release.180323-1312'\n",
      " '14393.2395.x86fre.rs1_release_inmarket.180714-1932'\n",
      " '7601.19110.amd64fre.win7sp1_gdr.151230-0600'\n",
      " '7601.23714.x86fre.win7sp1_ldr.170307-1800'\n",
      " '7600.16792.amd64fre.win7_gdr.110408-1633'\n",
      " '9600.19128.amd64fre.winblue_ltsb_escrow.180813-1030'\n",
      " '17723.1000.amd64fre.rs5_release.180720-1452'\n",
      " '9600.19038.x86fre.winblue_ltsb_escrow.180608-1416'\n",
      " '7601.23864.x86fre.win7sp1_ldr.170707-0600'\n",
      " '10240.17446.amd64fre.th1_escrow.170616-1918'\n",
      " '9600.18730.x86fre.winblue_ltsb.170613-0600'\n",
      " '17692.1000.x86fre.rs_prerelease.180609-1317'\n",
      " '7601.19045.amd64fre.win7sp1_gdr.151019-1254'\n",
      " '17650.1001.x86fre.rs_prerelease.180414-2140'\n",
      " '10586.1177.amd64fre.th2_release_inmarket.171027-1506'\n",
      " '7601.17835.amd64fre.win7sp1_gdr.120503-2030'\n",
      " '17672.1000.x86fre.rs_prerelease.180511-1445'\n",
      " '16299.15.arm64fre.rs3_release.170928-1534'\n",
      " '10240.16644.x86fre.th1.160104-1507'\n",
      " '7601.18229.amd64fre.win7sp1_gdr.130801-1533'\n",
      " '7601.23338.amd64fre.win7sp1_ldr.160121-1716'\n",
      " '14393.729.amd64fre.rs1_release_inmarket_rim.170123-1753'\n",
      " '17744.1001.x86fre.rs5_release.180818-1845'\n",
      " '9600.17041.amd64fre.winblue_gdr.140305-1710'\n",
      " '7601.18839.amd64fre.win7sp1_gdr.150427-0707'\n",
      " '9600.18685.x86fre.winblue_ltsb.170427-1704'\n",
      " '14393.223.x86fre.rs1_release_inmarket_rim.161002-1903'\n",
      " '7601.24236.x86fre.win7sp1_ldr_escrow.180815-1700'\n",
      " '9600.17415.x86fre.winblue_r4.141028-1500'\n",
      " '10586.240.amd64fre.th2_release.160419-1525'\n",
      " '7601.23391.amd64fre.win7sp1_ldr.160316-0600'\n",
      " '9600.18090.amd64fre.winblue_ltsb.151014-0600'\n",
      " '10240.17861.x86fre.th1.180427-1806'\n",
      " '10586.338.x86fre.th2_release.160517-1918'\n",
      " '7601.18939.amd64fre.win7sp1_gdr.150722-0600'\n",
      " '7601.17514.amd64fre.win7sp1_rtm.101119-1850'\n",
      " '7601.23338.x86fre.win7sp1_ldr.160121-1716'\n",
      " '17741.1000.x86fre.rs5_release.180814-1430'\n",
      " '7601.24236.amd64fre.win7sp1_ldr_escrow.180815-1700'\n",
      " '10240.17394.x86fre.th1_st1.170427-1347'\n",
      " '17755.1.x86fre.rs5_release.180904-1423'\n",
      " '7601.18526.amd64fre.win7sp1_gdr.140706-1506'\n",
      " '17738.1000.x86fre.rs5_release.180810-1706'\n",
      " '9600.17933.amd64fre.winblue_ltsb.150713-1132'\n",
      " '9600.18790.x86fre.winblue_ltsb.170810-1616'\n",
      " '9600.18233.amd64fre.winblue_ltsb.160210-0600'\n",
      " '7600.16539.x86fre.win7_gdr.100226-1909'\n",
      " '9600.18423.amd64fre.winblue_ltsb.160723-0600'\n",
      " '9600.18264.x86fre.winblue_ltsb.160310-0600'\n",
      " '17711.1000.amd64fre.rs_prerelease.180703-1539'\n",
      " '9600.17031.amd64fre.winblue_gdr.140221-1952'\n",
      " '7601.18738.x86fre.win7sp1_gdr.150128-1513'\n",
      " '7601.19110.x86fre.win7sp1_gdr.151230-0600'\n",
      " '17650.1001.amd64fre.rs_prerelease.180414-2140'\n",
      " '9600.18146.amd64fre.winblue_ltsb.151121-0600'\n",
      " '17733.1000.x86fre.rs5_release.180803-1525'\n",
      " '9600.17031.x86fre.winblue_gdr.140221-1952'\n",
      " '9600.18185.amd64fre.winblue_ltsb.151230-0600'\n",
      " '17754.1000.amd64fre.rs5_release_sigma.180831-1700'\n",
      " '7601.17944.x86fre.win7sp1_gdr.120830-0333'\n",
      " '17761.1.amd64fre.rs5_release.180912-1340'\n",
      " '9600.17936.x86fre.winblue_ltsb.150715-0840'\n",
      " '7601.23403.amd64fre.win7sp1_ldr.160325-0600'\n",
      " '18219.1000.amd64fre.rs_prerelease.180810-1721'\n",
      " '7601.24060.x86fre.win7sp1_ldr_escrow.180319-1512'\n",
      " '7601.18939.x86fre.win7sp1_gdr.150722-0600'\n",
      " '10240.16545.x86fre.th1.150930-1750'\n",
      " '18240.1000.x86fre.rs_prerelease.180912-1454'\n",
      " '17627.1000.amd64fre.rs_prerelease.180315-1512'\n",
      " '7601.22943.x86fre.win7sp1_ldr.150126-1511'\n",
      " '17751.1.x86fre.rs5_release.180828-1428'\n",
      " '10240.17533.x86fre.th1.170801-1946'\n",
      " '7601.18933.x86fre.win7sp1_gdr.150715-0600'\n",
      " '17711.1000.x86fre.rs_prerelease.180703-1539'\n",
      " '10240.17184.x86fre.th1_st1.161024-1820'\n",
      " '14393.594.amd64fre.rs1_release_inmarket.161213-1754'\n",
      " '17634.1000.x86fre.rs_prerelease.180323-1629'\n",
      " '18234.1000.x86fre.rs_prerelease.180831-1440'\n",
      " '17677.1000.x86fre.rs_prerelease.180520-0940'\n",
      " '17643.1000.x86fre.rs_prerelease.180405-1509'\n",
      " '7601.23313.x86fre.win7sp1_ldr.151230-0600'\n",
      " '7601.24009.x86fre.win7sp1_ldr.180107-0421'\n",
      " '10240.17354.x86fre.th1_st1.170327-1827'\n",
      " '7600.16617.amd64fre.win7_gdr.100618-1621'\n",
      " '7601.18113.x86fre.win7sp1_gdr.130318-1533'\n",
      " '18240.1000.amd64fre.rs_prerelease.180912-1454'\n",
      " '9600.18378.x86fre.winblue_ltsb.160611-0600'\n",
      " '17655.1000.amd64fre.rs_prerelease.180420-1850'\n",
      " '7601.23455.x86fre.win7sp1_ldr.160516-0600'\n",
      " '9600.18340.amd64fre.winblue_ltsb.160513-1153'\n",
      " '14393.2156.amd64fre.rs1_release_inmarket.180321-1733'\n",
      " '17682.1000.x86fre.rs_prerelease.180525-1616'\n",
      " '14393.1532.x86fre.rs1_release_d.170711-1840'\n",
      " '9600.17238.x86fre.winblue_gdr.140723-2018'\n",
      " '9600.18423.x86fre.winblue_ltsb.160723-0600'\n",
      " '7600.16385.amd64fre.win7_rtm.090713-1255'\n",
      " '14393.2515.x86fre.rs1_release_1.180830-1044'\n",
      " '10586.842.amd64fre.th2_release_inmarket.170318-0600'\n",
      " '17760.1.x86fre.rs5_release.180911-1415'\n",
      " '7601.17803.x86fre.win7sp1_gdr.120330-1504'\n",
      " '10240.17738.x86fre.th1.180101-1159'\n",
      " '7601.18923.amd64fre.win7sp1_gdr.150714-1514'\n",
      " '9600.18090.x86fre.winblue_ltsb.151014-0600'\n",
      " '9600.16452.amd64fre.winblue_gdr.131030-1505'\n",
      " '7601.23223.x86fre.win7sp1_ldr.150928-0600'\n",
      " '16299.1003.x86fre.rs3_release_svc_sec.180829-1725'\n",
      " '7601.18700.x86fre.win7sp1_gdr.141211-1742'\n",
      " '17730.1001.amd64fre.rs5_release_sigma_dev.180801-1815'\n",
      " '7601.18923.x86fre.win7sp1_gdr.150714-1514'\n",
      " '16299.0.amd64fre.rs3_release.170922-1354'\n",
      " '7601.18205.amd64fre.win7sp1_gdr.130708-1532'\n",
      " '14393.1613.amd64fre.rs1_release_d.170807-1806'\n",
      " '18214.1000.amd64fre.rs_prerelease.180803-1553'\n",
      " '7601.18798.x86fre.win7sp1_gdr.150316-1654'\n",
      " '10240.17770.x86fre.th1.180209-1728'\n",
      " '7601.18717.amd64fre.win7sp1_gdr.150113-1808'\n",
      " '7601.17803.amd64fre.win7sp1_gdr.120330-1504'\n",
      " '7601.21866.amd64fre.win7sp1_ldr.111123-1509'\n",
      " '9600.18292.x86fre.winblue_ltsb.160330-1744'\n",
      " '7600.17273.amd64fre.win7_gdr.130318-1532'\n",
      " '7601.23313.amd64fre.win7sp1_ldr.151230-0600'\n",
      " '7600.17118.amd64fre.win7_gdr.120830-0334'\n",
      " '17661.1001.x86fre.rs_prerelease.180428-1349'\n",
      " '7601.17592.x86fre.win7sp1_gdr.110408-1631'\n",
      " '18237.1000.x86fre.rs_prerelease.180907-1621'\n",
      " '10586.456.x86fre.th2_release.160617-1853'\n",
      " '9600.18007.amd64fre.winblue_ltsb.150807-0612'\n",
      " '14389.1944.amd64fre.rs1_release.171179-2100'\n",
      " '14393.594.x86fre.rs1_release_inmarket.161213-1754'\n",
      " '7600.16539.amd64fre.win7_gdr.100226-1909'\n",
      " '7601.18147.x86fre.win7sp1_gdr.130505-1534'\n",
      " '10240.17609.amd64fre.th1.170904-1739'\n",
      " '10586.1177.x86fre.th2_release_inmarket.171027-1506'\n",
      " '7601.18700.amd64fre.win7sp1_gdr.141211-1742'\n",
      " '9600.17085.x86fre.winblue_gdr.140330-1035'\n",
      " '7601.17727.amd64fre.win7sp1_gdr.111118-2330'\n",
      " '9600.18146.x86fre.winblue_ltsb.151121-0600'\n",
      " '9600.17630.x86fre.winblue_r7.150109-2022'\n",
      " '7601.23136.x86fre.win7sp1_ldr.150715-0600'\n",
      " '10240.17488.amd64fre.th1.170705-2101'\n",
      " '7600.17273.x86fre.win7_gdr.130318-1532'\n",
      " '7601.17727.x86fre.win7sp1_gdr.111118-2330'\n",
      " '9600.18725.amd64fre.winblue_ltsb.170607-0600'\n",
      " '18242.1000.x86fre.rs_prerelease.180914-1435'\n",
      " '7601.18113.amd64fre.win7sp1_gdr.130318-1533'\n",
      " '9600.17736.x86fre.winblue_r9.150322-1500'\n",
      " '17639.1000.x86fre.rs_prerelease.180330-1630'\n",
      " '18201.1000.amd64fre.rs_prerelease.180717-1400'\n",
      " '9600.18066.x86fre.winblue_ltsb.150928-1002'\n",
      " '10240.16390.x86fre.th1_st1.150714-1601'\n",
      " '16299.64.amd64fre.rs3_release_svc.171024-1647'\n",
      " '7601.23250.amd64fre.win7sp1_ldr.151019-1255'\n",
      " '7601.17944.amd64fre.win7sp1_gdr.120830-0333'\n",
      " '7601.18715.x86fre.win7sp1_gdr.150111-1512'\n",
      " '17655.1000.x86fre.rs_prerelease.180420-1850'\n",
      " '7601.23349.amd64fre.win7sp1_ldr.160210-0600'\n",
      " '17741.1000.arm64fre.rs5_release.180814-1430'\n",
      " '16299.484.amd64fre.rs3_release_svc_escrow.180511-1748'\n",
      " '17604.1000.x86fre.rs_prerelease.180209-1422'\n",
      " '9600.18258.x86fre.winblue_ltsb.160303-0600'\n",
      " '7600.16695.x86fre.win7_gdr.101026-1503'\n",
      " '14393.2423.amd64fre.rs1_release.180718-1836'\n",
      " '17618.1000.x86fre.rs_prerelease.180302-1651'\n",
      " '9600.17328.x86fre.winblue_r3.140827-1500'\n",
      " '7600.16399.x86fre.win7_gdr.090722-1835'\n",
      " '10586.596.amd64fre.th2_release_inmarket.160916-2001'\n",
      " '7601.18717.x86fre.win7sp1_gdr.150113-1808'\n",
      " '17740.1000.amd64fre.rs5_release.180813-1429'\n",
      " '10240.16387.x86fre.th1_st1.150711-1429'\n",
      " '7600.16988.x86fre.win7_gdr.120401-1505'\n",
      " '17751.1.arm64fre.rs5_release.180828-1428'\n",
      " '9600.19128.x86fre.winblue_ltsb_escrow.180813-1030'\n",
      " '14393.2156.x86fre.rs1_release_inmarket.180321-1733'\n",
      " '10240.17974.amd64fre.th1.180827-1810'\n",
      " '7601.17640.x86fre.win7sp1_gdr.110622-1506'\n",
      " '7601.18738.amd64fre.win7sp1_gdr.150128-1513'\n",
      " '9600.18379.x86fre.winblue_ltsb.160614-0600'\n",
      " '9600.17476.x86fre.winblue_r5.141029-1500'\n",
      " '17704.1000.x86fre.rs_prerelease.180623-1611'\n",
      " '14439.1944.amd64fre.rs1_release.171157-2100'\n",
      " '7600.16841.x86fre.win7_gdr.110622-1503'\n",
      " '17627.1000.x86fre.rs_prerelease.180315-1512'\n",
      " '14393.2311.amd64fre.rs1_release.180606-0013'\n",
      " '14298.1944.amd64fre.rs1_release.171132-2100'\n",
      " '17730.1000.x86fre.rs5_release.180731-1427'\n",
      " '7600.20941.x86fre.win7_ldr.110408-1635'\n",
      " '9600.16452.x86fre.winblue_gdr.131030-1505'\n",
      " '7601.17713.x86fre.win7sp1_gdr.111025-1505'\n",
      " '9600.18202.x86fre.winblue_ltsb.160119-0600'\n",
      " '7600.16905.x86fre.win7_gdr.111025-1503'\n",
      " '16299.0.x86fre.rs3_release.170922-1354'\n",
      " '7601.19131.amd64fre.win7sp1_gdr.160116-0600'\n",
      " '14393.1797.amd64fre.rs1_release_inmarket_aim.171027-1738'\n",
      " '10240.16425.amd64fre.th1.150802-1600'\n",
      " '7601.19131.x86fre.win7sp1_gdr.160116-0600'\n",
      " '17723.1000.x86fre.rs5_release.180720-1452'\n",
      " '14393.1670.amd64fre.rs1_release_inmarket.170821-1825'\n",
      " '7601.17105.x86fre.win7sp1_rc.100929-1730'\n",
      " '18219.1000.x86fre.rs_prerelease.180810-1721'\n",
      " '17604.1000.amd64fre.rs_prerelease.180209-1422'\n",
      " '18224.1000.amd64fre.rs_prerelease.180817-1433'\n",
      " '18241.1000.amd64fre.rs_shell.180913-1853'\n",
      " '17689.1000.amd64fre.rs_onecore_stack_per1.180607-1708'\n",
      " '17718.1002.amd64fre.rs5_release_sigma_dev.180717-1700'\n",
      " '17753.1001.amd64fre.rs5_release_edge.180830-1701'\n",
      " '7601.17730.amd64fre.win7sp1_gdr.111123-1510'\n",
      " '7600.16617.x86fre.win7_gdr.100618-1621'\n",
      " '10240.17974.x86fre.th1.180827-1810'\n",
      " '17682.1000.arm64fre.rs_prerelease.180525-1616'\n",
      " '17738.1000.arm64fre.rs5_release.180810-1706'\n",
      " '7600.16695.amd64fre.win7_gdr.101026-1503'\n",
      " '14230.1944.amd64fre.rs1_release.171284-2100'\n",
      " '17728.1000.x86fre.rs5_release.180727-1721'\n",
      " '7600.16481.x86fre.win7_gdr.091207-1941'\n",
      " '17686.1004.amd64fre.rs_onecore_sigma_grfx_dev.180604-1518'\n",
      " '7601.22436.x86fre.win7sp1_ldr.130828-1532'\n",
      " '7601.23403.x86fre.win7sp1_ldr.160325-0600'\n",
      " '16299.695.x86fre.rs3_release_svc.180827-1746'\n",
      " '7600.16841.amd64fre.win7_gdr.110622-1503'\n",
      " '7601.23250.x86fre.win7sp1_ldr.151019-1255'\n",
      " '9600.16384.amd64fre.winblue_rtm.130821-1623'\n",
      " '10240.17609.x86fre.th1.170904-1739'\n",
      " '9600.18185.x86fre.winblue_ltsb.151230-0600'\n",
      " '18204.1001.x86fre.rs_prerelease.180721-1657'\n",
      " '7600.16988.amd64fre.win7_gdr.120401-1505'\n",
      " '7600.17118.x86fre.win7_gdr.120830-0334'\n",
      " '14453.1944.amd64fre.rs1_release.171111-2100'\n",
      " '10586.842.x86fre.th2_release_inmarket.170318-0600'\n",
      " '17747.1000.amd64fre.rs5_release.180822-1441'\n",
      " '17746.1000.arm64fre.rs5_release.180821-1736'\n",
      " '7601.18044.amd64fre.win7sp1_gdr.130104-1431'\n",
      " '18227.1000.arm64fre.rs_onecore_base_cobalt.180822-1700'\n",
      " '14393.1737.amd64fre.rs1_release_inmarket.170914-1249'\n",
      " '7601.17790.x86fre.win7sp1_gdr.120305-1505'\n",
      " '18238.1000.amd64fre.rs_prerelease.180910-1357'\n",
      " '14425.1944.amd64fre.rs1_release.171223-2100'\n",
      " '7601.18205.x86fre.win7sp1_gdr.130708-1532'\n",
      " '17725.1000.arm64fre.rs5_release.180724-1415'\n",
      " '10240.17943.amd64fre.th1.180724-1745'\n",
      " '7600.21980.x86fre.win7_ldr.150318-1623'\n",
      " '7601.22923.amd64fre.win7sp1_ldr.150113-1808'\n",
      " '7601.23072.amd64fre.win7sp1_ldr.150525-0604'\n",
      " '7600.17207.x86fre.win7_gdr.130104-1435'\n",
      " '17694.1000.x86fre.rs_prerelease.180612-1636'\n",
      " '14306.1944.amd64fre.rs1_release.171079-2100'\n",
      " '10586.639.amd64fre.th2_release_inmarket.161014-1749'\n",
      " '17757.1.amd64fre.rs5_release.180906-1403'\n",
      " '7601.18715.amd64fre.win7sp1_gdr.150111-1512'\n",
      " '18233.1000.amd64fre.rs_xbox.180830-1429'\n",
      " '14474.1944.amd64fre.rs1_release.171253-2100'\n",
      " '7601.18044.x86fre.win7sp1_gdr.130104-1431'\n",
      " '9600.17041.x86fre.winblue_gdr.140305-1710'\n",
      " '14206.1944.amd64fre.rs1_release.171177-2100'\n",
      " '17623.1002.amd64fre.rs_prerelease.180310-1600'\n",
      " '17753.1.amd64fre.rs5_release.180830-1437'\n",
      " '14393.1944.amd64fre.rs1_release.171142-2100'\n",
      " '7600.21490.amd64fre.win7_ldr.130318-1533'\n",
      " '17756.1.amd64fre.rs5_release.180905-1436'\n",
      " '14379.1944.amd64fre.rs1_release.171278-2100'\n",
      " '17749.1000.amd64fre.rs5_release.180824-1522'\n",
      " '17734.1000.amd64fre.rs5_release.180806-1423'\n",
      " '17763.1.arm64fre.rs5_release.180914-1434'\n",
      " '16299.691.amd64fre.rs3_release_svc.180813-1858'\n",
      " '17752.1.amd64fre.rs5_release.180829-1740'\n",
      " '9600.18725.x86fre.winblue_ltsb.170607-0600'\n",
      " '18064.1.amd64fre.rs6_prerelease.180710-1809'\n",
      " '9600.18896.x86fre.winblue_ltsb_escrow.180108-1534'\n",
      " '18226.1000.amd64fre.rs_prerelease.180820-1429'\n",
      " '16299.637.arm64fre.rs3_release_svc.180808-1748'\n",
      " '17747.1000.amd64fre.rs5_release_sign.180822-1726'\n",
      " '17747.1000.x86fre.rs5_release.180822-1441'\n",
      " '7601.23153.amd64fre.win7sp1_ldr.150804-0600'\n",
      " '9600.16404.amd64fre.winblue_gdr.130913-2141'\n",
      " '18230.1000.amd64fre.rs_prerelease.180824-1526'\n",
      " '18244.1000.amd64fre.rs_prerelease.180918-1421'\n",
      " '18236.1001.amd64fre.rs_xbox.180906-1100'\n",
      " '16299.431.amd64fre.rs3_release_svc_escrow.180502-1934'\n",
      " '17744.1000.amd64fre.rs5_release.180817-1423'\n",
      " '14466.1944.amd64fre.rs1_release.171244-2100'\n",
      " '17750.1000.amd64fre.rs5_release.180827-1459']\n"
     ]
    }
   ],
   "source": [
    "print(dataframe['OsBuildLab'].unique())"
   ]
  },
  {
   "cell_type": "code",
   "execution_count": 39,
   "metadata": {},
   "outputs": [],
   "source": [
    "unique_valuesOsBuildLab = dataframe['OsBuildLab'].unique()\n",
    "\n",
    "# Mappeo los valores unicos por numeros\n",
    "value_to_number = {value: index + 1 for index, value in enumerate(unique_valuesOsBuildLab)}\n",
    "\n",
    "# Cambio los valores por los numeros \n",
    "dfC['OsBuildLab'] = dfC['OsBuildLab'].map(value_to_number)"
   ]
  },
  {
   "cell_type": "code",
   "execution_count": 40,
   "metadata": {},
   "outputs": [
    {
     "name": "stdout",
     "output_type": "stream",
     "text": [
      "0    1\n",
      "1    1\n",
      "2    1\n",
      "3    1\n",
      "4    1\n",
      "5    1\n",
      "6    1\n",
      "Name: OsBuildLab, dtype: int64\n"
     ]
    }
   ],
   "source": [
    "print(dfC['OsBuildLab'].head(7))"
   ]
  },
  {
   "cell_type": "markdown",
   "metadata": {},
   "source": [
    "SkuEdition"
   ]
  },
  {
   "cell_type": "code",
   "execution_count": 41,
   "metadata": {},
   "outputs": [
    {
     "name": "stdout",
     "output_type": "stream",
     "text": [
      "['Pro' 'Home' 'Invalid' 'Enterprise LTSB' 'Enterprise' 'Education' 'Cloud'\n",
      " 'Server']\n"
     ]
    }
   ],
   "source": [
    "print(dataframe['SkuEdition'].unique())"
   ]
  },
  {
   "cell_type": "code",
   "execution_count": 42,
   "metadata": {},
   "outputs": [],
   "source": [
    "unique_valuesSkuEdition = dataframe['SkuEdition'].unique()\n",
    "\n",
    "# Mappeo los valores unicos por numeros\n",
    "value_to_number = {value: index + 1 for index, value in enumerate(unique_valuesSkuEdition)}\n",
    "\n",
    "# Cambio los valores por los numeros \n",
    "dfC['SkuEdition'] = dfC['SkuEdition'].map(value_to_number)"
   ]
  },
  {
   "cell_type": "code",
   "execution_count": 43,
   "metadata": {},
   "outputs": [
    {
     "name": "stdout",
     "output_type": "stream",
     "text": [
      "0    1\n",
      "1    1\n",
      "2    2\n",
      "3    1\n",
      "4    2\n",
      "5    1\n",
      "6    2\n",
      "Name: SkuEdition, dtype: int64\n"
     ]
    }
   ],
   "source": [
    "print(dfC['SkuEdition'].head(7))"
   ]
  },
  {
   "cell_type": "markdown",
   "metadata": {},
   "source": [
    "IsProtected"
   ]
  },
  {
   "cell_type": "code",
   "execution_count": 44,
   "metadata": {},
   "outputs": [
    {
     "name": "stdout",
     "output_type": "stream",
     "text": [
      "[ 1.  0. nan]\n"
     ]
    }
   ],
   "source": [
    "print(dataframe['IsProtected'].unique())"
   ]
  },
  {
   "cell_type": "markdown",
   "metadata": {},
   "source": [
    "AutoSampleOptIn"
   ]
  },
  {
   "cell_type": "code",
   "execution_count": 45,
   "metadata": {},
   "outputs": [
    {
     "name": "stdout",
     "output_type": "stream",
     "text": [
      "[0 1]\n"
     ]
    }
   ],
   "source": [
    "print(dataframe['AutoSampleOptIn'].unique())"
   ]
  },
  {
   "cell_type": "markdown",
   "metadata": {},
   "source": [
    "IeVerIdentifier"
   ]
  },
  {
   "cell_type": "code",
   "execution_count": 46,
   "metadata": {},
   "outputs": [
    {
     "name": "stdout",
     "output_type": "stream",
     "text": [
      "[137.  94.  nan 290. 117. 111. 333.  65. 108.  82. 103.  98. 323.  78.\n",
      " 105.  84. 135.  41.  76.  53. 107.  74. 302.  96.  68. 114. 311.  51.\n",
      "  71.  81. 335.  42.  46. 308. 334.  44.  90. 325.  88. 295.  92. 185.\n",
      "  87.  85. 327.  73.  86. 163.  91. 309. 337. 336. 317. 180. 190. 324.\n",
      "  50.  72. 321.  48.  64. 196. 331.  63.  45.  49. 318. 312. 326. 174.\n",
      " 176. 305. 287. 315. 186. 313. 194.  77. 169. 181. 332. 288. 153. 199.\n",
      "  58.  39. 205. 328. 300. 347. 307. 102. 152. 275. 303. 319. 322. 384.\n",
      " 294. 178. 154. 182. 158. 187.  56. 284.  47.  52. 201. 306.  62. 330.\n",
      " 388. 282. 316. 329. 200.  59. 304.  61.  66. 162. 408. 297.  57. 285.\n",
      " 156. 203.  60. 364. 383.  79. 280. 299. 166. 283. 314. 348. 151. 398.\n",
      " 146. 218. 429. 140. 210. 145. 143. 289. 173.   1. 397. 220. 224. 296.\n",
      "   8. 320. 136. 395. 349. 171.  54. 292. 147.  75. 391. 410. 366. 286.\n",
      " 338. 298. 293. 373.  17.  21. 168. 362.  34. 195. 202. 212. 423. 379.\n",
      " 412. 222.  15. 142. 400. 418.   9. 291. 278. 150.  12. 396.  83.  20.\n",
      "  89. 277. 110. 175. 109.  14. 211. 281.  10. 301. 310. 404.  19.  16.\n",
      "  13. 370.  40. 393. 425. 367.  55. 378. 406.  38. 358. 209. 416. 274.\n",
      " 377. 121.  27. 122.  33. 371. 394. 390. 392. 139. 428. 399.  18. 359.\n",
      " 350. 414. 368. 375. 403.  43. 407. 411. 213. 223. 409. 402. 161. 170.\n",
      " 376. 193. 115. 369.   2.  29. 159. 134. 427. 126. 415. 405. 381. 273.\n",
      " 279.  11. 343. 382. 215. 221. 172.  67. 165. 352. 198. 217. 141. 192.\n",
      " 401.  36. 197. 413.  32. 188. 177. 380. 123. 345. 191. 353. 214. 421.\n",
      " 361.  22. 216. 227. 219.  25. 372. 184. 112. 189.]\n"
     ]
    }
   ],
   "source": [
    "print(dataframe['IeVerIdentifier'].unique())"
   ]
  },
  {
   "cell_type": "code",
   "execution_count": 47,
   "metadata": {},
   "outputs": [
    {
     "name": "stdout",
     "output_type": "stream",
     "text": [
      "0    137.0\n",
      "1    137.0\n",
      "2    137.0\n",
      "3    137.0\n",
      "4    137.0\n",
      "5    137.0\n",
      "6    137.0\n",
      "Name: IeVerIdentifier, dtype: float64\n"
     ]
    }
   ],
   "source": [
    "print(dfC['IeVerIdentifier'].head(7))"
   ]
  },
  {
   "cell_type": "markdown",
   "metadata": {},
   "source": [
    "UacLuaenable"
   ]
  },
  {
   "cell_type": "code",
   "execution_count": 48,
   "metadata": {},
   "outputs": [
    {
     "name": "stdout",
     "output_type": "stream",
     "text": [
      "[1.0000000e+00 0.0000000e+00           nan 4.8000000e+01 3.0000000e+00\n",
      " 2.0000000e+00 6.3570620e+06 4.9000000e+01 1.6777216e+07 5.0000000e+00\n",
      " 2.5500000e+02 7.7988840e+06]\n"
     ]
    }
   ],
   "source": [
    "print(dataframe['UacLuaenable'].unique())"
   ]
  },
  {
   "cell_type": "code",
   "execution_count": 49,
   "metadata": {},
   "outputs": [
    {
     "name": "stdout",
     "output_type": "stream",
     "text": [
      "0    1.0\n",
      "1    1.0\n",
      "2    1.0\n",
      "3    1.0\n",
      "4    1.0\n",
      "5    1.0\n",
      "6    1.0\n",
      "Name: UacLuaenable, dtype: float64\n"
     ]
    }
   ],
   "source": [
    "print(dfC['UacLuaenable'].head(7))"
   ]
  },
  {
   "cell_type": "markdown",
   "metadata": {},
   "source": [
    "Census_MDC2FormFactor"
   ]
  },
  {
   "cell_type": "code",
   "execution_count": 50,
   "metadata": {},
   "outputs": [
    {
     "name": "stdout",
     "output_type": "stream",
     "text": [
      "['Desktop' 'Notebook' 'Detachable' 'PCOther' 'AllInOne' 'Convertible'\n",
      " 'SmallTablet' 'LargeTablet' 'SmallServer' 'LargeServer' 'MediumServer'\n",
      " 'ServerOther' 'IoTOther']\n"
     ]
    }
   ],
   "source": [
    "print(dataframe['Census_MDC2FormFactor'].unique())"
   ]
  },
  {
   "cell_type": "code",
   "execution_count": 51,
   "metadata": {},
   "outputs": [],
   "source": [
    "unique_valuesCensus_MDC2FormFactor = dataframe['Census_MDC2FormFactor'].unique()\n",
    "\n",
    "# Mappeo los valores unicos por numeros\n",
    "value_to_number = {value: index + 1 for index, value in enumerate(unique_valuesCensus_MDC2FormFactor)}\n",
    "\n",
    "# Cambio los valores por los numeros \n",
    "dfC['Census_MDC2FormFactor'] = dfC['Census_MDC2FormFactor'].map(value_to_number)"
   ]
  },
  {
   "cell_type": "code",
   "execution_count": 52,
   "metadata": {},
   "outputs": [
    {
     "name": "stdout",
     "output_type": "stream",
     "text": [
      "0    1\n",
      "1    2\n",
      "2    1\n",
      "3    1\n",
      "4    2\n",
      "5    1\n",
      "6    2\n",
      "Name: Census_MDC2FormFactor, dtype: int64\n"
     ]
    }
   ],
   "source": [
    "print(dfC['Census_MDC2FormFactor'].head(7))"
   ]
  },
  {
   "cell_type": "markdown",
   "metadata": {},
   "source": [
    "Census_DeviceFamily"
   ]
  },
  {
   "cell_type": "code",
   "execution_count": 53,
   "metadata": {},
   "outputs": [
    {
     "name": "stdout",
     "output_type": "stream",
     "text": [
      "['Windows.Desktop' 'Windows.Server' 'Windows']\n"
     ]
    }
   ],
   "source": [
    "print(dataframe['Census_DeviceFamily'].unique())"
   ]
  },
  {
   "cell_type": "code",
   "execution_count": 54,
   "metadata": {},
   "outputs": [],
   "source": [
    "unique_valuesCensus_DeviceFamily = dataframe['Census_DeviceFamily'].unique()\n",
    "\n",
    "# Mappeo los valores unicos por numeros\n",
    "value_to_number = {value: index + 1 for index, value in enumerate(unique_valuesCensus_DeviceFamily)}\n",
    "\n",
    "# Cambio los valores por los numeros \n",
    "dfC['Census_DeviceFamily'] = dfC['Census_DeviceFamily'].map(value_to_number)"
   ]
  },
  {
   "cell_type": "code",
   "execution_count": 55,
   "metadata": {},
   "outputs": [
    {
     "name": "stdout",
     "output_type": "stream",
     "text": [
      "0    1\n",
      "1    1\n",
      "2    1\n",
      "3    1\n",
      "4    1\n",
      "5    1\n",
      "6    1\n",
      "Name: Census_DeviceFamily, dtype: int64\n"
     ]
    }
   ],
   "source": [
    "print(dfC['Census_DeviceFamily'].head(7))"
   ]
  },
  {
   "cell_type": "markdown",
   "metadata": {},
   "source": [
    "Census_ProcessorCoreCount"
   ]
  },
  {
   "cell_type": "code",
   "execution_count": 56,
   "metadata": {},
   "outputs": [
    {
     "name": "stdout",
     "output_type": "stream",
     "text": [
      "[  4.   2.   8.  12.   1.   6.  nan  16.   3.  20.  32.  24.  40.   5.\n",
      "  10.  80.  56.  48.  36.  72.  64.  28.  88.   7.  14.  96. 112.  44.\n",
      "  15.  50.  11.  30. 128.   9.  46.  22.  54. 144.  18. 120.  52.  26.\n",
      " 192.  25. 104.  13.]\n"
     ]
    }
   ],
   "source": [
    "print(dataframe['Census_ProcessorCoreCount'].unique())"
   ]
  },
  {
   "cell_type": "code",
   "execution_count": 57,
   "metadata": {},
   "outputs": [
    {
     "name": "stdout",
     "output_type": "stream",
     "text": [
      "0    4.0\n",
      "1    4.0\n",
      "2    4.0\n",
      "3    4.0\n",
      "4    4.0\n",
      "5    2.0\n",
      "6    2.0\n",
      "Name: Census_ProcessorCoreCount, dtype: float64\n"
     ]
    }
   ],
   "source": [
    "print(dfC['Census_ProcessorCoreCount'].head(7))"
   ]
  },
  {
   "cell_type": "markdown",
   "metadata": {},
   "source": [
    "Census_ProcessorManufacturerIdentifier"
   ]
  },
  {
   "cell_type": "code",
   "execution_count": 58,
   "metadata": {},
   "outputs": [
    {
     "name": "stdout",
     "output_type": "stream",
     "text": [
      "[ 5.  1. 10. nan  3.  4.  7.  9.]\n"
     ]
    }
   ],
   "source": [
    "print(dataframe['Census_ProcessorManufacturerIdentifier'].unique())"
   ]
  },
  {
   "cell_type": "code",
   "execution_count": 59,
   "metadata": {},
   "outputs": [
    {
     "name": "stdout",
     "output_type": "stream",
     "text": [
      "0    5.0\n",
      "1    5.0\n",
      "2    5.0\n",
      "3    5.0\n",
      "4    5.0\n",
      "5    5.0\n",
      "6    1.0\n",
      "Name: Census_ProcessorManufacturerIdentifier, dtype: float64\n"
     ]
    }
   ],
   "source": [
    "print(dfC['Census_ProcessorManufacturerIdentifier'].head(7))"
   ]
  },
  {
   "cell_type": "markdown",
   "metadata": {},
   "source": [
    "Census_ProcessorModelIdentifier"
   ]
  },
  {
   "cell_type": "code",
   "execution_count": 60,
   "metadata": {},
   "outputs": [
    {
     "name": "stdout",
     "output_type": "stream",
     "text": [
      "[2341. 2405. 1972. ... 1728.  277. 4265.]\n"
     ]
    }
   ],
   "source": [
    "print(dataframe['Census_ProcessorModelIdentifier'].unique())"
   ]
  },
  {
   "cell_type": "code",
   "execution_count": 61,
   "metadata": {},
   "outputs": [
    {
     "name": "stdout",
     "output_type": "stream",
     "text": [
      "0    2341.0\n",
      "1    2405.0\n",
      "2    1972.0\n",
      "3    2273.0\n",
      "4    2500.0\n",
      "5    4324.0\n",
      "6     657.0\n",
      "Name: Census_ProcessorModelIdentifier, dtype: float64\n"
     ]
    }
   ],
   "source": [
    "print(dfC['Census_ProcessorModelIdentifier'].head(7))"
   ]
  },
  {
   "cell_type": "markdown",
   "metadata": {},
   "source": [
    "Census_PrimaryDiskTotalCapacity"
   ]
  },
  {
   "cell_type": "code",
   "execution_count": 62,
   "metadata": {},
   "outputs": [
    {
     "name": "stdout",
     "output_type": "stream",
     "text": [
      "[ 476940.  114473.  238475. ...   42768.  135786. 8584758.]\n"
     ]
    }
   ],
   "source": [
    "print(dataframe['Census_PrimaryDiskTotalCapacity'].unique())"
   ]
  },
  {
   "cell_type": "code",
   "execution_count": 63,
   "metadata": {},
   "outputs": [
    {
     "name": "stdout",
     "output_type": "stream",
     "text": [
      "0    476940.0\n",
      "1    476940.0\n",
      "2    114473.0\n",
      "3    238475.0\n",
      "4    476940.0\n",
      "5    114473.0\n",
      "6    476940.0\n",
      "Name: Census_PrimaryDiskTotalCapacity, dtype: float64\n"
     ]
    }
   ],
   "source": [
    "print(dfC['Census_PrimaryDiskTotalCapacity'].head(7))"
   ]
  },
  {
   "cell_type": "markdown",
   "metadata": {},
   "source": [
    "Census_PrimaryDiskTypeName"
   ]
  },
  {
   "cell_type": "code",
   "execution_count": 64,
   "metadata": {},
   "outputs": [
    {
     "name": "stdout",
     "output_type": "stream",
     "text": [
      "['HDD' 'SSD' 'UNKNOWN' 'Unspecified' nan]\n"
     ]
    }
   ],
   "source": [
    "print(dataframe['Census_PrimaryDiskTypeName'].unique())"
   ]
  },
  {
   "cell_type": "code",
   "execution_count": 65,
   "metadata": {},
   "outputs": [],
   "source": [
    "unique_valuesCensus_PrimaryDiskTypeName = dataframe['Census_PrimaryDiskTypeName'].unique()\n",
    "\n",
    "# Mappeo los valores unicos por numeros\n",
    "value_to_number = {value: index + 1 for index, value in enumerate(unique_valuesCensus_PrimaryDiskTypeName)}\n",
    "\n",
    "# Cambio los valores por los numeros \n",
    "dfC['Census_PrimaryDiskTypeName'] = dfC['Census_PrimaryDiskTypeName'].map(value_to_number)"
   ]
  },
  {
   "cell_type": "code",
   "execution_count": 66,
   "metadata": {},
   "outputs": [
    {
     "name": "stdout",
     "output_type": "stream",
     "text": [
      "0    1\n",
      "1    1\n",
      "2    2\n",
      "3    3\n",
      "4    1\n",
      "5    2\n",
      "6    1\n",
      "Name: Census_PrimaryDiskTypeName, dtype: int64\n"
     ]
    }
   ],
   "source": [
    "print(dfC['Census_PrimaryDiskTypeName'].head(7))"
   ]
  },
  {
   "cell_type": "markdown",
   "metadata": {},
   "source": [
    "Census_SystemVolumeTotalCapacity"
   ]
  },
  {
   "cell_type": "code",
   "execution_count": 67,
   "metadata": {},
   "outputs": [
    {
     "name": "stdout",
     "output_type": "stream",
     "text": [
      "[299451. 102385. 113907. ... 345317. 165344. 637127.]\n"
     ]
    }
   ],
   "source": [
    "print(dataframe['Census_SystemVolumeTotalCapacity'].unique())"
   ]
  },
  {
   "cell_type": "code",
   "execution_count": 68,
   "metadata": {},
   "outputs": [
    {
     "name": "stdout",
     "output_type": "stream",
     "text": [
      "0    299451.0\n",
      "1    102385.0\n",
      "2    113907.0\n",
      "3    227116.0\n",
      "4    101900.0\n",
      "5    113671.0\n",
      "6    458702.0\n",
      "Name: Census_SystemVolumeTotalCapacity, dtype: float64\n"
     ]
    }
   ],
   "source": [
    "print(dfC['Census_SystemVolumeTotalCapacity'].head(7))"
   ]
  },
  {
   "cell_type": "markdown",
   "metadata": {},
   "source": [
    "Census_HasOpticalDiskDrive"
   ]
  },
  {
   "cell_type": "code",
   "execution_count": 69,
   "metadata": {},
   "outputs": [
    {
     "name": "stdout",
     "output_type": "stream",
     "text": [
      "[0 1]\n"
     ]
    }
   ],
   "source": [
    "print(dataframe['Census_HasOpticalDiskDrive'].unique())"
   ]
  },
  {
   "cell_type": "code",
   "execution_count": 70,
   "metadata": {},
   "outputs": [
    {
     "name": "stdout",
     "output_type": "stream",
     "text": [
      "0    0\n",
      "1    0\n",
      "2    0\n",
      "3    0\n",
      "4    0\n",
      "5    0\n",
      "6    0\n",
      "Name: Census_HasOpticalDiskDrive, dtype: int64\n"
     ]
    }
   ],
   "source": [
    "print(dfC['Census_HasOpticalDiskDrive'].head(7))"
   ]
  },
  {
   "cell_type": "markdown",
   "metadata": {},
   "source": [
    "Census_TotalPhysicalRAM"
   ]
  },
  {
   "cell_type": "code",
   "execution_count": 71,
   "metadata": {},
   "outputs": [
    {
     "name": "stdout",
     "output_type": "stream",
     "text": [
      "[ 4096.  6144.  8192. ...  1339.  7627. 10295.]\n"
     ]
    }
   ],
   "source": [
    "print(dataframe['Census_TotalPhysicalRAM'].unique())"
   ]
  },
  {
   "cell_type": "code",
   "execution_count": 72,
   "metadata": {},
   "outputs": [
    {
     "name": "stdout",
     "output_type": "stream",
     "text": [
      "0    4096.0\n",
      "1    4096.0\n",
      "2    4096.0\n",
      "3    4096.0\n",
      "4    6144.0\n",
      "5    8192.0\n",
      "6    4096.0\n",
      "Name: Census_TotalPhysicalRAM, dtype: float64\n"
     ]
    }
   ],
   "source": [
    "print(dfC['Census_TotalPhysicalRAM'].head(7))"
   ]
  },
  {
   "cell_type": "markdown",
   "metadata": {},
   "source": [
    "Census_ChassisTypeName"
   ]
  },
  {
   "cell_type": "code",
   "execution_count": 73,
   "metadata": {},
   "outputs": [
    {
     "name": "stdout",
     "output_type": "stream",
     "text": [
      "['Desktop' 'Notebook' 'MiniTower' 'Portable' 'Detachable' 'Laptop'\n",
      " 'AllinOne' 'LowProfileDesktop' 'SpaceSaving' 'Other' 'Unknown' 'HandHeld'\n",
      " 'UNKNOWN' 'Convertible' 'Tower' 'MainServerChassis' 'LunchBox'\n",
      " 'SubNotebook' 'MiniPC' 'RackMountChassis' 'Tablet' '30' 'StickPC'\n",
      " 'BusExpansionChassis' nan '36' '82' '35' '0' 'Blade' 'IoTGateway'\n",
      " 'MultisystemChassis' 'SealedCasePC' '32' '31' 'ExpansionChassis'\n",
      " 'SubChassis' 'PizzaBox' '88' '25' '28' '44' '127' '76' 'DockingStation'\n",
      " '45' '49' 'CompactPCI' '112' 'BladeEnclosure' '81' 'EmbeddedPC' '39']\n"
     ]
    }
   ],
   "source": [
    "print(dataframe['Census_ChassisTypeName'].unique())"
   ]
  },
  {
   "cell_type": "code",
   "execution_count": 74,
   "metadata": {},
   "outputs": [],
   "source": [
    "unique_valuesCensus_ChassisTypeName = dataframe['Census_ChassisTypeName'].unique()\n",
    "\n",
    "# Mappeo los valores unicos por numeros\n",
    "value_to_number = {value: index + 1 for index, value in enumerate(unique_valuesCensus_ChassisTypeName)}\n",
    "\n",
    "# Cambio los valores por los numeros \n",
    "dfC['Census_ChassisTypeName'] = dfC['Census_ChassisTypeName'].map(value_to_number)"
   ]
  },
  {
   "cell_type": "code",
   "execution_count": 75,
   "metadata": {},
   "outputs": [
    {
     "name": "stdout",
     "output_type": "stream",
     "text": [
      "0    1\n",
      "1    2\n",
      "2    1\n",
      "3    3\n",
      "4    4\n",
      "5    1\n",
      "6    2\n",
      "Name: Census_ChassisTypeName, dtype: int64\n"
     ]
    }
   ],
   "source": [
    "print(dfC['Census_ChassisTypeName'].head(7))"
   ]
  },
  {
   "cell_type": "markdown",
   "metadata": {},
   "source": [
    "Census_InternalPrimaryDiagonalDisplaySizeInInches"
   ]
  },
  {
   "cell_type": "code",
   "execution_count": 76,
   "metadata": {},
   "outputs": [
    {
     "name": "stdout",
     "output_type": "stream",
     "text": [
      "[ 18.9  13.9  21.5  18.5  14.   17.2  15.5  15.6  11.9  17.1  13.3  13.2\n",
      "  24.   17.7  23.   20.7  27.   40.   21.7  17.3  11.6   nan  15.4  15.3\n",
      "  20.   32.   19.1   8.   10.8  12.2  19.   12.3  17.   23.8  12.   12.7\n",
      "  23.4  36.1  14.1  37.   25.   12.9  20.4  27.9  12.5  16.7  23.5  31.5\n",
      "  28.8   8.1  12.1  10.   24.5  13.4  16.2   8.9  10.4  22.    6.9  15.\n",
      "  34.1  19.5  18.4  23.1  10.3  10.6  30.6  18.7  23.6   9.7  24.1  14.8\n",
      "  72.3  21.9  10.1  20.1  16.3  15.8  24.2  50.1  46.   21.3  21.   57.8\n",
      "  40.2  18.1  17.6  14.2  54.6  25.5  15.7  19.4  11.4  22.6   5.5  27.2\n",
      "  28.9  15.9  22.5   7.   14.9  16.8  21.6  15.2  65.   52.   19.9  27.3\n",
      "  11.5  13.5  22.2  26.6  61.   18.8  17.4  17.5  74.5  31.2  39.9   6.\n",
      "  48.1  20.3  43.   41.3   8.3  11.1  20.9  11.8  12.4   8.8   7.9  27.7\n",
      "  29.4  35.   48.6  20.2  47.4  13.   22.1  12.8  18.6  24.9  26.8  27.5\n",
      "  13.8  54.9  31.7  21.1  14.3  20.8  24.7  32.1  14.5  14.7   4.9  42.1\n",
      "  19.7  26.   30.2  29.8  26.5  19.3  16.   26.9  19.8   9.9  28.6  49.7\n",
      "  22.8  10.2  19.6  16.6  29.2  25.4  14.6  13.6  26.1  35.4  64.2   9.\n",
      "  25.2   5.   12.6  26.4  55.   25.6  81.3  23.7  22.7  33.1   8.4  59.4\n",
      "  15.1  49.2   8.6  50.   28.   23.9  19.2  41.9   8.7  20.6  48.   69.6\n",
      "  16.4  60.1  22.4  21.8  27.6  21.4  17.9  10.5  48.3  48.5  18.3  14.4\n",
      "  34.8  51.8   5.8  64.5  11.3  11.   49.5  31.4  42.   66.9  11.7   9.4\n",
      "  18.2   8.2  16.1  61.2   9.8  22.3  38.5  17.8  49.8  48.9  41.6  34.\n",
      "  23.2   7.1  40.1   7.8  46.1  54.3   9.5  46.3  21.2  71.4  47.   24.6\n",
      "  29.   10.9  39.   60.   39.7  39.5  34.6  30.5  64.7  20.5  22.9  32.3\n",
      "  31.6  27.8  45.   32.9  43.8  57.3  72.2  32.6   6.7  69.5  65.8   8.5\n",
      "  47.7  52.1  45.9  50.6  13.1  27.4  85.8  34.2  29.5  13.7  10.7  36.2\n",
      "  38.8  50.8  41.5  72.   40.5  47.8  53.5  25.7  49.   39.3  26.7  38.4\n",
      "  39.8  16.9  74.6  18.   42.5   7.7  28.3  98.2  27.1  43.2  30.3  24.8\n",
      "  34.3  31.9   7.2   9.1  37.5  74.   84.6  25.1  29.7  38.9  54.8  78.7\n",
      "  11.2  30.1  24.3  16.5  30.   55.7  36.3  70.   65.7  47.2  59.5  38.3\n",
      "  49.1  37.2  55.4  31.   89.1  37.3  30.7  39.2  33.9  32.8 142.   30.9\n",
      "   6.8   9.6  24.4  45.6  55.2  58.2  46.2 100.   46.8  28.7  50.3  52.2\n",
      "  31.1  56.    7.6  49.4  50.4  42.8 116.7  84.   44.9  57.    9.3  44.5\n",
      "  70.6  42.3  35.9  68.9  28.4  62.5  54.5  25.8  72.1  56.8  84.4  33.4\n",
      "  53.4  39.6  86.7  45.7  38.6  23.3  47.5  34.9   7.3  26.3  37.4  50.7\n",
      "  74.9  46.7  52.5 102.5  61.1  29.6  34.7  43.1  51.4  36.7  74.3  55.1\n",
      "  52.4  63.   44.2  57.7  51.9  44.7  25.9  45.8  63.7  53.7  47.3  83.6\n",
      "  30.4  49.9  57.6  31.8  29.9  69.   61.3  88.   94.1  59.2  43.4  80.\n",
      "  41.1  41.4  26.2  35.1  51.5  29.3  40.6  71.6  59.1   9.2  35.6   4.7\n",
      "  83.5  47.6  63.1  35.5  64.1  37.7  54.   97.2  41.7  58.   65.2  48.8\n",
      "  45.1  66.5  63.2  37.6  28.5  52.3  35.3  80.5  65.9  59.   36.4  49.6\n",
      "  61.7  66.8  45.2  89.9  95.2   5.4  43.3  36.9  40.3  32.2  36.5  56.7\n",
      "  99.9  46.9  75.   41.   50.9  85.3  53.6  53.8  43.5  31.3  84.1  39.4\n",
      "  38.   44.1   6.6  28.2  47.9   7.4  34.5  42.7  71.2  81.8  33.3   3.9\n",
      " 100.8  48.2  36.   42.2  30.8  52.6  75.6  95.1  41.8   6.2  33.7  50.5\n",
      "  60.2  57.5  44.6 109.3   5.1  36.8  33.8  34.4  25.3  32.5  45.3  56.4\n",
      "  42.9  81.4  32.4  33.6  65.4  95.3  73.4  61.9  38.7  69.3  75.8  40.7\n",
      "  51.2  70.5  33.2 173.5  71.9  73.   33.5  37.1  85.   63.6  44.8  35.2\n",
      "  67.   87.1  63.9 106.9 131.3  46.6  33.   59.7  47.1 101.5  75.1  56.6\n",
      "  51.6  75.4  95.4  56.1  48.4  55.3  44.4  32.7  38.1  35.7  68.7  62.7\n",
      "  39.1  88.3  64.9  69.9  40.9  43.7 102.6  64.6  67.6 110.4  54.7  58.8\n",
      "  45.5  80.6  62.6  29.1  92.1  42.6  58.9   7.5  37.8  68.3  37.9  28.1\n",
      "  44.3  40.8  46.4  83.9  40.4  54.4  64.8  50.2 129.6  93.8  52.8 115.6\n",
      " 109.4  38.2  78.9  61.8  62.9  69.1   4.8  97.5  43.9  44.   51.7  55.5\n",
      "  53.1   5.9  43.6  68.4  70.1  78.4  78.5  68.8  71.8  60.9  60.8  49.3\n",
      "  70.9  63.5  71.5  70.4   6.4  67.8  53.   62.1 139.4 118.6  98.4  67.9\n",
      "  90.9  66.4  61.5  46.5  64.4  45.4  69.7  71.7  60.7   5.3  73.2  90.\n",
      "  72.5   5.7 115.1  66.2  58.1  91.8  93.5  41.2  99.4  62.8   5.6  80.8\n",
      "  62.4  56.5  56.3  42.4  66.1   3.   54.1   0.7  62.2  62.  182.3  53.9\n",
      "  71.   87.5  67.2  76.5  72.8  99.8  79.9 103.5 118.9  81.  108.4  90.4\n",
      "  83.1  66.7  54.2  56.2  74.4  84.5 100.6  73.5  53.3  64.   70.7  63.8\n",
      " 122.1  92.5  69.4  57.4  61.6  98.8  59.6  51.   91.3  65.6   6.1  78.8\n",
      "  63.3   3.5 100.9  66.3  56.9  53.2   4.5  65.1  36.6  69.2  59.9  79.6\n",
      "  60.6  84.9 102.1   5.2  64.3   6.5  57.1  81.5  93.4  97.8  76.   76.1\n",
      "   3.3 112.2 109.7  58.5   4.2  76.8  99.3  55.6  91.7 120.5  51.1  35.8\n",
      "   3.2 133.7  95.  111.4 106.5  92.9  78.   73.9  75.2  88.8  60.4  55.9\n",
      "  90.3  65.3  80.1  78.6  57.9  70.8  92.   88.5  85.6  84.3  80.4  67.5\n",
      "  89.   57.2  88.2 135.1  80.7  58.4]\n"
     ]
    }
   ],
   "source": [
    "print(dataframe['Census_InternalPrimaryDiagonalDisplaySizeInInches'].unique())"
   ]
  },
  {
   "cell_type": "code",
   "execution_count": 77,
   "metadata": {},
   "outputs": [],
   "source": [
    "unique_valuesCensus_InternalPrimaryDiagonalDisplaySizeInInches = dataframe['Census_InternalPrimaryDiagonalDisplaySizeInInches'].unique()\n",
    "\n",
    "# Mappeo los valores unicos por numeros\n",
    "value_to_number = {value: index + 1 for index, value in enumerate(unique_valuesCensus_InternalPrimaryDiagonalDisplaySizeInInches)}\n",
    "\n",
    "# Cambio los valores por los numeros \n",
    "dfC['Census_InternalPrimaryDiagonalDisplaySizeInInches'] = dfC['Census_InternalPrimaryDiagonalDisplaySizeInInches'].map(value_to_number)"
   ]
  },
  {
   "cell_type": "code",
   "execution_count": 78,
   "metadata": {},
   "outputs": [
    {
     "name": "stdout",
     "output_type": "stream",
     "text": [
      "0    1\n",
      "1    2\n",
      "2    3\n",
      "3    4\n",
      "4    5\n",
      "5    3\n",
      "6    6\n",
      "Name: Census_InternalPrimaryDiagonalDisplaySizeInInches, dtype: int64\n"
     ]
    }
   ],
   "source": [
    "print(dfC['Census_InternalPrimaryDiagonalDisplaySizeInInches'].head(7))"
   ]
  },
  {
   "cell_type": "markdown",
   "metadata": {},
   "source": [
    "Census_InternalPrimaryDisplayResolutionHorizontal"
   ]
  },
  {
   "cell_type": "code",
   "execution_count": 79,
   "metadata": {},
   "outputs": [
    {
     "name": "stdout",
     "output_type": "stream",
     "text": [
      "[1440. 1366. 1920. ... 2920. 2900.  978.]\n"
     ]
    }
   ],
   "source": [
    "print(dataframe['Census_InternalPrimaryDisplayResolutionHorizontal'].unique())"
   ]
  },
  {
   "cell_type": "code",
   "execution_count": 80,
   "metadata": {},
   "outputs": [
    {
     "name": "stdout",
     "output_type": "stream",
     "text": [
      "0    1440.0\n",
      "1    1366.0\n",
      "2    1920.0\n",
      "3    1366.0\n",
      "4    1366.0\n",
      "5    1920.0\n",
      "6    1600.0\n",
      "Name: Census_InternalPrimaryDisplayResolutionHorizontal, dtype: float64\n"
     ]
    }
   ],
   "source": [
    "print(dfC['Census_InternalPrimaryDisplayResolutionHorizontal'].head(7))"
   ]
  },
  {
   "cell_type": "markdown",
   "metadata": {},
   "source": [
    "Census_InternalPrimaryDisplayResolutionVertical"
   ]
  },
  {
   "cell_type": "code",
   "execution_count": 81,
   "metadata": {},
   "outputs": [
    {
     "name": "stdout",
     "output_type": "stream",
     "text": [
      "[ 900.  768. 1080. ... 2858. 2106. 1229.]\n"
     ]
    }
   ],
   "source": [
    "print(dataframe['Census_InternalPrimaryDisplayResolutionVertical'].unique())"
   ]
  },
  {
   "cell_type": "code",
   "execution_count": 82,
   "metadata": {},
   "outputs": [
    {
     "name": "stdout",
     "output_type": "stream",
     "text": [
      "0     900.0\n",
      "1     768.0\n",
      "2    1080.0\n",
      "3     768.0\n",
      "4     768.0\n",
      "5    1080.0\n",
      "6     900.0\n",
      "Name: Census_InternalPrimaryDisplayResolutionVertical, dtype: float64\n"
     ]
    }
   ],
   "source": [
    "print(dfC['Census_InternalPrimaryDisplayResolutionVertical'].head(7))"
   ]
  },
  {
   "cell_type": "markdown",
   "metadata": {},
   "source": [
    "Census_PowerPlatformRoleName"
   ]
  },
  {
   "cell_type": "code",
   "execution_count": 83,
   "metadata": {},
   "outputs": [
    {
     "name": "stdout",
     "output_type": "stream",
     "text": [
      "['Desktop' 'Mobile' 'Slate' 'Workstation' 'SOHOServer' 'UNKNOWN'\n",
      " 'AppliancePC' 'EnterpriseServer' 'PerformanceServer' nan 'Unspecified']\n"
     ]
    }
   ],
   "source": [
    "print(dataframe['Census_PowerPlatformRoleName'].unique())"
   ]
  },
  {
   "cell_type": "code",
   "execution_count": 84,
   "metadata": {},
   "outputs": [],
   "source": [
    "unique_valuesCensus_PowerPlatformRoleName = dataframe['Census_PowerPlatformRoleName'].unique()\n",
    "\n",
    "# Mappeo los valores unicos por numeros\n",
    "value_to_number = {value: index + 1 for index, value in enumerate(unique_valuesCensus_PowerPlatformRoleName)}\n",
    "\n",
    "# Cambio los valores por los numeros \n",
    "dfC['Census_PowerPlatformRoleName'] = dfC['Census_PowerPlatformRoleName'].map(value_to_number)"
   ]
  },
  {
   "cell_type": "code",
   "execution_count": 85,
   "metadata": {},
   "outputs": [
    {
     "name": "stdout",
     "output_type": "stream",
     "text": [
      "0    1\n",
      "1    2\n",
      "2    1\n",
      "3    1\n",
      "4    2\n",
      "5    1\n",
      "6    2\n",
      "Name: Census_PowerPlatformRoleName, dtype: int64\n"
     ]
    }
   ],
   "source": [
    "print(dfC['Census_PowerPlatformRoleName'].head(7))"
   ]
  },
  {
   "cell_type": "markdown",
   "metadata": {},
   "source": [
    "Census_OSVersion"
   ]
  },
  {
   "cell_type": "code",
   "execution_count": 86,
   "metadata": {},
   "outputs": [
    {
     "name": "stdout",
     "output_type": "stream",
     "text": [
      "['10.0.17134.165' '10.0.17134.1' '10.0.17134.228' '10.0.17134.191'\n",
      " '10.0.14393.0' '10.0.17134.254' '10.0.16299.431' '10.0.17134.167'\n",
      " '10.0.10586.164' '10.0.17134.285' '10.0.16299.309' '10.0.10240.17914'\n",
      " '10.0.17134.137' '10.0.16299.125' '10.0.17134.112' '10.0.16299.15'\n",
      " '10.0.14393.576' '10.0.15063.1266' '10.0.16299.611' '10.0.15063.850'\n",
      " '10.0.10586.545' '10.0.15063.1206' '10.0.10586.14' '10.0.16299.248'\n",
      " '10.0.14393.1593' '10.0.14393.2189' '10.0.10586.420' '10.0.15063.250'\n",
      " '10.0.10586.589' '10.0.16299.371' '10.0.15063.1324' '10.0.15063.1088'\n",
      " '10.0.10240.16384' '10.0.16299.402' '10.0.15063.1209' '10.0.10586.318'\n",
      " '10.0.16299.547' '10.0.17134.286' '10.0.10240.17443' '10.0.15063.608'\n",
      " '10.0.10586.1176' '10.0.14393.321' '10.0.15063.0' '10.0.10240.16405'\n",
      " '10.0.14393.447' '10.0.15063.413' '10.0.15063.332' '10.0.10586.104'\n",
      " '10.0.10586.122' '10.0.14393.1066' '10.0.15063.726' '10.0.17134.81'\n",
      " '10.0.10586.0' '10.0.14393.1715' '10.0.14393.2007' '10.0.16299.522'\n",
      " '10.0.17134.48' '10.0.15063.1029' '10.0.16299.492' '10.0.14393.1914'\n",
      " '10.0.15063.909' '10.0.16299.192' '10.0.15063.483' '10.0.15063.674'\n",
      " '10.0.14393.2214' '10.0.10586.218' '10.0.10240.17889' '10.0.10240.17354'\n",
      " '10.0.16299.19' '10.0.10586.494' '10.0.15063.966' '10.0.10240.17946'\n",
      " '10.0.14393.2068' '10.0.16299.334' '10.0.16299.665' '10.0.14393.1358'\n",
      " '10.0.10240.16413' '10.0.16299.551' '10.0.17134.319' '10.0.10240.17113'\n",
      " '10.0.15063.1155' '10.0.10240.16601' '10.0.14393.351' '10.0.14393.693'\n",
      " '10.0.16299.64' '10.0.14393.1944' '10.0.16299.579' '10.0.16299.251'\n",
      " '10.0.14393.1770' '10.0.14393.1884' '10.0.10586.873' '10.0.14393.2396'\n",
      " '10.0.15063.786' '10.0.14393.2035' '10.0.14393.1198' '10.0.15063.502'\n",
      " '10.0.15063.877' '10.0.15063.994' '10.0.16299.637' '10.0.16299.461'\n",
      " '10.0.14393.2430' '10.0.10586.839' '10.0.10586.1106' '10.0.14393.82'\n",
      " '10.0.10586.446' '10.0.10586.63' '10.0.10586.29' '10.0.10586.962'\n",
      " '10.0.15063.632' '10.0.16299.98' '10.0.17744.1004' '10.0.15063.13'\n",
      " '10.0.10586.713' '10.0.10586.633' '10.0.16299.214' '10.0.10586.753'\n",
      " '10.0.14393.187' '10.0.14393.51' '10.0.15063.540' '10.0.10586.1045'\n",
      " '10.0.14393.1480' '10.0.10586.36' '10.0.15063.296' '10.0.14393.2125'\n",
      " '10.0.10586.679' '10.0.17692.1004' '10.0.10240.16397' '10.0.16299.666'\n",
      " '10.0.14393.953' '10.0.10586.916' '10.0.15063.1058' '10.0.15063.138'\n",
      " '10.0.10586.71' '10.0.14393.2248' '10.0.17744.1003' '10.0.14393.2395'\n",
      " '10.0.14393.5' '10.0.14393.2097' '10.0.14393.2485' '10.0.14393.105'\n",
      " '10.0.17738.1000' '10.0.15063.1235' '10.0.17751.1' '10.0.16299.696'\n",
      " '10.0.10586.3' '10.0.15063.1112' '10.0.10586.17' '10.0.14393.2155'\n",
      " '10.0.10240.17319' '10.0.10586.1007' '10.0.10240.16683'\n",
      " '10.0.10240.16487' '10.0.14393.2273' '10.0.14393.2457' '10.0.10240.17190'\n",
      " '10.0.17713.1002' '10.0.17755.1' '10.0.15063.447' '10.0.14393.970'\n",
      " '10.0.10240.16942' '10.0.10240.17861' '10.0.10240.17071'\n",
      " '10.0.10240.17202' '10.0.14393.222' '10.0.10240.16854' '10.0.14393.223'\n",
      " '10.0.17741.1000' '10.0.17733.1000' '10.0.14393.2363' '10.0.15063.1182'\n",
      " '10.0.10240.16590' '10.0.14393.2368' '10.0.10240.17976' '10.0.17746.1000'\n",
      " '10.0.17735.1000' '10.0.17754.1' '10.0.15063.729' '10.0.10586.338'\n",
      " '10.0.17758.4' '10.0.14393.67' '10.0.17740.1000' '10.0.17134.83'\n",
      " '10.0.17672.1000' '10.0.17758.1' '10.0.10240.17709' '10.0.15063.1356'\n",
      " '10.0.17763.1' '10.0.10586.11' '10.0.10586.105' '10.0.17134.5'\n",
      " '10.0.14393.969' '10.0.15063.1154' '10.0.14393.726' '10.0.17666.1000'\n",
      " '10.0.10240.16463' '10.0.10240.17024' '10.0.15063.1292' '10.0.17677.1000'\n",
      " '10.0.14393.2515' '10.0.17686.1003' '10.0.14393.479' '10.0.17747.1000'\n",
      " '10.0.16299.194' '10.0.15063.11' '10.0.10240.17533' '10.0.10240.16520'\n",
      " '10.0.14314.228' '10.0.10240.17918' '10.0.10240.17146' '10.0.15063.14'\n",
      " '10.0.10240.17236' '10.0.10240.17394' '10.0.17760.1' '10.0.14393.2312'\n",
      " '10.0.10240.16549' '10.0.17744.1001' '10.0.10240.17831' '10.0.15063.330'\n",
      " '10.0.14393.10' '10.0.17133.1' '10.0.14393.2339' '10.0.17759.1'\n",
      " '10.0.10240.17770' '10.0.10240.17738' '10.0.10240.16393'\n",
      " '10.0.10240.17797' '10.0.14393.1532' '10.0.10240.16430'\n",
      " '10.0.10240.16445' '10.0.10240.16433' '10.0.17692.1000' '10.0.17133.73'\n",
      " '10.0.14393.577' '10.0.10240.17643' '10.0.10586.79' '10.0.15063.936'\n",
      " '10.0.17682.1000' '10.0.17761.1001' '10.0.10586.499' '10.0.16299.165'\n",
      " '10.0.10240.16387' '10.0.17661.1001' '10.0.14393.3' '10.0.10240.17673'\n",
      " '10.0.17643.1000' '10.0.18234.1000' '10.0.14393.729' '10.0.10240.16771'\n",
      " '10.0.14393.1537' '10.0.15063.675' '10.0.18242.1000' '10.0.17639.1000'\n",
      " '10.0.10240.16644' '10.0.14393.1378' '10.0.17634.1000' '10.0.10586.456'\n",
      " '10.0.14986.1001' '10.0.10240.16389' '10.0.10586.639' '10.0.10240.16725'\n",
      " '10.0.10240.16732' '10.0.18237.1000' '10.0.17704.1000' '10.0.10240.17446'\n",
      " '10.0.16275.1000' '10.0.17650.1001' '10.0.14393.594' '10.0.10586.1177'\n",
      " '10.0.15063.448' '10.0.14393.1613' '10.0.10586.240' '10.0.15031.0'\n",
      " '10.0.10586.112' '10.0.14390.0' '10.0.16299.491' '10.0.17723.1000'\n",
      " '10.0.10240.16500' '10.0.14257.1000' '10.0.14295.1005' '10.0.16179.1000'\n",
      " '10.0.14385.0' '10.0.10240.16566' '10.0.16299.201' '10.0.17713.1000'\n",
      " '10.0.17711.1000' '10.0.17754.1000' '10.0.15063.242' '10.0.15042.0'\n",
      " '10.0.17761.1' '10.0.17004.1000' '10.0.14393.103' '10.0.7601.112'\n",
      " '10.0.17728.1000' '10.0.14342.1002' '10.0.15002.1001' '10.0.18240.1000'\n",
      " '10.0.14316.1000' '10.0.17627.1000' '10.0.10586.1540' '10.0.14366.0'\n",
      " '10.0.14295.1004' '10.0.14393.206' '10.0.14946.1000' '10.0.14352.1002'\n",
      " '10.0.17730.1001' '10.0.14905.1000' '10.0.15019.1000' '10.0.16251.1000'\n",
      " '10.0.14372.0' '6.3.9600.19102' '10.0.17655.1000' '10.0.15055.0'\n",
      " '6.1.7601.24241' '10.0.10586.550' '10.0.14393.1230' '10.0.17017.1000'\n",
      " '10.0.14291.1001' '10.0.10586.842' '10.0.14393.2156' '6.2.9200.17617'\n",
      " '10.0.10240.16394' '10.0.18219.1000' '10.0.9600.164' '10.0.14971.1000'\n",
      " '10.0.16299.1003' '10.0.17742.1000' '10.0.16232.1000' '10.0.16299.0'\n",
      " '10.0.15025.1000' '10.0.18204.1001' '10.0.14379.0' '10.0.17063.1000'\n",
      " '10.0.17035.1000' '10.0.14389.19' '10.0.10240.17609' '10.0.14361.0'\n",
      " '10.0.10565.41736' '10.0.14931.1002' '10.0.9200.545' '10.0.17134.111'\n",
      " '10.0.15048.0' '10.0.16294.1' '10.0.11099.1000' '10.0.7601.29'\n",
      " '10.0.14936.1000' '10.0.10240.16399' '6.3.9600.19069' '10.0.18214.1000'\n",
      " '10.0.14931.1000' '10.0.17730.1000' '10.0.17074.1002' '10.0.10240.16391'\n",
      " '10.0.17134.226' '10.0.17623.1002' '10.0.14271.1000' '10.0.14926.1000'\n",
      " '10.0.10240.17488' '10.0.17025.1000' '10.0.16176.1000' '10.0.16299.484'\n",
      " '10.0.17604.1000' '10.0.16241.1001' '10.0.14393.2423' '10.0.17618.1000'\n",
      " '10.0.17128.1' '10.0.10586.601' '10.0.14901.1000' '10.0.16278.1000'\n",
      " '10.0.16199.1000' '10.0.10240.17974' '10.0.14915.1000' '10.0.17127.1'\n",
      " '10.0.14332.1001' '10.0.10576.0' '10.0.14393.2311' '10.0.16193.1001'\n",
      " '10.0.11082.1000' '10.0.14298.1' '6.2.9200.17581' '10.0.14393.1797'\n",
      " '10.0.10240.16425' '6.3.9600.18687' '10.0.14393.1670' '10.0.18224.1000'\n",
      " '10.0.18241.1000' '10.0.17134.281' '10.0.17689.1000' '10.0.17753.1001'\n",
      " '10.0.16281.1000' '10.0.16299.365' '10.0.17093.1000' '10.0.16288.1'\n",
      " '10.0.14230.228' '6.1.7601.24149' '10.0.14393.1737' '10.0.16299.91'\n",
      " '10.0.16215.1000' '10.0.14986.1000' '10.0.14955.1000' '10.0.16299.695'\n",
      " '10.0.17134.284' '10.0.14295.1000' '10.0.17134.283' '10.0.16257.1000'\n",
      " '10.0.17046.1000' '10.0.16299.488' '10.0.14421.191' '10.0.14342.1001'\n",
      " '10.0.14328.1000' '10.0.18227.1000' '10.0.18238.1000' '10.0.14425.191'\n",
      " '10.0.14965.1001' '10.0.14959.1000' '10.0.10240.17943' '10.0.15061.0'\n",
      " '10.0.17107.1000' '10.0.16170.1000' '10.0.17694.1000' '10.0.14306.112'\n",
      " '6.3.9600.18778' '10.0.14300.1000' '10.0.17757.1' '10.0.18233.1000'\n",
      " '10.0.7600.112' '10.0.14474.228' '10.0.16296.0' '10.0.15060.0'\n",
      " '10.0.14206.228' '10.0.17753.1' '10.0.16273.1000' '10.0.14393.112'\n",
      " '10.0.16291.0' '10.0.10586.1417' '10.0.9200.1593' '6.1.7601.24214'\n",
      " '10.0.14951.1000' '10.0.14279.1000' '6.3.9600.18756' '10.0.15063.1149'\n",
      " '10.0.17756.1' '10.0.14942.1000' '10.0.17040.1000' '10.0.14379.1'\n",
      " '10.0.17749.1000' '10.0.14267.1000' '10.0.10240.16498' '10.0.16299.691'\n",
      " '10.0.17752.1' '10.0.16299.109' '6.1.7601.23418' '10.0.18064.228'\n",
      " '10.0.17115.1' '10.0.18226.1000' '10.0.15046.0' '10.0.14383.0'\n",
      " '10.0.16237.1001' '10.0.10586.596' '10.0.10586.1232' '10.0.15063.1322'\n",
      " '10.0.18230.1000' '10.0.18244.1000' '10.0.17083.1000' '10.0.18236.1001'\n",
      " '10.0.17744.1000' '6.2.9200.21703' '10.0.14466.228' '10.0.16299.183'\n",
      " '10.0.17750.1000']\n"
     ]
    }
   ],
   "source": [
    "print(dataframe['Census_OSVersion'].unique())"
   ]
  },
  {
   "cell_type": "code",
   "execution_count": 87,
   "metadata": {},
   "outputs": [],
   "source": [
    "unique_valuesCensus_OSVersion = dataframe['Census_OSVersion'].unique()\n",
    "\n",
    "# Mappeo los valores unicos por numeros\n",
    "value_to_number = {value: index + 1 for index, value in enumerate(unique_valuesCensus_OSVersion)}\n",
    "\n",
    "# Cambio los valores por los numeros \n",
    "dfC['Census_OSVersion'] = dfC['Census_OSVersion'].map(value_to_number)"
   ]
  },
  {
   "cell_type": "code",
   "execution_count": 88,
   "metadata": {},
   "outputs": [
    {
     "name": "stdout",
     "output_type": "stream",
     "text": [
      "0    1\n",
      "1    2\n",
      "2    1\n",
      "3    3\n",
      "4    4\n",
      "5    1\n",
      "6    1\n",
      "Name: Census_OSVersion, dtype: int64\n"
     ]
    }
   ],
   "source": [
    "print(dfC['Census_OSVersion'].head(7))"
   ]
  },
  {
   "cell_type": "markdown",
   "metadata": {},
   "source": [
    "Census_OSArchitecture"
   ]
  },
  {
   "cell_type": "code",
   "execution_count": 89,
   "metadata": {},
   "outputs": [
    {
     "name": "stdout",
     "output_type": "stream",
     "text": [
      "['amd64' 'arm64' 'x86']\n"
     ]
    }
   ],
   "source": [
    "print(dataframe['Census_OSArchitecture'].unique())"
   ]
  },
  {
   "cell_type": "code",
   "execution_count": 90,
   "metadata": {},
   "outputs": [],
   "source": [
    "unique_valuesCensus_OSArchitecture = dataframe['Census_OSArchitecture'].unique()\n",
    "\n",
    "# Mappeo los valores unicos por numeros\n",
    "value_to_number = {value: index + 1 for index, value in enumerate(unique_valuesCensus_OSArchitecture)}\n",
    "\n",
    "# Cambio los valores por los numeros \n",
    "dfC['Census_OSArchitecture'] = dfC['Census_OSArchitecture'].map(value_to_number)"
   ]
  },
  {
   "cell_type": "code",
   "execution_count": 91,
   "metadata": {},
   "outputs": [
    {
     "name": "stdout",
     "output_type": "stream",
     "text": [
      "0    1\n",
      "1    1\n",
      "2    1\n",
      "3    1\n",
      "4    1\n",
      "5    1\n",
      "6    1\n",
      "Name: Census_OSArchitecture, dtype: int64\n"
     ]
    }
   ],
   "source": [
    "print(dfC['Census_OSArchitecture'].head(7))"
   ]
  },
  {
   "cell_type": "markdown",
   "metadata": {},
   "source": [
    "Census_OSBranch"
   ]
  },
  {
   "cell_type": "code",
   "execution_count": 92,
   "metadata": {},
   "outputs": [
    {
     "name": "stdout",
     "output_type": "stream",
     "text": [
      "['rs4_release' 'rs1_release' 'rs3_release_svc_escrow' 'th2_release'\n",
      " 'rs3_release' 'th1_st1' 'rs2_release' 'th1' 'rs3_release_svc_escrow_im'\n",
      " 'th2_release_sec' 'rs5_release' 'rs_prerelease_flt' 'rs_prerelease'\n",
      " 'rs5_release_sigma' 'rs5_release_edge' 'rs5_release_sigma_dev'\n",
      " 'winblue_ltsb_escrow' 'win7sp1_ldr' 'rs1_release_srvmedia' 'win8_gdr'\n",
      " 'rs1_release_sec' 'rs3_release_svc' 'Khmer OS' 'winblue_ltsb' 'rs_shell'\n",
      " 'rs_onecore_stack_per1' 'win7sp1_ldr_escrow' 'rs_onecore_base_cobalt'\n",
      " 'rs1_release_svc' 'rs_xbox' 'rs5_release_sign' 'win8_ldr']\n"
     ]
    }
   ],
   "source": [
    "print(dataframe['Census_OSBranch'].unique())"
   ]
  },
  {
   "cell_type": "code",
   "execution_count": 93,
   "metadata": {},
   "outputs": [],
   "source": [
    "unique_valuesCensus_OSBranch = dataframe['Census_OSBranch'].unique()\n",
    "\n",
    "# Mappeo los valores unicos por numeros\n",
    "value_to_number = {value: index + 1 for index, value in enumerate(unique_valuesCensus_OSBranch)}\n",
    "\n",
    "# Cambio los valores por los numeros \n",
    "dfC['Census_OSBranch'] = dfC['Census_OSBranch'].map(value_to_number)"
   ]
  },
  {
   "cell_type": "code",
   "execution_count": 94,
   "metadata": {},
   "outputs": [
    {
     "name": "stdout",
     "output_type": "stream",
     "text": [
      "0    1\n",
      "1    1\n",
      "2    1\n",
      "3    1\n",
      "4    1\n",
      "5    1\n",
      "6    1\n",
      "Name: Census_OSBranch, dtype: int64\n"
     ]
    }
   ],
   "source": [
    "print(dfC['Census_OSBranch'].head(7))"
   ]
  },
  {
   "cell_type": "markdown",
   "metadata": {},
   "source": [
    "Census_OSBuildNumber"
   ]
  },
  {
   "cell_type": "code",
   "execution_count": 95,
   "metadata": {},
   "outputs": [
    {
     "name": "stdout",
     "output_type": "stream",
     "text": [
      "[17134 14393 16299 10586 10240 15063 17744 17692 17738 17751 17713 17755\n",
      " 17741 17733 17746 17735 17754 17758 17740 17672 17763 17666 17677 17686\n",
      " 17747 14314 17760 17133 17759 17682 17761 17661 17643 18234 18242 17639\n",
      " 17634 14986 18237 17704 16275 17650 15031 14390 17723 14257 14295 16179\n",
      " 14385 17711 15042 17004  7601 17728 14342 15002 18240 14316 17627 14366\n",
      " 14946 14352 17730 14905 15019 16251 14372  9600 17655 15055 17017 14291\n",
      "  9200 18219 14971 17742 16232 15025 18204 14379 17063 17035 14389 14361\n",
      " 10565 14931 15048 16294 11099 14936 18214 17074 17623 14271 14926 17025\n",
      " 16176 17604 16241 17618 17128 14901 16278 16199 14915 17127 14332 10576\n",
      " 16193 11082 14298 18224 18241 17689 17753 16281 17093 16288 14230 16215\n",
      " 14955 16257 17046 14421 14328 18227 18238 14425 14965 14959 15061 17107\n",
      " 16170 17694 14306 14300 17757 18233  7600 14474 16296 15060 14206 16273\n",
      " 16291 14951 14279 17756 14942 17040 17749 14267 17752 18064 17115 18226\n",
      " 15046 14383 16237 18230 18244 17083 18236 14466 17750]\n"
     ]
    }
   ],
   "source": [
    "print(dataframe['Census_OSBuildNumber'].unique())"
   ]
  },
  {
   "cell_type": "code",
   "execution_count": 96,
   "metadata": {},
   "outputs": [
    {
     "name": "stdout",
     "output_type": "stream",
     "text": [
      "0    17134\n",
      "1    17134\n",
      "2    17134\n",
      "3    17134\n",
      "4    17134\n",
      "5    17134\n",
      "6    17134\n",
      "Name: Census_OSBuildNumber, dtype: int64\n"
     ]
    }
   ],
   "source": [
    "print(dfC['Census_OSBuildNumber'].head(7))"
   ]
  },
  {
   "cell_type": "markdown",
   "metadata": {},
   "source": [
    "Census_OSBuildNumber"
   ]
  },
  {
   "cell_type": "markdown",
   "metadata": {},
   "source": [
    "Census_OSBuildRevision"
   ]
  },
  {
   "cell_type": "code",
   "execution_count": 97,
   "metadata": {},
   "outputs": [
    {
     "name": "stdout",
     "output_type": "stream",
     "text": [
      "[  165     1   228   191     0   254   431   167   164   285   309 17914\n",
      "   137   125   112    15   576  1266   611   850   545  1206    14   248\n",
      "  1593  2189   420   250   589   371  1324  1088 16384   402  1209   318\n",
      "   547   286 17443   608  1176   321 16405   447   413   332   104   122\n",
      "  1066   726    81  1715  2007   522    48  1029   492  1914   909   192\n",
      "   483   674  2214   218 17889 17354    19   494   966 17946  2068   334\n",
      "   665  1358 16413   551   319 17113  1155 16601   351   693    64  1944\n",
      "   579   251  1770  1884   873  2396   786  2035  1198   502   877   994\n",
      "   637   461  2430   839  1106    82   446    63    29   962   632    98\n",
      "  1004    13   713   633   214   753   187    51   540  1045  1480    36\n",
      "   296  2125   679 16397   666   953   916  1058   138    71  2248  1003\n",
      "  2395     5  2097  2485   105  1000  1235   696     3  1112    17  2155\n",
      " 17319  1007 16683 16487  2273  2457 17190  1002   970 16942 17861 17071\n",
      " 17202   222 16854   223  2363  1182 16590  2368 17976   729   338     4\n",
      "    67    83 17709  1356    11   969  1154 16463 17024  1292  2515   479\n",
      "   194 17533 16520 17918 17146 17236 17394  2312 16549  1001 17831   330\n",
      "    10  2339 17770 17738 16393 17797  1532 16430 16445 16433    73   577\n",
      " 17643    79   936   499 16387 17673 16771  1537   675 16644  1378   456\n",
      " 16389   639 16725 16732 17446   594  1177   448  1613   240   491 16500\n",
      "  1005 16566   201   242   103  1540   206 19102 24241   550  1230   842\n",
      "  2156 17617 16394 17609 41736   111 16399 19069 16391   226 17488   484\n",
      "  2423   601 17974  2311 17581  1797 16425 18687  1670   281   365 24149\n",
      "  1737    91   695   284   283   488 17943 18778  1417 24214 18756  1149\n",
      " 16498   691   109 23418   596  1232  1322 21703   183]\n"
     ]
    }
   ],
   "source": [
    "print(dataframe['Census_OSBuildRevision'].unique())"
   ]
  },
  {
   "cell_type": "code",
   "execution_count": 98,
   "metadata": {},
   "outputs": [
    {
     "name": "stdout",
     "output_type": "stream",
     "text": [
      "0    165\n",
      "1      1\n",
      "2    165\n",
      "3    228\n",
      "4    191\n",
      "5    165\n",
      "6    165\n",
      "Name: Census_OSBuildRevision, dtype: int64\n"
     ]
    }
   ],
   "source": [
    "print(dfC['Census_OSBuildRevision'].head(7))"
   ]
  },
  {
   "cell_type": "markdown",
   "metadata": {},
   "source": [
    "Census_OSEdition"
   ]
  },
  {
   "cell_type": "code",
   "execution_count": 99,
   "metadata": {},
   "outputs": [
    {
     "name": "stdout",
     "output_type": "stream",
     "text": [
      "['Professional' 'Core' 'CoreSingleLanguage' 'EnterpriseS'\n",
      " 'CoreCountrySpecific' 'EnterpriseSN' 'ProfessionalEducation' 'Enterprise'\n",
      " 'Education' 'Cloud' 'ProfessionalN' 'ServerStandard' 'CoreN'\n",
      " 'ServerStandardEval' 'EducationN' 'ServerDatacenterEval'\n",
      " 'ProfessionalEducationN' 'ServerSolution' 'EnterpriseN'\n",
      " 'ProfessionalWorkstationN' 'ProfessionalWorkstation' 'Ultimate' 'CloudN'\n",
      " 'ProfessionalCountrySpecific' 'ServerRdsh' 'ServerDatacenter'\n",
      " 'HomePremium' 'ProfessionalSingleLanguage' 'ServerDatacenterACor' 'Pro'\n",
      " 'Enterprise 2015 LTSB' 'Home' 'professional']\n"
     ]
    }
   ],
   "source": [
    "print(dataframe['Census_OSEdition'].unique())"
   ]
  },
  {
   "cell_type": "code",
   "execution_count": 100,
   "metadata": {},
   "outputs": [],
   "source": [
    "unique_valuesCensus_OSEdition = dataframe['Census_OSEdition'].unique()\n",
    "\n",
    "# Mappeo los valores unicos por numeros\n",
    "value_to_number = {value: index + 1 for index, value in enumerate(unique_valuesCensus_OSEdition)}\n",
    "\n",
    "# Cambio los valores por los numeros \n",
    "dfC['Census_OSEdition'] = dfC['Census_OSEdition'].map(value_to_number)"
   ]
  },
  {
   "cell_type": "code",
   "execution_count": 101,
   "metadata": {},
   "outputs": [
    {
     "name": "stdout",
     "output_type": "stream",
     "text": [
      "0    1\n",
      "1    1\n",
      "2    2\n",
      "3    1\n",
      "4    2\n",
      "5    1\n",
      "6    2\n",
      "Name: Census_OSEdition, dtype: int64\n"
     ]
    }
   ],
   "source": [
    "print(dfC['Census_OSEdition'].head(7))"
   ]
  },
  {
   "cell_type": "markdown",
   "metadata": {},
   "source": [
    "Census_OSSkuName"
   ]
  },
  {
   "cell_type": "code",
   "execution_count": 102,
   "metadata": {},
   "outputs": [
    {
     "name": "stdout",
     "output_type": "stream",
     "text": [
      "['PROFESSIONAL' 'CORE' 'CORE_SINGLELANGUAGE' 'ENTERPRISE_S'\n",
      " 'CORE_COUNTRYSPECIFIC' 'ENTERPRISE_S_N' 'ENTERPRISE' 'EDUCATION' 'CLOUD'\n",
      " 'PROFESSIONAL_N' 'STANDARD_SERVER' 'CORE_N' 'STANDARD_EVALUATION_SERVER'\n",
      " 'EDUCATION_N' 'DATACENTER_EVALUATION_SERVER' 'SB_SOLUTION_SERVER'\n",
      " 'ENTERPRISE_N' 'PRO_WORKSTATION_N' 'PRO_WORKSTATION' 'UNLICENSED'\n",
      " 'ULTIMATE' 'CLOUDN' 'PRO_CHINA' 'SERVERRDSH' 'DATACENTER_SERVER'\n",
      " 'ENTERPRISEG' 'STARTER' 'PRO_FOR_EDUCATION' 'PRO_SINGLE_LANGUAGE'\n",
      " 'UNDEFINED']\n"
     ]
    }
   ],
   "source": [
    "print(dataframe['Census_OSSkuName'].unique())"
   ]
  },
  {
   "cell_type": "code",
   "execution_count": 103,
   "metadata": {},
   "outputs": [],
   "source": [
    "unique_valuesCensus_OSSkuName = dataframe['Census_OSSkuName'].unique()\n",
    "\n",
    "# Mappeo los valores unicos por numeros\n",
    "value_to_number = {value: index + 1 for index, value in enumerate(unique_valuesCensus_OSSkuName)}\n",
    "\n",
    "# Cambio los valores por los numeros \n",
    "dfC['Census_OSSkuName'] = dfC['Census_OSSkuName'].map(value_to_number)"
   ]
  },
  {
   "cell_type": "code",
   "execution_count": 104,
   "metadata": {},
   "outputs": [
    {
     "name": "stdout",
     "output_type": "stream",
     "text": [
      "0    1\n",
      "1    1\n",
      "2    2\n",
      "3    1\n",
      "4    2\n",
      "5    1\n",
      "6    2\n",
      "Name: Census_OSSkuName, dtype: int64\n"
     ]
    }
   ],
   "source": [
    "print(dfC['Census_OSSkuName'].head(7))"
   ]
  },
  {
   "cell_type": "markdown",
   "metadata": {},
   "source": [
    "Census_OSInstallTypeName"
   ]
  },
  {
   "cell_type": "code",
   "execution_count": 105,
   "metadata": {},
   "outputs": [
    {
     "name": "stdout",
     "output_type": "stream",
     "text": [
      "['UUPUpgrade' 'IBSClean' 'Update' 'Upgrade' 'Other' 'Clean' 'Reset'\n",
      " 'Refresh' 'CleanPCRefresh']\n"
     ]
    }
   ],
   "source": [
    "print(dataframe['Census_OSInstallTypeName'].unique())"
   ]
  },
  {
   "cell_type": "code",
   "execution_count": 106,
   "metadata": {},
   "outputs": [],
   "source": [
    "unique_valuesCensus_OSInstallTypeName = dataframe['Census_OSInstallTypeName'].unique()\n",
    "\n",
    "# Mappeo los valores unicos por numeros\n",
    "value_to_number = {value: index + 1 for index, value in enumerate(unique_valuesCensus_OSInstallTypeName)}\n",
    "\n",
    "# Cambio los valores por los numeros \n",
    "dfC['Census_OSInstallTypeName'] = dfC['Census_OSInstallTypeName'].map(value_to_number)"
   ]
  },
  {
   "cell_type": "code",
   "execution_count": 107,
   "metadata": {},
   "outputs": [
    {
     "name": "stdout",
     "output_type": "stream",
     "text": [
      "0    1\n",
      "1    2\n",
      "2    1\n",
      "3    1\n",
      "4    3\n",
      "5    1\n",
      "6    2\n",
      "Name: Census_OSInstallTypeName, dtype: int64\n"
     ]
    }
   ],
   "source": [
    "print(dfC['Census_OSInstallTypeName'].head(7))"
   ]
  },
  {
   "cell_type": "markdown",
   "metadata": {},
   "source": [
    "Census_OSInstallLanguageIdentifier"
   ]
  },
  {
   "cell_type": "code",
   "execution_count": 108,
   "metadata": {},
   "outputs": [
    {
     "name": "stdout",
     "output_type": "stream",
     "text": [
      "[26.  8.  7. 17. 18. 14. 27.  6. 29. 37. 39. 10. 35.  9. 20. 25. nan  1.\n",
      "  4.  5. 24. 31. 30. 19. 15.  3.  2. 16. 33. 23. 36. 22. 12. 13. 32. 21.\n",
      " 38. 28. 34. 11.]\n"
     ]
    }
   ],
   "source": [
    "print(dataframe['Census_OSInstallLanguageIdentifier'].unique())"
   ]
  },
  {
   "cell_type": "code",
   "execution_count": 109,
   "metadata": {},
   "outputs": [
    {
     "name": "stdout",
     "output_type": "stream",
     "text": [
      "0    26.0\n",
      "1     8.0\n",
      "2     7.0\n",
      "3    17.0\n",
      "4     8.0\n",
      "5    18.0\n",
      "6    14.0\n",
      "Name: Census_OSInstallLanguageIdentifier, dtype: float64\n"
     ]
    }
   ],
   "source": [
    "print(dfC['Census_OSInstallLanguageIdentifier'].head(7))"
   ]
  },
  {
   "cell_type": "markdown",
   "metadata": {},
   "source": [
    "Census_OSUILocaleIdentifier"
   ]
  },
  {
   "cell_type": "code",
   "execution_count": 110,
   "metadata": {},
   "outputs": [
    {
     "name": "stdout",
     "output_type": "stream",
     "text": [
      "[119  31  30  64  72  49 120  28 125 158 160  35 148  34  83 115   5  24\n",
      " 156  26 109 130 128  74  58  20  11  62 140 105 151  92  44  48 136  17\n",
      "  90 159 161 123 145  42  68  38  54  12  32  59  63  37 143 111  15  27\n",
      "  51  36 116  93  65  21   7 122 121  29  50   6 106 126  76 141 135 110\n",
      "  70  82  80  85 162  91 157 149  95  60 124  69   9 131 132  71 117  73\n",
      " 152  40  84 146 112  57  19 142  39  98  75 134 129 144 108  13  67 139\n",
      "  66  45 133  46  33  22 150  96  77  87  25  14  52 153  41   1   3 138\n",
      "  16  86  78  81  99  89 102   8 147 107  61  10  56   2 127  55 155  18\n",
      "  43 113 104]\n"
     ]
    }
   ],
   "source": [
    "print(dataframe['Census_OSUILocaleIdentifier'].unique())"
   ]
  },
  {
   "cell_type": "code",
   "execution_count": 111,
   "metadata": {},
   "outputs": [
    {
     "name": "stdout",
     "output_type": "stream",
     "text": [
      "0    119\n",
      "1     31\n",
      "2     30\n",
      "3     64\n",
      "4     31\n",
      "5     72\n",
      "6     49\n",
      "Name: Census_OSUILocaleIdentifier, dtype: int64\n"
     ]
    }
   ],
   "source": [
    "print(dfC['Census_OSUILocaleIdentifier'].head(7))"
   ]
  },
  {
   "cell_type": "markdown",
   "metadata": {},
   "source": [
    "Census_OSWUAutoUpdateOptionsName"
   ]
  },
  {
   "cell_type": "code",
   "execution_count": 112,
   "metadata": {},
   "outputs": [
    {
     "name": "stdout",
     "output_type": "stream",
     "text": [
      "['UNKNOWN' 'FullAuto' 'Notify' 'AutoInstallAndRebootAtMaintenanceTime'\n",
      " 'Off' 'DownloadNotify']\n"
     ]
    }
   ],
   "source": [
    "print(dataframe['Census_OSWUAutoUpdateOptionsName'].unique())"
   ]
  },
  {
   "cell_type": "code",
   "execution_count": 113,
   "metadata": {},
   "outputs": [],
   "source": [
    "unique_valuesCensus_OSWUAutoUpdateOptionsName = dataframe['Census_OSWUAutoUpdateOptionsName'].unique()\n",
    "\n",
    "# Mappeo los valores unicos por numeros\n",
    "value_to_number = {value: index + 1 for index, value in enumerate(unique_valuesCensus_OSWUAutoUpdateOptionsName)}\n",
    "\n",
    "# Cambio los valores por los numeros \n",
    "dfC['Census_OSWUAutoUpdateOptionsName'] = dfC['Census_OSWUAutoUpdateOptionsName'].map(value_to_number)"
   ]
  },
  {
   "cell_type": "code",
   "execution_count": 114,
   "metadata": {},
   "outputs": [
    {
     "name": "stdout",
     "output_type": "stream",
     "text": [
      "0    1\n",
      "1    1\n",
      "2    2\n",
      "3    2\n",
      "4    2\n",
      "5    2\n",
      "6    2\n",
      "Name: Census_OSWUAutoUpdateOptionsName, dtype: int64\n"
     ]
    }
   ],
   "source": [
    "print(dfC['Census_OSWUAutoUpdateOptionsName'].head(7))"
   ]
  },
  {
   "cell_type": "markdown",
   "metadata": {},
   "source": [
    "Census_IsPortableOperatingSystem"
   ]
  },
  {
   "cell_type": "code",
   "execution_count": 115,
   "metadata": {},
   "outputs": [
    {
     "name": "stdout",
     "output_type": "stream",
     "text": [
      "[0 1]\n"
     ]
    }
   ],
   "source": [
    "print(dataframe['Census_IsPortableOperatingSystem'].unique())"
   ]
  },
  {
   "cell_type": "code",
   "execution_count": 116,
   "metadata": {},
   "outputs": [
    {
     "name": "stdout",
     "output_type": "stream",
     "text": [
      "0    0\n",
      "1    0\n",
      "2    0\n",
      "3    0\n",
      "4    0\n",
      "5    0\n",
      "6    0\n",
      "Name: Census_IsPortableOperatingSystem, dtype: int64\n"
     ]
    }
   ],
   "source": [
    "print(dfC['Census_IsPortableOperatingSystem'].head(7))"
   ]
  },
  {
   "cell_type": "markdown",
   "metadata": {},
   "source": [
    "Census_GenuineStateName"
   ]
  },
  {
   "cell_type": "code",
   "execution_count": 117,
   "metadata": {},
   "outputs": [
    {
     "name": "stdout",
     "output_type": "stream",
     "text": [
      "['IS_GENUINE' 'OFFLINE' 'INVALID_LICENSE' 'UNKNOWN' 'TAMPERED']\n"
     ]
    }
   ],
   "source": [
    "print(dataframe['Census_GenuineStateName'].unique())"
   ]
  },
  {
   "cell_type": "code",
   "execution_count": 118,
   "metadata": {},
   "outputs": [],
   "source": [
    "unique_valuesCensus_GenuineStateName = dataframe['Census_GenuineStateName'].unique()\n",
    "\n",
    "# Mappeo los valores unicos por numeros\n",
    "value_to_number = {value: index + 1 for index, value in enumerate(unique_valuesCensus_GenuineStateName)}\n",
    "\n",
    "# Cambio los valores por los numeros \n",
    "dfC['Census_GenuineStateName'] = dfC['Census_GenuineStateName'].map(value_to_number)"
   ]
  },
  {
   "cell_type": "code",
   "execution_count": 119,
   "metadata": {},
   "outputs": [
    {
     "name": "stdout",
     "output_type": "stream",
     "text": [
      "0    1\n",
      "1    2\n",
      "2    1\n",
      "3    1\n",
      "4    1\n",
      "5    1\n",
      "6    1\n",
      "Name: Census_GenuineStateName, dtype: int64\n"
     ]
    }
   ],
   "source": [
    "print(dfC['Census_GenuineStateName'].head(7))"
   ]
  },
  {
   "cell_type": "markdown",
   "metadata": {},
   "source": [
    "CONTINUAR DE ACA CON EL 55"
   ]
  },
  {
   "cell_type": "markdown",
   "metadata": {},
   "source": [
    "Census_ActivationChannel"
   ]
  },
  {
   "cell_type": "code",
   "execution_count": 120,
   "metadata": {},
   "outputs": [
    {
     "name": "stdout",
     "output_type": "stream",
     "text": [
      "['Retail' 'OEM:NONSLP' 'OEM:DM' 'Volume:GVLK' 'Volume:MAK'\n",
      " 'Retail:TB:Eval']\n"
     ]
    }
   ],
   "source": [
    "print(dataframe['Census_ActivationChannel'].unique())"
   ]
  },
  {
   "cell_type": "code",
   "execution_count": 121,
   "metadata": {},
   "outputs": [],
   "source": [
    "unique_valuesCensus_ActivationChannel = dataframe['Census_ActivationChannel'].unique()\n",
    "\n",
    "# Mappeo los valores unicos por numeros\n",
    "value_to_number = {value: index + 1 for index, value in enumerate(unique_valuesCensus_ActivationChannel)}\n",
    "\n",
    "# Cambio los valores por los numeros \n",
    "dfC['Census_ActivationChannel'] = dfC['Census_ActivationChannel'].map(value_to_number)"
   ]
  },
  {
   "cell_type": "code",
   "execution_count": 122,
   "metadata": {},
   "outputs": [
    {
     "name": "stdout",
     "output_type": "stream",
     "text": [
      "0    1\n",
      "1    1\n",
      "2    2\n",
      "3    2\n",
      "4    1\n",
      "5    1\n",
      "6    1\n",
      "Name: Census_ActivationChannel, dtype: int64\n"
     ]
    }
   ],
   "source": [
    "print(dfC['Census_ActivationChannel'].head(7))"
   ]
  },
  {
   "cell_type": "markdown",
   "metadata": {},
   "source": [
    "Census_FlightRing"
   ]
  },
  {
   "cell_type": "code",
   "execution_count": 123,
   "metadata": {},
   "outputs": [
    {
     "name": "stdout",
     "output_type": "stream",
     "text": [
      "['Retail' 'NOT_SET' 'Unknown' 'Disabled' 'RP' 'WIS' 'WIF' 'OSG' 'Canary'\n",
      " 'Invalid']\n"
     ]
    }
   ],
   "source": [
    "print(dataframe['Census_FlightRing'].unique())"
   ]
  },
  {
   "cell_type": "code",
   "execution_count": 124,
   "metadata": {},
   "outputs": [],
   "source": [
    "unique_valuesCensus_FlightRing = dataframe['Census_FlightRing'].unique()\n",
    "\n",
    "# Mappeo los valores unicos por numeros\n",
    "value_to_number = {value: index + 1 for index, value in enumerate(unique_valuesCensus_FlightRing)}\n",
    "\n",
    "# Cambio los valores por los numeros \n",
    "dfC['Census_FlightRing'] = dfC['Census_FlightRing'].map(value_to_number)"
   ]
  },
  {
   "cell_type": "code",
   "execution_count": 125,
   "metadata": {},
   "outputs": [
    {
     "name": "stdout",
     "output_type": "stream",
     "text": [
      "0    1\n",
      "1    2\n",
      "2    1\n",
      "3    1\n",
      "4    1\n",
      "5    1\n",
      "6    1\n",
      "Name: Census_FlightRing, dtype: int64\n"
     ]
    }
   ],
   "source": [
    "print(dfC['Census_FlightRing'].head(7))"
   ]
  },
  {
   "cell_type": "markdown",
   "metadata": {},
   "source": [
    "Census_IsSecureBootEnabled"
   ]
  },
  {
   "cell_type": "code",
   "execution_count": 126,
   "metadata": {},
   "outputs": [
    {
     "name": "stdout",
     "output_type": "stream",
     "text": [
      "[0 1]\n"
     ]
    }
   ],
   "source": [
    "print(dataframe['Census_IsSecureBootEnabled'].unique())"
   ]
  },
  {
   "cell_type": "code",
   "execution_count": 127,
   "metadata": {},
   "outputs": [
    {
     "name": "stdout",
     "output_type": "stream",
     "text": [
      "0    0\n",
      "1    0\n",
      "2    0\n",
      "3    0\n",
      "4    0\n",
      "5    0\n",
      "6    1\n",
      "Name: Census_IsSecureBootEnabled, dtype: int64\n"
     ]
    }
   ],
   "source": [
    "print(dfC['Census_IsSecureBootEnabled'].head(7))"
   ]
  },
  {
   "cell_type": "markdown",
   "metadata": {},
   "source": [
    "Census_IsVirtualDevice"
   ]
  },
  {
   "cell_type": "code",
   "execution_count": 128,
   "metadata": {},
   "outputs": [
    {
     "name": "stdout",
     "output_type": "stream",
     "text": [
      "[ 0. nan  1.]\n"
     ]
    }
   ],
   "source": [
    "print(dataframe['Census_IsVirtualDevice'].unique())"
   ]
  },
  {
   "cell_type": "code",
   "execution_count": 129,
   "metadata": {},
   "outputs": [
    {
     "name": "stdout",
     "output_type": "stream",
     "text": [
      "0    0.0\n",
      "1    0.0\n",
      "2    0.0\n",
      "3    0.0\n",
      "4    0.0\n",
      "5    0.0\n",
      "6    0.0\n",
      "Name: Census_IsVirtualDevice, dtype: float64\n"
     ]
    }
   ],
   "source": [
    "print(dfC['Census_IsVirtualDevice'].head(7))"
   ]
  },
  {
   "cell_type": "markdown",
   "metadata": {},
   "source": [
    "Census_IsTouchEnabled"
   ]
  },
  {
   "cell_type": "code",
   "execution_count": 130,
   "metadata": {},
   "outputs": [
    {
     "name": "stdout",
     "output_type": "stream",
     "text": [
      "[0 1]\n"
     ]
    }
   ],
   "source": [
    "print(dataframe['Census_IsTouchEnabled'].unique())"
   ]
  },
  {
   "cell_type": "code",
   "execution_count": 131,
   "metadata": {},
   "outputs": [
    {
     "name": "stdout",
     "output_type": "stream",
     "text": [
      "0    0\n",
      "1    0\n",
      "2    0\n",
      "3    0\n",
      "4    0\n",
      "5    0\n",
      "6    0\n",
      "Name: Census_IsTouchEnabled, dtype: int64\n"
     ]
    }
   ],
   "source": [
    "print(dfC['Census_IsTouchEnabled'].head(7))"
   ]
  },
  {
   "cell_type": "markdown",
   "metadata": {},
   "source": [
    "Census_IsPenCapable"
   ]
  },
  {
   "cell_type": "code",
   "execution_count": 132,
   "metadata": {},
   "outputs": [
    {
     "name": "stdout",
     "output_type": "stream",
     "text": [
      "[0 1]\n"
     ]
    }
   ],
   "source": [
    "print(dataframe['Census_IsPenCapable'].unique())"
   ]
  },
  {
   "cell_type": "code",
   "execution_count": 133,
   "metadata": {},
   "outputs": [
    {
     "name": "stdout",
     "output_type": "stream",
     "text": [
      "0    0\n",
      "1    0\n",
      "2    0\n",
      "3    0\n",
      "4    0\n",
      "5    0\n",
      "6    0\n",
      "Name: Census_IsPenCapable, dtype: int64\n"
     ]
    }
   ],
   "source": [
    "print(dfC['Census_IsPenCapable'].head(7))"
   ]
  },
  {
   "cell_type": "markdown",
   "metadata": {},
   "source": [
    "Census_IsAlwaysOnAlwaysConnectedCapable"
   ]
  },
  {
   "cell_type": "code",
   "execution_count": 134,
   "metadata": {},
   "outputs": [
    {
     "name": "stdout",
     "output_type": "stream",
     "text": [
      "[ 0.  1. nan]\n"
     ]
    }
   ],
   "source": [
    "print(dataframe['Census_IsAlwaysOnAlwaysConnectedCapable'].unique())"
   ]
  },
  {
   "cell_type": "code",
   "execution_count": 135,
   "metadata": {},
   "outputs": [
    {
     "name": "stdout",
     "output_type": "stream",
     "text": [
      "0    0.0\n",
      "1    0.0\n",
      "2    0.0\n",
      "3    0.0\n",
      "4    0.0\n",
      "5    0.0\n",
      "6    0.0\n",
      "Name: Census_IsAlwaysOnAlwaysConnectedCapable, dtype: float64\n"
     ]
    }
   ],
   "source": [
    "print(dfC['Census_IsAlwaysOnAlwaysConnectedCapable'].head(7))"
   ]
  },
  {
   "cell_type": "markdown",
   "metadata": {},
   "source": [
    "HasDetections"
   ]
  },
  {
   "cell_type": "code",
   "execution_count": 136,
   "metadata": {},
   "outputs": [
    {
     "name": "stdout",
     "output_type": "stream",
     "text": [
      "[0 1]\n"
     ]
    }
   ],
   "source": [
    "print(dataframe['HasDetections'].unique())"
   ]
  },
  {
   "cell_type": "code",
   "execution_count": 137,
   "metadata": {},
   "outputs": [
    {
     "name": "stdout",
     "output_type": "stream",
     "text": [
      "0    0\n",
      "1    0\n",
      "2    0\n",
      "3    1\n",
      "4    1\n",
      "5    1\n",
      "6    1\n",
      "Name: HasDetections, dtype: int64\n"
     ]
    }
   ],
   "source": [
    "print(dfC['HasDetections'].head(7))"
   ]
  },
  {
   "cell_type": "markdown",
   "metadata": {},
   "source": [
    "- DIFERENCIA CON ENFOQUE-1"
   ]
  },
  {
   "cell_type": "code",
   "execution_count": 138,
   "metadata": {},
   "outputs": [],
   "source": [
    "import pandas as pd\n",
    "\n",
    "# Assuming dfC is your DataFrame\n",
    "\n",
    "def map_column_to_numbers(column_name, dataframe):\n",
    "    unique_values = dataframe[column_name].unique()\n",
    "    value_to_number = {value: index + 1 for index, value in enumerate(unique_values)}\n",
    "    dataframe[column_name] = dataframe[column_name].map(value_to_number)        \n",
    "\n",
    "# List of columns you want to apply the mapping to\n",
    "columns_to_map = [\n",
    "    'PuaMode',\n",
    "    'Census_ProcessorClass',\n",
    "    'DefaultBrowsersIdentifier',\n",
    "    'Census_IsFlightingInternal',\n",
    "    'Census_InternalBatteryType',\n",
    "    'Census_ThresholdOptIn',\n",
    "    'Census_IsWIMBootEnabled',\n",
    "    'SmartScreen',\n",
    "    'OrganizationIdentifier',\n",
    "    'SMode',\n",
    "    'CityIdentifier',\n",
    "    'Wdft_IsGamer',\n",
    "    'Wdft_RegionIdentifier',\n",
    "    'Census_InternalBatteryNumberOfCharges',\n",
    "    'Census_FirmwareManufacturerIdentifier',\n",
    "    'Census_IsFlightsDisabled',\n",
    "    'Census_FirmwareVersionIdentifier',\n",
    "    'Census_OEMModelIdentifier',\n",
    "    'Census_OEMNameIdentifier',\n",
    "    'Firewall'\n",
    "]\n",
    "\n",
    "# Apply the mapping function to each column\n",
    "for column in columns_to_map:\n",
    "    map_column_to_numbers(column, dfC)\n"
   ]
  },
  {
   "cell_type": "markdown",
   "metadata": {},
   "source": [
    "Hacemos la correlatividad con 'HasDetections' de cada columna"
   ]
  },
  {
   "cell_type": "code",
   "execution_count": 139,
   "metadata": {},
   "outputs": [
    {
     "data": {
      "text/html": [
       "<div>\n",
       "<style scoped>\n",
       "    .dataframe tbody tr th:only-of-type {\n",
       "        vertical-align: middle;\n",
       "    }\n",
       "\n",
       "    .dataframe tbody tr th {\n",
       "        vertical-align: top;\n",
       "    }\n",
       "\n",
       "    .dataframe thead th {\n",
       "        text-align: right;\n",
       "    }\n",
       "</style>\n",
       "<table border=\"1\" class=\"dataframe\">\n",
       "  <thead>\n",
       "    <tr style=\"text-align: right;\">\n",
       "      <th></th>\n",
       "      <th>HasDetections</th>\n",
       "    </tr>\n",
       "  </thead>\n",
       "  <tbody>\n",
       "    <tr>\n",
       "      <th>AVProductsInstalled</th>\n",
       "      <td>0.149626</td>\n",
       "    </tr>\n",
       "    <tr>\n",
       "      <th>SmartScreen</th>\n",
       "      <td>0.101923</td>\n",
       "    </tr>\n",
       "    <tr>\n",
       "      <th>EngineVersion</th>\n",
       "      <td>0.090882</td>\n",
       "    </tr>\n",
       "    <tr>\n",
       "      <th>Processor</th>\n",
       "      <td>0.073400</td>\n",
       "    </tr>\n",
       "    <tr>\n",
       "      <th>Census_OSArchitecture</th>\n",
       "      <td>0.072757</td>\n",
       "    </tr>\n",
       "    <tr>\n",
       "      <th>...</th>\n",
       "      <td>...</td>\n",
       "    </tr>\n",
       "    <tr>\n",
       "      <th>AutoSampleOptIn</th>\n",
       "      <td>0.000502</td>\n",
       "    </tr>\n",
       "    <tr>\n",
       "      <th>UacLuaenable</th>\n",
       "      <td>0.000351</td>\n",
       "    </tr>\n",
       "    <tr>\n",
       "      <th>Census_PrimaryDiskTotalCapacity</th>\n",
       "      <td>0.000170</td>\n",
       "    </tr>\n",
       "    <tr>\n",
       "      <th>OrganizationIdentifier</th>\n",
       "      <td>0.000099</td>\n",
       "    </tr>\n",
       "    <tr>\n",
       "      <th>IsBeta</th>\n",
       "      <td>0.000040</td>\n",
       "    </tr>\n",
       "  </tbody>\n",
       "</table>\n",
       "<p>81 rows × 1 columns</p>\n",
       "</div>"
      ],
      "text/plain": [
       "                                 HasDetections\n",
       "AVProductsInstalled                   0.149626\n",
       "SmartScreen                           0.101923\n",
       "EngineVersion                         0.090882\n",
       "Processor                             0.073400\n",
       "Census_OSArchitecture                 0.072757\n",
       "...                                        ...\n",
       "AutoSampleOptIn                       0.000502\n",
       "UacLuaenable                          0.000351\n",
       "Census_PrimaryDiskTotalCapacity       0.000170\n",
       "OrganizationIdentifier                0.000099\n",
       "IsBeta                                0.000040\n",
       "\n",
       "[81 rows x 1 columns]"
      ]
     },
     "execution_count": 139,
     "metadata": {},
     "output_type": "execute_result"
    }
   ],
   "source": [
    "dfC.corr(numeric_only=True).abs()[[\"HasDetections\"]].sort_values(by=\"HasDetections\", ascending=False).iloc[1:]"
   ]
  },
  {
   "cell_type": "markdown",
   "metadata": {},
   "source": [
    "Exportamos este nuevo train.csv con los datos ya limpiados para su uso"
   ]
  },
  {
   "cell_type": "code",
   "execution_count": 140,
   "metadata": {},
   "outputs": [],
   "source": [
    "dfC.to_csv('trainLimpio.csv', index=False)"
   ]
  }
 ],
 "metadata": {
  "kernelspec": {
   "display_name": "ml",
   "language": "python",
   "name": "python3"
  },
  "language_info": {
   "codemirror_mode": {
    "name": "ipython",
    "version": 3
   },
   "file_extension": ".py",
   "mimetype": "text/x-python",
   "name": "python",
   "nbconvert_exporter": "python",
   "pygments_lexer": "ipython3",
   "version": "3.10.11"
  }
 },
 "nbformat": 4,
 "nbformat_minor": 2
}
