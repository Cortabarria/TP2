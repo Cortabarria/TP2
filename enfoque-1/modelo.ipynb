{
 "cells": [
  {
   "cell_type": "markdown",
   "metadata": {},
   "source": [
    "Se carga el dataset `trainLimpio` y se divide en 80% para el entrenamiento y 20% en testeo."
   ]
  },
  {
   "cell_type": "code",
   "execution_count": null,
   "metadata": {},
   "outputs": [],
   "source": [
    "import pandas as pd\n",
    "from sklearn.model_selection import train_test_split\n",
    "ruta_archivo = 'trainLimpio.csv'\n",
    "\n",
    "X = pd.read_csv(ruta_archivo, sep=',')\n",
    "X = X.fillna(0)\n",
    "X = X.drop(columns=['HasDetections', 'MachineIdentifier'])\n",
    "y = pd.read_csv(ruta_archivo, sep=',')['HasDetections']\n",
    "\n",
    "# Se divide en 80% para el entrenamiento y 20% en testeo\n",
    "X_train, X_test, y_train, y_test = train_test_split(X, y, test_size=0.2, random_state=42)\n"
   ]
  },
  {
   "cell_type": "markdown",
   "metadata": {},
   "source": [
    "Random Forest con 100 estimadores y 25 de profundidad"
   ]
  },
  {
   "cell_type": "code",
   "execution_count": null,
   "metadata": {},
   "outputs": [],
   "source": [
    "import pandas as pd\n",
    "from sklearn.model_selection import train_test_split\n",
    "from sklearn.ensemble import RandomForestClassifier  \n",
    "\n",
    "\n",
    "modelRFC = RandomForestClassifier(n_estimators=100, max_depth=25)\n",
    "modelRFC.fit(X_train, y_train)\n",
    "\n",
    "y_predRFC = modelRFC.predict(X_test)\n",
    "\n",
    "accuracyRFC = (y_predRFC == y_test).mean()\n",
    "\n",
    "print(f\"Random Forest - Exactitud: {accuracyRFC:.2%}\")"
   ]
  },
  {
   "cell_type": "markdown",
   "metadata": {},
   "source": [
    "Regresion Logica"
   ]
  },
  {
   "cell_type": "code",
   "execution_count": null,
   "metadata": {},
   "outputs": [],
   "source": [
    "import pandas as pd\n",
    "from sklearn.model_selection import train_test_split\n",
    "from sklearn.linear_model import LogisticRegression\n",
    "\n",
    "model = LogisticRegression()\n",
    "model.fit(X_train, y_train)\n",
    "\n",
    "y_pred = model.predict(X_test)\n",
    "\n",
    "accuracy = (y_pred == y_test).mean()\n",
    "\n",
    "print(f\"Regresion Logica -Exactitud: {accuracy:.2%}\")"
   ]
  },
  {
   "cell_type": "markdown",
   "metadata": {},
   "source": [
    "Decision Tree con 25 de profundidad"
   ]
  },
  {
   "cell_type": "code",
   "execution_count": null,
   "metadata": {},
   "outputs": [],
   "source": [
    "from sklearn.tree import DecisionTreeClassifier\n",
    "\n",
    "modelDTC = DecisionTreeClassifier(max_depth=25)\n",
    "modelDTC.fit(X_train, y_train)\n",
    "y_predDTC = modelDTC.predict(X_test)\n",
    "accuracyDTC = (y_predDTC == y_test).mean()\n",
    "print(f\"Decision Tree - Exactitud: {accuracyDTC:.2%}\")\n"
   ]
  },
  {
   "cell_type": "markdown",
   "metadata": {},
   "source": [
    "Gradient Boosting con 15 estimadores y 5 de profundidad"
   ]
  },
  {
   "cell_type": "code",
   "execution_count": null,
   "metadata": {},
   "outputs": [],
   "source": [
    "from sklearn.ensemble import GradientBoostingClassifier\n",
    "\n",
    "modelGBC = GradientBoostingClassifier(n_estimators=15, max_depth=5)\n",
    "modelGBC.fit(X_train, y_train)\n",
    "y_predGBC = modelGBC.predict(X_test)\n",
    "accuracyGBC = (y_predGBC == y_test).mean()\n",
    "print(f\"Gradient Boosting - Exactitud: {accuracyGBC:.2%}\")\n"
   ]
  },
  {
   "cell_type": "markdown",
   "metadata": {},
   "source": [
    "Codigo para cargar al archivo los resultados"
   ]
  },
  {
   "cell_type": "code",
   "execution_count": null,
   "metadata": {},
   "outputs": [],
   "source": [
    "with open('ExactitudArchivo.txt', 'a') as file:\n",
    "    file.write(f\"Random Forest - max_depth=25 - Exactitud: {accuracyRFC:.2%}\\n\")\n",
    "    file.write(f\"Regresion Logica - Exactitud: {accuracy:.2%}\\n\")\n",
    "    file.write(f\"Decision Tree - max_depth=25 - Exactitud: {accuracyDTC:.2%}\\n\")\n",
    "    file.write(f\"Gradient Boosting - n_estimators=15, max_depth=5 - Exactitud: {accuracyGBC:.2%}\\n\")"
   ]
  },
  {
   "cell_type": "code",
   "execution_count": 2,
   "metadata": {},
   "outputs": [
    {
     "name": "stdout",
     "output_type": "stream",
     "text": [
      "Numero de filas: 8921483\n",
      "Numero de filas: 63\n"
     ]
    }
   ],
   "source": [
    "import pandas as pd\n",
    "\n",
    "ruta_archivo = '../trainLimpio.csv'\n",
    "\n",
    "dataframe = pd.read_csv(ruta_archivo, sep=',')\n",
    "\n",
    "num_rows_method2 = len(dataframe)\n",
    "print(\"Numero de filas:\", num_rows_method2)\n",
    "\n",
    "num_columns_alternative = len(dataframe.columns)\n",
    "print(\"Numero de filas:\", num_columns_alternative)\n"
   ]
  }
 ],
 "metadata": {
  "kernelspec": {
   "display_name": "ml",
   "language": "python",
   "name": "python3"
  },
  "language_info": {
   "codemirror_mode": {
    "name": "ipython",
    "version": 3
   },
   "file_extension": ".py",
   "mimetype": "text/x-python",
   "name": "python",
   "nbconvert_exporter": "python",
   "pygments_lexer": "ipython3",
   "version": "3.10.11"
  }
 },
 "nbformat": 4,
 "nbformat_minor": 2
}
