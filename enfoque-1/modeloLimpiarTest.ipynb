{
 "cells": [
  {
   "cell_type": "markdown",
   "metadata": {},
   "source": [
    "Se carga el Dataset"
   ]
  },
  {
   "cell_type": "code",
   "execution_count": 1,
   "metadata": {},
   "outputs": [
    {
     "name": "stderr",
     "output_type": "stream",
     "text": [
      "C:\\Users\\Feli\\AppData\\Local\\Temp\\ipykernel_8764\\814046393.py:5: DtypeWarning: Columns (28) have mixed types. Specify dtype option on import or set low_memory=False.\n",
      "  dataframe = pd.read_csv(ruta_archivo, sep=',')\n"
     ]
    }
   ],
   "source": [
    "import pandas as pd\n",
    "\n",
    "ruta_archivo = 'test.csv'\n",
    "\n",
    "dataframe = pd.read_csv(ruta_archivo, sep=',')"
   ]
  },
  {
   "cell_type": "markdown",
   "metadata": {},
   "source": [
    "Lo copiamos para poder hacer cambios de manera mas eficiente por si tenemos que comparar"
   ]
  },
  {
   "cell_type": "code",
   "execution_count": 2,
   "metadata": {},
   "outputs": [],
   "source": [
    "dfC = dataframe.copy()"
   ]
  },
  {
   "cell_type": "code",
   "execution_count": 3,
   "metadata": {},
   "outputs": [],
   "source": [
    "columns_to_drop = [\n",
    "    'PuaMode',\n",
    "    'Census_ProcessorClass',\n",
    "    'DefaultBrowsersIdentifier',\n",
    "    'Census_IsFlightingInternal',\n",
    "    'Census_InternalBatteryType',\n",
    "    'Census_ThresholdOptIn',\n",
    "    'Census_IsWIMBootEnabled',\n",
    "    'SmartScreen',\n",
    "    'OrganizationIdentifier',\n",
    "    'SMode',\n",
    "    'CityIdentifier',\n",
    "    'Wdft_IsGamer',\n",
    "    'Wdft_RegionIdentifier',\n",
    "    'Census_InternalBatteryNumberOfCharges',\n",
    "    'Census_FirmwareManufacturerIdentifier'\n",
    "]\n",
    "\n",
    "dfC.drop(columns=columns_to_drop, inplace=True)\n"
   ]
  },
  {
   "cell_type": "code",
   "execution_count": 4,
   "metadata": {},
   "outputs": [],
   "source": [
    "columns_to_drop = [\n",
    "    'Census_IsFlightsDisabled',\n",
    "    'Census_FirmwareVersionIdentifier',\n",
    "    'Census_OEMModelIdentifier',\n",
    "    'Census_OEMNameIdentifier',\n",
    "    'Firewall'\n",
    "]\n",
    "\n",
    "dfC.drop(columns=columns_to_drop, inplace=True)\n"
   ]
  },
  {
   "cell_type": "markdown",
   "metadata": {},
   "source": [
    "Con estas columnas eliminadas, pasaremos a cambiar todos los valores de null por 0"
   ]
  },
  {
   "cell_type": "code",
   "execution_count": 5,
   "metadata": {},
   "outputs": [],
   "source": [
    "dfC = dfC.fillna(0)"
   ]
  },
  {
   "cell_type": "code",
   "execution_count": 6,
   "metadata": {},
   "outputs": [],
   "source": [
    "column_names = dfC.columns\n",
    "column_names_list = column_names.tolist()"
   ]
  },
  {
   "cell_type": "markdown",
   "metadata": {},
   "source": [
    "A continuacion, vamos ir columna por columna. Cambiando los valores por numericos"
   ]
  },
  {
   "cell_type": "markdown",
   "metadata": {},
   "source": [
    "ProductName"
   ]
  },
  {
   "cell_type": "code",
   "execution_count": 7,
   "metadata": {},
   "outputs": [
    {
     "name": "stdout",
     "output_type": "stream",
     "text": [
      "['win8defender' 'mse' 'mseprerelease' 'scep' 'windowsintune' 'fep']\n"
     ]
    }
   ],
   "source": [
    "print(dataframe['ProductName'].unique())"
   ]
  },
  {
   "cell_type": "code",
   "execution_count": 8,
   "metadata": {},
   "outputs": [],
   "source": [
    "unique_valuesPN = dfC['ProductName'].unique()\n",
    "\n",
    "# Mappeo los valores unicos por numeros\n",
    "value_to_number = {value: index + 1 for index, value in enumerate(unique_valuesPN)}\n",
    "\n",
    "# Cambio los valores por los numeros \n",
    "dfC['ProductName'] = dfC['ProductName'].map(value_to_number)"
   ]
  },
  {
   "cell_type": "markdown",
   "metadata": {},
   "source": [
    "EngineVersion"
   ]
  },
  {
   "cell_type": "code",
   "execution_count": 9,
   "metadata": {},
   "outputs": [
    {
     "name": "stdout",
     "output_type": "stream",
     "text": [
      "['1.1.15400.5' '1.1.15400.4' '1.1.15300.6' '1.1.14700.5' '1.1.14405.2'\n",
      " '1.1.15200.1' '1.1.15100.1' '1.1.15400.3' '1.1.14901.4' '1.1.14104.0'\n",
      " '1.1.14600.4' '1.1.15000.2' '1.1.14800.3' '1.1.13303.0' '1.1.14306.0'\n",
      " '1.1.13504.0' '1.1.12805.0' '1.1.14500.5' '1.1.13701.0' '1.1.12902.0'\n",
      " '1.1.13202.0' '1.1.14003.0' '1.1.13407.0' '1.1.13704.0' '1.1.13000.0'\n",
      " '1.1.15300.5' '1.1.13903.0' '1.1.13802.0' '1.1.15000.1' '1.1.13804.0'\n",
      " '1.1.14305.0' '1.1.13601.0' '1.1.13103.0' '1.1.14202.0' '1.1.14700.4'\n",
      " '1.1.14901.3' '1.1.14700.3' '1.1.14800.1' '1.1.14500.2' '1.1.14201.0'\n",
      " '1.1.11701.0' '1.1.14102.0' '1.1.14103.0' '1.1.12804.0' '1.1.12205.0'\n",
      " '1.1.14303.0' '1.1.12101.0' '1.1.14002.0' '1.1.9700.0' '1.1.13902.0'\n",
      " '1.1.13803.0' '1.1.11104.0' '1.1.12505.0' '1.1.11804.0' '1.1.12603.0'\n",
      " '1.1.12706.0' '1.1.12400.0' '1.1.13406.0' '1.1.14001.0' '1.1.11502.0'\n",
      " '1.1.12300.0' '1.1.12002.0' '1.1.10302.0' '1.1.11302.0' '1.1.11903.0'\n",
      " '1.1.10401.0' '1.1.11400.0' '1.1.11602.0' '1.1.13503.0' '1.1.13102.0']\n"
     ]
    }
   ],
   "source": [
    "print(dataframe['EngineVersion'].unique())"
   ]
  },
  {
   "cell_type": "code",
   "execution_count": 10,
   "metadata": {},
   "outputs": [],
   "source": [
    "unique_valuesEV = dfC['EngineVersion'].unique()\n",
    "\n",
    "# Mappeo los valores unicos por numeros\n",
    "value_to_number = {value: index + 1 for index, value in enumerate(unique_valuesEV)}\n",
    "\n",
    "# Cambio los valores por los numeros \n",
    "dfC['EngineVersion'] = dfC['EngineVersion'].map(value_to_number)"
   ]
  },
  {
   "cell_type": "markdown",
   "metadata": {},
   "source": [
    "AppVersion"
   ]
  },
  {
   "cell_type": "code",
   "execution_count": 11,
   "metadata": {},
   "outputs": [
    {
     "name": "stdout",
     "output_type": "stream",
     "text": [
      "['4.18.1810.5' '4.18.1809.2' '4.18.1806.18062' '4.14.17613.18039'\n",
      " '4.13.17134.320' '4.12.17007.18011' '4.12.16299.15' '4.10.14393.0'\n",
      " '4.9.10586.1045' '4.18.1807.18075' '4.8.10240.17443' '4.13.17134.1'\n",
      " '4.18.1810.20021' '4.13.17134.228' '4.14.17639.18041' '4.12.17007.18022'\n",
      " '4.11.15063.447' '4.10.209.0' '4.9.10586.1106' '4.12.17007.17123'\n",
      " '4.9.10586.0' '4.10.14393.1198' '4.10.14393.1794' '4.10.14393.1593'\n",
      " '4.9.10586.672' '4.11.15063.0' '4.9.10586.873' '4.16.17656.18052'\n",
      " '4.9.10586.494' '4.5.218.0' '4.9.10586.916' '4.8.10240.18036'\n",
      " '4.11.15063.1155' '4.8.207.0' '4.10.14393.1066' '4.7.205.0'\n",
      " '4.9.10586.589' '4.18.1809.20006' '4.9.10586.962' '4.8.10240.16384'\n",
      " '4.8.204.0' '4.8.10240.17354' '4.8.10240.17946' '4.10.14393.1613'\n",
      " '4.13.17134.191' '4.10.14393.726' '4.6.305.0' '4.8.10240.17394'\n",
      " '4.9.10586.839' '4.13.17134.112' '4.13.17134.319' '4.8.10240.17146'\n",
      " '4.10.14393.2248' '4.18.1810.20017' '4.9.10586.965' '4.8.10240.17861'\n",
      " '4.18.1810.20029' '4.9.218.0' '4.8.10240.17319' '4.17.17672.1000'\n",
      " '4.8.10240.17113' '4.10.14393.953' '4.14.17613.18038' '4.13.17639.1000'\n",
      " '4.8.10240.17184' '4.10.14393.2273' '4.8.10240.17071' '4.18.1807.18072'\n",
      " '4.8.10240.17202' '4.8.10240.17889' '4.5.216.0' '4.10.14393.1532'\n",
      " '4.17.17677.1000' '4.10.14393.2457' '4.18.1807.20063' '4.10.205.0'\n",
      " '4.17.17685.20082' '4.8.10240.17797' '4.11.15063.994' '4.4.304.0'\n",
      " '4.8.10240.17609' '4.17.17686.1003' '4.13.17604.1000' '4.18.1806.20021'\n",
      " '4.10.14393.2608' '4.17.17682.1000' '4.15.17661.1001' '4.8.10240.17914'\n",
      " '4.9.10586.456' '4.8.10240.17770' '4.18.1806.20033' '4.8.10240.17918'\n",
      " '4.15.17650.1001' '4.4.306.0' '4.15.17643.1000' '4.8.10240.17533'\n",
      " '4.16.17656.18051' '4.15.17666.1000' '4.13.17627.1000' '4.15.17655.1000'\n",
      " '4.8.10240.17446' '4.8.10240.16425' '4.12.17007.17121' '4.11.15063.1154'\n",
      " '4.9.10586.1177' '4.13.17634.1000' '4.12.16299.0' '4.13.17618.1000'\n",
      " '4.6.302.0' '4.7.209.0' '4.18.1806.20015' '4.10.207.0' '4.18.1810.20037'\n",
      " '4.18.1807.18070' '4.9.219.0' '4.13.17623.1002' '4.8.203.0'\n",
      " '4.13.17133.1' '4.9.10586.461' '4.12.17007.18021']\n"
     ]
    }
   ],
   "source": [
    "print(dataframe['AppVersion'].unique())"
   ]
  },
  {
   "cell_type": "code",
   "execution_count": 12,
   "metadata": {},
   "outputs": [],
   "source": [
    "unique_valuesAppV = dfC['AppVersion'].unique()\n",
    "\n",
    "# Mappeo los valores unicos por numeros\n",
    "value_to_number = {value: index + 1 for index, value in enumerate(unique_valuesAppV)}\n",
    "\n",
    "# Cambio los valores por los numeros \n",
    "dfC['AppVersion'] = dfC['AppVersion'].map(value_to_number)"
   ]
  },
  {
   "cell_type": "markdown",
   "metadata": {},
   "source": [
    "AvSigVersion"
   ]
  },
  {
   "cell_type": "code",
   "execution_count": 13,
   "metadata": {},
   "outputs": [
    {
     "name": "stdout",
     "output_type": "stream",
     "text": [
      "['1.281.501.0' '1.279.301.0' '1.277.230.0' ... '1.223.1755.0'\n",
      " '1.207.1049.0' '1.227.291.0']\n"
     ]
    }
   ],
   "source": [
    "print(dataframe['AvSigVersion'].unique())"
   ]
  },
  {
   "cell_type": "code",
   "execution_count": 14,
   "metadata": {},
   "outputs": [],
   "source": [
    "unique_valuesAvSig = dataframe['AvSigVersion'].unique()\n",
    "\n",
    "# Mappeo los valores unicos por numeros\n",
    "value_to_number = {value: index + 1 for index, value in enumerate(unique_valuesAvSig)}\n",
    "\n",
    "# Cambio los valores por los numeros \n",
    "dfC['AvSigVersion'] = dfC['AvSigVersion'].map(value_to_number)"
   ]
  },
  {
   "cell_type": "markdown",
   "metadata": {},
   "source": [
    "IsBeta"
   ]
  },
  {
   "cell_type": "code",
   "execution_count": 15,
   "metadata": {},
   "outputs": [
    {
     "name": "stdout",
     "output_type": "stream",
     "text": [
      "[0 1]\n"
     ]
    }
   ],
   "source": [
    "print(dataframe['IsBeta'].unique())"
   ]
  },
  {
   "cell_type": "markdown",
   "metadata": {},
   "source": [
    "No hay que hacer ningun cambio ya que estan en 0 1"
   ]
  },
  {
   "cell_type": "markdown",
   "metadata": {},
   "source": [
    "RtpStateBitfield"
   ]
  },
  {
   "cell_type": "code",
   "execution_count": 16,
   "metadata": {},
   "outputs": [
    {
     "name": "stdout",
     "output_type": "stream",
     "text": [
      "[ 7. nan  0.  8.  5.  1.  3. 35. 40.]\n"
     ]
    }
   ],
   "source": [
    "print(dataframe['RtpStateBitfield'].unique())"
   ]
  },
  {
   "cell_type": "code",
   "execution_count": 17,
   "metadata": {},
   "outputs": [],
   "source": [
    "unique_valuesRtp = dataframe['RtpStateBitfield'].unique()\n",
    "\n",
    "# Mappeo los valores unicos por numeros\n",
    "value_to_number = {value: index + 1 for index, value in enumerate(unique_valuesRtp)}\n",
    "\n",
    "# Cambio los valores por los numeros \n",
    "dfC['RtpStateBitfield'] = dfC['RtpStateBitfield'].map(value_to_number)"
   ]
  },
  {
   "cell_type": "markdown",
   "metadata": {},
   "source": [
    "IsSxsPassiveMode"
   ]
  },
  {
   "cell_type": "code",
   "execution_count": 18,
   "metadata": {},
   "outputs": [
    {
     "name": "stdout",
     "output_type": "stream",
     "text": [
      "[0 1]\n"
     ]
    }
   ],
   "source": [
    "print(dataframe['IsSxsPassiveMode'].unique())"
   ]
  },
  {
   "cell_type": "markdown",
   "metadata": {},
   "source": [
    "AVProductStatesIdentifier"
   ]
  },
  {
   "cell_type": "code",
   "execution_count": 19,
   "metadata": {},
   "outputs": [
    {
     "name": "stdout",
     "output_type": "stream",
     "text": [
      "[53447. 49480. 42160. ...  9158. 55651. 41175.]\n"
     ]
    }
   ],
   "source": [
    "print(dataframe['AVProductStatesIdentifier'].unique())"
   ]
  },
  {
   "cell_type": "code",
   "execution_count": 20,
   "metadata": {},
   "outputs": [],
   "source": [
    "unique_valuesAvProductSt = dataframe['AVProductStatesIdentifier'].unique()\n",
    "\n",
    "# Mappeo los valores unicos por numeros\n",
    "value_to_number = {value: index + 1 for index, value in enumerate(unique_valuesAvProductSt)}\n",
    "\n",
    "# Cambio los valores por los numeros \n",
    "dfC['AVProductStatesIdentifier'] = dfC['AVProductStatesIdentifier'].map(value_to_number)"
   ]
  },
  {
   "cell_type": "markdown",
   "metadata": {},
   "source": [
    "AVProductsInstalled"
   ]
  },
  {
   "cell_type": "code",
   "execution_count": 21,
   "metadata": {},
   "outputs": [
    {
     "name": "stdout",
     "output_type": "stream",
     "text": [
      "[ 1.  2.  3. nan  5.  4.  6.]\n"
     ]
    }
   ],
   "source": [
    "print(dataframe['AVProductsInstalled'].unique())"
   ]
  },
  {
   "cell_type": "markdown",
   "metadata": {},
   "source": [
    "AVProductsEnabled"
   ]
  },
  {
   "cell_type": "code",
   "execution_count": 22,
   "metadata": {},
   "outputs": [
    {
     "name": "stdout",
     "output_type": "stream",
     "text": [
      "[ 1.  2. nan  3.  0.  4.  5.]\n"
     ]
    }
   ],
   "source": [
    "print(dataframe['AVProductsEnabled'].unique())"
   ]
  },
  {
   "cell_type": "markdown",
   "metadata": {},
   "source": [
    "HasTpm"
   ]
  },
  {
   "cell_type": "code",
   "execution_count": 23,
   "metadata": {},
   "outputs": [
    {
     "name": "stdout",
     "output_type": "stream",
     "text": [
      "[1 0]\n"
     ]
    }
   ],
   "source": [
    "print(dataframe['HasTpm'].unique())"
   ]
  },
  {
   "cell_type": "markdown",
   "metadata": {},
   "source": [
    "CountryIdentifier"
   ]
  },
  {
   "cell_type": "code",
   "execution_count": 24,
   "metadata": {},
   "outputs": [
    {
     "name": "stdout",
     "output_type": "stream",
     "text": [
      "[ 43  68 201  29 171 101  21 177  53 203  80  66 205 108 179 147 118  11\n",
      "   9  99 173  93 211  44  60 141  41 149 180 166  88 164  39 107 183 138\n",
      "  62  59 122 160 155 220  45 158  35 119  51  97 169  73 195  95  81 154\n",
      " 214   2  86  89  27  12 159  33 135 150 207  40 151 112  19 167  57  85\n",
      "  15  90  91  16   8  87 142  58 168  83 120  94  18  56 137 131  22 115\n",
      " 170 152 221  76  50 110  84 104 208 111  26 199 222  32  42  49  70 132\n",
      " 153  61 190   7 162 100 188  96 102  55 144 117  67  38 202 148 127 187\n",
      " 133 206 129 121   6 143 113  78 178 106 176 163  77  79 145 139 124  24\n",
      "  48  17  71 194 204  36  20  82  30 156 136 130 209   3 192 103  34 210\n",
      " 125 184 182 196 172  46 191  65 197 146 126   4   1  63 218  13  23  69\n",
      " 212  47 200 219  25 174 213 116 140 189  98  92  75  54 157   5 161 181\n",
      " 185 198 109 105  64  74 123 193 186  52  37  72 215 175 216 128  28  31\n",
      " 217 134 165  10 114  14]\n"
     ]
    }
   ],
   "source": [
    "print(dataframe['CountryIdentifier'].unique())"
   ]
  },
  {
   "cell_type": "markdown",
   "metadata": {},
   "source": [
    "GeoNameIdentifierAvSigVersion"
   ]
  },
  {
   "cell_type": "code",
   "execution_count": 25,
   "metadata": {},
   "outputs": [
    {
     "name": "stdout",
     "output_type": "stream",
     "text": [
      "[ 53. 276. 267.  35. 211. 129.  39. 251. 205. 255. 101.  89. 274. 277.\n",
      " 234. 150.  16.  10. 127. 224.  29.  57. 240. 167. 181. 233. 117.  98.\n",
      " 138.  68.  88. 204. 237.  63.  45. 126. 209. 198. 287. 275. 120. 202.\n",
      " 119.  30.  15.  52.  23. 192. 258. 180.  24.  77. 207. 201.  76. 114.\n",
      " 121. 125.  32.  81. 295. 111. 230. 160.  19. 226. 187. 184. 294. 112.\n",
      " 107. 140. 252. 115. 282. 144.  64. 200. 241. 122. 123. 151. 253.  67.\n",
      "  78.  71. 118. 134.  82. 145. 175.  75.  21. 194.  99. 264. 185. 254.\n",
      " 273. 154.   2. 133. 157. 193. 286. 104.  44. 243.  43. 183.  11. 156.\n",
      "   6. 177.  97. 178.   3. 165.   4. 247. 266.  91. 159.  33. 170.  nan\n",
      " 208. 135. 148. 236. 143. 269. 212. 196. 206. 245. 199. 176.  49.  28.\n",
      "  17.  85.  38.  60.  90.  26. 172. 213.  48. 239. 293.  50. 155. 257.\n",
      " 158. 152.  22.  25. 142. 163.  27. 288. 227. 232. 168. 222. 283. 103.\n",
      " 225. 102. 100.   7.  18. 248. 173.  65.  69. 261. 268.  80.  12. 166.\n",
      " 171. 191. 289.  87.  73.   1. 246.  74. 146. 128. 270. 244. 141. 228.\n",
      " 182. 109. 262. 174. 195.  66.  46. 250. 292.  40. 223. 161.   5. 281.\n",
      "  96. 263. 220.  41.  79. 271. 147.  59.   9.  61.  86. 131.  94. 186.\n",
      " 113. 229. 256. 149. 296. 105. 203.  31.  47. 285.  36. 235. 137. 291.\n",
      " 188. 290. 139. 164. 284. 218.  54.  58. 162. 189. 179. 190.  84. 215.\n",
      "  93. 153.  34. 136.   8. 214. 110.  70. 238. 108. 221. 272. 216. 219.\n",
      "  95.  56.  42. 130. 259. 132. 231. 280. 124.  37.  51. 197. 116. 106.\n",
      " 169.  72.  20. 249.  13. 217. 260.  14. 210.  83.]\n"
     ]
    }
   ],
   "source": [
    "print(dataframe['GeoNameIdentifier'].unique())"
   ]
  },
  {
   "cell_type": "markdown",
   "metadata": {},
   "source": [
    "LocaleEnglishNameIdentifier"
   ]
  },
  {
   "cell_type": "code",
   "execution_count": 26,
   "metadata": {},
   "outputs": [
    {
     "name": "stdout",
     "output_type": "stream",
     "text": [
      "[ 42  74 251 171 182 126  75 239 172  46 107  88 211 140 102 214  67 215\n",
      " 218 233 227  56 210 115 103 134  51  80 170  72 219  83  60 124  16 229\n",
      " 262  70  64 253  34 216  58 217 162  81   7 231 222 113  77  76 266  65\n",
      " 118  71 228 179   6 202  69  89 224 106  44 236 226 230 246   8 168  66\n",
      "  14  91  55 223 139  52 116 234   4  94 221  19  73  45 225  68 237  10\n",
      "   9  82  50  49  36 101 277  63  95 143  12   2  97  32 199 235  79 265\n",
      " 114 263  11  17 201  22   1  78 159 125  30  26 238  21  62  43  59  61\n",
      "  96  18 129   5 147 232  25 178 132 133  15 149  90 269 105 209 174 272\n",
      " 197 260  93 160 243 100 200 275 198 271  29 282 121 154 177  87  13 104\n",
      " 142   3  85 267 164  92 136 196 117 163 128  31  24  40 278 148 108 212\n",
      " 180  47 122 111 181 127 213  27 241 144 169 130  38  20 283 173  54 152\n",
      " 274  84 254 167 183 242 240 270 206  23 194 195  98  48  35 175 176 158\n",
      " 145  28 273  53 112 220 189 119 276 135 109 157 123 110 257 141 245 161\n",
      "  33 150 166 186 131 137 205 244 156 151 250 192 184  86 279 249 187 188\n",
      " 255 155 204 120 280  41 264  39 252 190 247 259 208  57 185 153 261 191\n",
      " 256 165 248 138 268 146  99 193]\n"
     ]
    }
   ],
   "source": [
    "print(dataframe['LocaleEnglishNameIdentifier'].unique())"
   ]
  },
  {
   "cell_type": "markdown",
   "metadata": {},
   "source": [
    "Platform"
   ]
  },
  {
   "cell_type": "code",
   "execution_count": 27,
   "metadata": {},
   "outputs": [
    {
     "name": "stdout",
     "output_type": "stream",
     "text": [
      "['windows10' 'windows8' 'windows2016' 'windows7']\n"
     ]
    }
   ],
   "source": [
    "print(dataframe['Platform'].unique())"
   ]
  },
  {
   "cell_type": "code",
   "execution_count": 28,
   "metadata": {},
   "outputs": [],
   "source": [
    "unique_valuesPlatform = dataframe['Platform'].unique()\n",
    "\n",
    "# Mappeo los valores unicos por numeros\n",
    "value_to_number = {value: index + 1 for index, value in enumerate(unique_valuesPlatform)}\n",
    "\n",
    "# Cambio los valores por los numeros \n",
    "dfC['Platform'] = dfC['Platform'].map(value_to_number)"
   ]
  },
  {
   "cell_type": "code",
   "execution_count": 29,
   "metadata": {},
   "outputs": [
    {
     "name": "stdout",
     "output_type": "stream",
     "text": [
      "0    1\n",
      "1    1\n",
      "2    1\n",
      "3    1\n",
      "4    1\n",
      "5    1\n",
      "6    1\n",
      "Name: Platform, dtype: int64\n"
     ]
    }
   ],
   "source": [
    "print(dfC['Platform'].head(7))"
   ]
  },
  {
   "cell_type": "markdown",
   "metadata": {},
   "source": [
    "Processor"
   ]
  },
  {
   "cell_type": "code",
   "execution_count": 30,
   "metadata": {},
   "outputs": [
    {
     "name": "stdout",
     "output_type": "stream",
     "text": [
      "['x64' 'x86' 'arm64']\n"
     ]
    }
   ],
   "source": [
    "print(dataframe['Processor'].unique())"
   ]
  },
  {
   "cell_type": "code",
   "execution_count": 31,
   "metadata": {},
   "outputs": [],
   "source": [
    "unique_valuesProcessor = dataframe['Processor'].unique()\n",
    "\n",
    "# Mappeo los valores unicos por numeros\n",
    "value_to_number = {value: index + 1 for index, value in enumerate(unique_valuesProcessor)}\n",
    "\n",
    "# Cambio los valores por los numeros \n",
    "dfC['Processor'] = dfC['Processor'].map(value_to_number)"
   ]
  },
  {
   "cell_type": "code",
   "execution_count": 32,
   "metadata": {},
   "outputs": [
    {
     "name": "stdout",
     "output_type": "stream",
     "text": [
      "0    1\n",
      "1    1\n",
      "2    1\n",
      "3    1\n",
      "4    1\n",
      "5    1\n",
      "6    1\n",
      "Name: Processor, dtype: int64\n"
     ]
    }
   ],
   "source": [
    "print(dfC['Processor'].head(7))"
   ]
  },
  {
   "cell_type": "markdown",
   "metadata": {},
   "source": [
    "OsVer"
   ]
  },
  {
   "cell_type": "code",
   "execution_count": 33,
   "metadata": {},
   "outputs": [
    {
     "name": "stdout",
     "output_type": "stream",
     "text": [
      "['10.0.0.0' '6.3.0.0' '6.1.1.0' '6.1.0.0' '10.0.1.0' '6.1.3.0' '10.0.0.1'\n",
      " '10.0.3.0' '10.0.7.0' '6.3.3.0' '6.3.2.0' '10.0.32.72' '10.0.16.36'\n",
      " '10.0.3.80' '10.0.1.44' '10.0.0.3' '10.0.4.0' '10.0.2.0' '10.0.5.0'\n",
      " '10.0.2.80' '10.0.1.144' '10.0.16.0' '6.3.1.0' '6.1.80.0' '6.1.0.112'\n",
      " '6.3.4.0' '10.0.0.112' '10.0.8.0' '10.0.5.18' '10.0.6.0' '10.0.3.232'\n",
      " '10.0.0.250' '6.3.0.112' '10.0.80.0' '6.1.2.0' '10.0.2.86' '10.0.32.0'\n",
      " '10.0.7.80' '6.3.153.153' '10.0.64.150' '10.0.1.244' '10.0.72.0'\n",
      " '10.0.26.128' '6.3.32.72']\n"
     ]
    }
   ],
   "source": [
    "print(dataframe['OsVer'].unique())"
   ]
  },
  {
   "cell_type": "code",
   "execution_count": 34,
   "metadata": {},
   "outputs": [],
   "source": [
    "unique_valuesOsVer = dataframe['OsVer'].unique()\n",
    "\n",
    "# Mappeo los valores unicos por numeros\n",
    "value_to_number = {value: index + 1 for index, value in enumerate(unique_valuesOsVer)}\n",
    "\n",
    "# Cambio los valores por los numeros \n",
    "dfC['OsVer'] = dfC['OsVer'].map(value_to_number)"
   ]
  },
  {
   "cell_type": "code",
   "execution_count": 35,
   "metadata": {},
   "outputs": [
    {
     "name": "stdout",
     "output_type": "stream",
     "text": [
      "0    1\n",
      "1    1\n",
      "2    1\n",
      "3    1\n",
      "4    1\n",
      "5    1\n",
      "6    1\n",
      "Name: OsVer, dtype: int64\n"
     ]
    }
   ],
   "source": [
    "print(dfC['OsVer'].head(7))"
   ]
  },
  {
   "cell_type": "markdown",
   "metadata": {},
   "source": [
    "OsBuild"
   ]
  },
  {
   "cell_type": "code",
   "execution_count": 36,
   "metadata": {},
   "outputs": [
    {
     "name": "stdout",
     "output_type": "stream",
     "text": [
      "[15063 16299 14393 17134 17763 10586 10240 18277  9600  7601 17758 18262\n",
      " 18252 17692 18272 18282 17672 17744  7600 17733 17760 17639 17634 17751\n",
      " 17755 18247 17754 17627 17746 18267 17677 18242 17738 18234 17686 17741\n",
      " 17666 17604 17713 18259 18237 17735 18219 18285 17682 17661 17728 17711\n",
      " 18280 17650 18204 17723 17759 17643 17704 18265 17756 17655 18255 17623\n",
      " 17133 18214 17618 18279 18253 18287 18260 18249 18248 18289 17730 18256\n",
      " 18266 18270 18269 18264 17653 18238]\n"
     ]
    }
   ],
   "source": [
    "print(dataframe['OsBuild'].unique())"
   ]
  },
  {
   "cell_type": "markdown",
   "metadata": {},
   "source": [
    "OsSuite"
   ]
  },
  {
   "cell_type": "code",
   "execution_count": 37,
   "metadata": {},
   "outputs": [
    {
     "name": "stdout",
     "output_type": "stream",
     "text": [
      "[768 256 272 400 305  16 784  49  18 307 274 144 402]\n"
     ]
    }
   ],
   "source": [
    "print(dataframe['OsSuite'].unique())"
   ]
  },
  {
   "cell_type": "markdown",
   "metadata": {},
   "source": [
    "OsPlatformSubRelease"
   ]
  },
  {
   "cell_type": "code",
   "execution_count": 38,
   "metadata": {},
   "outputs": [
    {
     "name": "stdout",
     "output_type": "stream",
     "text": [
      "['rs2' 'rs3' 'rs1' 'rs4' 'prers5' 'th2' 'th1' 'windows8.1' 'windows7']\n"
     ]
    }
   ],
   "source": [
    "print(dataframe['OsPlatformSubRelease'].unique())"
   ]
  },
  {
   "cell_type": "code",
   "execution_count": 39,
   "metadata": {},
   "outputs": [],
   "source": [
    "unique_valuesOsPlatformSubRelease = dataframe['OsPlatformSubRelease'].unique()\n",
    "\n",
    "# Mappeo los valores unicos por numeros\n",
    "value_to_number = {value: index + 1 for index, value in enumerate(unique_valuesOsPlatformSubRelease)}\n",
    "\n",
    "# Cambio los valores por los numeros \n",
    "dfC['OsPlatformSubRelease'] = dfC['OsPlatformSubRelease'].map(value_to_number)"
   ]
  },
  {
   "cell_type": "code",
   "execution_count": 40,
   "metadata": {},
   "outputs": [
    {
     "name": "stdout",
     "output_type": "stream",
     "text": [
      "0    1\n",
      "1    2\n",
      "2    3\n",
      "3    2\n",
      "4    2\n",
      "5    4\n",
      "6    4\n",
      "Name: OsPlatformSubRelease, dtype: int64\n"
     ]
    }
   ],
   "source": [
    "print(dfC['OsPlatformSubRelease'].head(7))"
   ]
  },
  {
   "cell_type": "markdown",
   "metadata": {},
   "source": [
    "OsBuildLab"
   ]
  },
  {
   "cell_type": "code",
   "execution_count": 41,
   "metadata": {},
   "outputs": [
    {
     "name": "stdout",
     "output_type": "stream",
     "text": [
      "['15063.0.amd64fre.rs2_release.170317-1834'\n",
      " '16299.431.amd64fre.rs3_release_svc_escrow.180502-1908'\n",
      " '14393.2189.amd64fre.rs1_release.180329-1711'\n",
      " '16299.15.amd64fre.rs3_release.170928-1534'\n",
      " '17134.1.amd64fre.rs4_release.180410-1804'\n",
      " '16299.15.x86fre.rs3_release.170928-1534'\n",
      " '17763.1.amd64fre.rs5_release.180914-1434'\n",
      " '16299.637.amd64fre.rs3_release_svc.180808-1748'\n",
      " '14393.351.x86fre.rs1_release_inmarket.161014-1755'\n",
      " '10586.1045.amd64fre.th2_release.170728-1941'\n",
      " '10240.17443.x86fre.th1.170602-2340'\n",
      " '18277.1000.amd64fre.rs_prerelease.181102-1446'\n",
      " '14393.447.amd64fre.rs1_release_inmarket.161102-0100'\n",
      " '10240.17443.amd64fre.th1.170602-2340'\n",
      " '14393.2363.amd64fre.rs1_release.180625-1741'\n",
      " '17134.1.x86fre.rs4_release.180410-1804'\n",
      " '14393.2214.x86fre.rs1_release_1.180402-1758'\n",
      " '9600.19125.amd64fre.winblue_ltsb.180812-0703'\n",
      " '9600.19153.amd64fre.winblue_ltsb.180908-0600'\n",
      " '10586.1176.amd64fre.th2_release_sec.170913-1848'\n",
      " '14393.2189.x86fre.rs1_release.180329-1711'\n",
      " '14393.447.x86fre.rs1_release_inmarket.161102-0100'\n",
      " '10586.306.x86fre.th2_release_sec.160422-1850'\n",
      " '10586.17.amd64fre.th2_release.151121-2308'\n",
      " '14393.1198.amd64fre.rs1_release_sec.170427-1353'\n",
      " '9600.19035.amd64fre.winblue_ltsb_escrow.180522-1700'\n",
      " '14393.1358.x86fre.rs1_release.170602-2252'\n",
      " '14393.2608.amd64fre.rs1_release.181024-1742'\n",
      " '14393.1944.amd64fre.rs1_release.171129-2100'\n",
      " '14393.1593.amd64fre.rs1_release.170731-1934'\n",
      " '10586.672.amd64fre.th2_release_sec.161024-1825'\n",
      " '15063.0.x86fre.rs2_release.170317-1834'\n",
      " '10586.839.x86fre.th2_release.170303-1605'\n",
      " '14393.2363.x86fre.rs1_release.180625-1741'\n",
      " '9600.18931.amd64fre.winblue_ltsb.180201-0600'\n",
      " '14393.2068.amd64fre.rs1_release.180209-1727'\n",
      " '17763.1.x86fre.rs5_release.180914-1434'\n",
      " '14393.0.amd64fre.rs1_release.160715-1616'\n",
      " '14393.1770.amd64fre.rs1_release.170917-1700'\n",
      " '10586.545.amd64fre.th2_release.160802-1857'\n",
      " '9600.17085.amd64fre.winblue_gdr.140330-1035'\n",
      " '16299.637.x86fre.rs3_release_svc.180808-1748'\n",
      " '10586.916.amd64fre.th2_release_sec.170427-1350'\n",
      " '10586.0.amd64fre.th2_release.151029-1700'\n",
      " '10240.18036.amd64fre.th1.181024-1742'\n",
      " '7601.24260.x86fre.win7sp1_ldr.180908-0600'\n",
      " '10586.306.amd64fre.th2_release_sec.160422-1850'\n",
      " '14393.2214.amd64fre.rs1_release_1.180402-1758'\n",
      " '10586.494.amd64fre.th2_release_sec.160630-1736'\n",
      " '14393.479.amd64fre.rs1_release.161110-2025'\n",
      " '9600.19179.amd64fre.winblue_ltsb_escrow.181015-1847'\n",
      " '10586.420.amd64fre.th2_release_sec.160527-1834'\n",
      " '14393.1066.amd64fre.rs1_release_sec.170327-1835'\n",
      " '10586.11.amd64fre.th2_release.151112-1900'\n",
      " '17758.1.amd64fre.rs5_release.180907-1536'\n",
      " '9600.18438.amd64fre.winblue_ltsb.160812-0914'\n",
      " '10586.672.x86fre.th2_release_sec.161024-1825'\n",
      " '18262.1000.amd64fre.rs_prerelease.181012-1414'\n",
      " '14393.2007.amd64fre.rs1_release.171231-1800'\n",
      " '7601.24236.amd64fre.win7sp1_ldr_escrow.180815-1700'\n",
      " '14393.693.amd64fre.rs1_release.161220-1747'\n",
      " '14393.103.amd64fre.rs1_release_inmarket.160819-1924'\n",
      " '7601.24117.amd64fre.win7sp1_ldr_escrow.180422-1430'\n",
      " '14393.1358.amd64fre.rs1_release.170602-2252'\n",
      " '7601.24260.amd64fre.win7sp1_ldr.180908-0600'\n",
      " '16299.402.amd64fre.rs3_release_svc_escrow_im.180415-0955'\n",
      " '10586.1176.x86fre.th2_release_sec.170913-1848'\n",
      " '14393.1480.amd64fre.rs1_release.170706-2004'\n",
      " '10586.212.amd64fre.th2_release_sec.160328-1908'\n",
      " '10586.494.x86fre.th2_release_sec.160630-1736'\n",
      " '10586.103.amd64fre.th2_release.160126-1819'\n",
      " '14393.1914.amd64fre.rs1_release_inmarket.171117-1700'\n",
      " '14393.2515.amd64fre.rs1_release_1.180830-1044'\n",
      " '7601.18798.amd64fre.win7sp1_gdr.150316-1654'\n",
      " '10586.633.amd64fre.th2_release.161004-1602'\n",
      " '18252.1000.amd64fre.rs_prerelease.180928-1410'\n",
      " '10586.962.amd64fre.th2_release.170602-2241'\n",
      " '10586.1106.amd64fre.th2_release.170904-1742'\n",
      " '14393.576.amd64fre.rs1_release_inmarket.161208-2252'\n",
      " '10586.545.x86fre.th2_release.160802-1857'\n",
      " '10586.1106.x86fre.th2_release.170904-1742'\n",
      " '14393.1593.x86fre.rs1_release.170731-1934'\n",
      " '10586.63.x86fre.th2_release.160104-1513'\n",
      " '10240.16384.amd64fre.th1.150709-1700'\n",
      " '14393.2485.amd64fre.rs1_release.180827-1809'\n",
      " '10240.16393.x86fre.th1_st1.150717-1719'\n",
      " '10240.16384.x86fre.th1.150709-1700'\n",
      " '9600.19067.amd64fre.winblue_ltsb_escrow.180619-2033'\n",
      " '14393.351.amd64fre.rs1_release_inmarket.161014-1755'\n",
      " '10586.63.amd64fre.th2_release.160104-1513'\n",
      " '10240.16393.amd64fre.th1_st1.150717-1719'\n",
      " '14393.187.amd64fre.rs1_release_inmarket.160906-1818'\n",
      " '10586.122.amd64fre.th2_release_inmarket.160222-1549'\n",
      " '7601.19045.amd64fre.win7sp1_gdr.151019-1254'\n",
      " '10240.17354.amd64fre.th1_st1.170327-1827'\n",
      " '14393.2580.amd64fre.rs1_release_inmarket.181009-1745'\n",
      " '7601.24231.amd64fre.win7sp1_ldr.180810-0600'\n",
      " '9600.19101.amd64fre.winblue_ltsb_escrow.180718-1800'\n",
      " '14393.1480.x86fre.rs1_release.170706-2004'\n",
      " '10240.17976.amd64fre.th1.180905-1120'\n",
      " '14393.953.amd64fre.rs1_release_inmarket.170303-1614'\n",
      " '7601.23418.amd64fre.win7sp1_ldr.160408-2045'\n",
      " '10240.16515.amd64fre.th1.150916-2039'\n",
      " '7601.17592.x86fre.win7sp1_gdr.110408-1631'\n",
      " '10586.839.amd64fre.th2_release.170303-1605'\n",
      " '9600.17936.amd64fre.winblue_ltsb.150715-0840'\n",
      " '14393.726.x86fre.rs1_release.170112-1758'\n",
      " '14393.82.x86fre.rs1_release.160805-1735'\n",
      " '14393.223.amd64fre.rs1_release_inmarket_rim.161002-1903'\n",
      " '10586.420.x86fre.th2_release_sec.160527-1834'\n",
      " '9600.17630.amd64fre.winblue_r7.150109-2022'\n",
      " '14393.2430.amd64fre.rs1_release_inmarket_aim.180806-1810'\n",
      " '14393.1944.x86fre.rs1_release.171129-2100'\n",
      " '10240.16724.amd64fre.th1_st1.160222-1812'\n",
      " '14393.1715.amd64fre.rs1_release_inmarket.170906-1810'\n",
      " '10240.17394.amd64fre.th1_st1.170427-1347'\n",
      " '14393.2068.x86fre.rs1_release.180209-1727'\n",
      " '14393.1794.x86fre.rs1_release.171008-1615'\n",
      " '9600.19000.amd64fre.winblue_ltsb.180410-0600'\n",
      " '14393.1794.amd64fre.rs1_release.171008-1615'\n",
      " '7601.24231.x86fre.win7sp1_ldr.180810-0600'\n",
      " '14393.2248.x86fre.rs1_release.180427-1804'\n",
      " '10240.17146.amd64fre.th1_st1.160929-1748'\n",
      " '9600.18821.amd64fre.winblue_ltsb.170914-0600'\n",
      " '10586.589.x86fre.th2_release.160906-1759'\n",
      " '7601.24094.amd64fre.win7sp1_ldr_escrow.180330-1600'\n",
      " '9600.18730.amd64fre.winblue_ltsb.170613-0600'\n",
      " '14393.2551.amd64fre.rs1_release.181004-1309'\n",
      " '10240.18005.amd64fre.th1.180924-1744'\n",
      " '14393.1066.x86fre.rs1_release_sec.170327-1835'\n",
      " '10240.16463.amd64fre.th1.150819-1946'\n",
      " '14393.2248.amd64fre.rs1_release.180427-1804'\n",
      " '9600.18289.amd64fre.winblue_ltsb.160328-1315'\n",
      " '14393.1715.x86fre.rs1_release_inmarket.170906-1810'\n",
      " '17692.1004.x86fre.rs_prerelease_flt.180625-1624'\n",
      " '18272.1000.amd64fre.rs_prerelease.181026-1425'\n",
      " '10586.1007.x86fre.th2_release.170706-2002'\n",
      " '10240.17022.amd64fre.th1_st1.160623-1726'\n",
      " '10586.3.amd64fre.th2_release_sec.151104-1948'\n",
      " '10240.17861.amd64fre.th1.180427-1806'\n",
      " '14393.576.x86fre.rs1_release_inmarket.161208-2252'\n",
      " '14393.321.amd64fre.rs1_release_inmarket.161004-2338'\n",
      " '10586.162.amd64fre.th2_release_sec.160223-1728'\n",
      " '10586.11.x86fre.th2_release.151112-1900'\n",
      " '7601.18113.amd64fre.win7sp1_gdr.130318-1533'\n",
      " '18252.1000.x86fre.rs_prerelease.180928-1410'\n",
      " '14393.2457.amd64fre.rs1_release_inmarket.180822-1743'\n",
      " '14393.2125.amd64fre.rs1_release.180301-2139'\n",
      " '9600.17238.amd64fre.winblue_gdr.140723-2018'\n",
      " '9600.18758.amd64fre.winblue_ltsb.170707-0600'\n",
      " '18282.1000.x86fre.rs_prerelease.181109-1613'\n",
      " '7601.23864.amd64fre.win7sp1_ldr.170707-0600'\n",
      " '14393.2312.amd64fre.rs1_release.180607-1919'\n",
      " '14393.0.x86fre.rs1_release.160715-1616'\n",
      " '7601.24214.amd64fre.win7sp1_ldr_escrow.180801-1700'\n",
      " '9600.18946.x86fre.winblue_ltsb_escrow.180302-1800'\n",
      " '14393.2007.x86fre.rs1_release.171231-1800'\n",
      " '10586.0.x86fre.th2_release.151029-1700'\n",
      " '9600.19125.x86fre.winblue_ltsb.180812-0703'\n",
      " '14393.321.x86fre.rs1_release_inmarket.161004-2338'\n",
      " '10240.17319.amd64fre.th1.170303-1600'\n",
      " '10586.103.x86fre.th2_release.160126-1819'\n",
      " '9600.18969.amd64fre.winblue_ltsb.180309-0600'\n",
      " '9600.18589.amd64fre.winblue_ltsb.170204-0600'\n",
      " '14393.693.x86fre.rs1_release.161220-1747'\n",
      " '14393.2125.x86fre.rs1_release.180301-2139'\n",
      " '7601.24150.amd64fre.win7sp1_ldr_escrow.180528-1700'\n",
      " '14393.82.amd64fre.rs1_release.160805-1735'\n",
      " '10586.1045.x86fre.th2_release.170728-1941'\n",
      " '10586.633.x86fre.th2_release.161004-1602'\n",
      " '17672.1000.amd64fre.rs_prerelease.180511-1445'\n",
      " '10240.17113.amd64fre.th1.160906-1755'\n",
      " '10586.212.x86fre.th2_release_sec.160328-1908'\n",
      " '17744.1001.x86fre.rs5_release.180818-1845'\n",
      " '7601.18409.x86fre.win7sp1_gdr.140303-2144'\n",
      " '10586.916.x86fre.th2_release_sec.170427-1350'\n",
      " '9600.18895.amd64fre.winblue_ltsb.180101-1800'\n",
      " '18282.1000.amd64fre.rs_prerelease.181109-1613'\n",
      " '9600.18946.amd64fre.winblue_ltsb_escrow.180302-1800'\n",
      " '14393.953.x86fre.rs1_release_inmarket.170303-1614'\n",
      " '7601.23572.amd64fre.win7sp1_ldr.161011-0600'\n",
      " '7601.23677.x86fre.win7sp1_ldr.170209-0600'\n",
      " '7601.24168.amd64fre.win7sp1_ldr.180608-0600'\n",
      " '10586.589.amd64fre.th2_release.160906-1759'\n",
      " '10586.338.amd64fre.th2_release.160517-1918'\n",
      " '9600.18696.amd64fre.winblue_ltsb.170511-1554'\n",
      " '14393.1198.x86fre.rs1_release_sec.170427-1353'\n",
      " '10586.17.x86fre.th2_release.151121-2308'\n",
      " '10586.162.x86fre.th2_release_sec.160223-1728'\n",
      " '10586.1007.amd64fre.th2_release.170706-2002'\n",
      " '7601.23889.amd64fre.win7sp1_ldr.170810-1615'\n",
      " '9600.19153.x86fre.winblue_ltsb.180908-0600'\n",
      " '9600.18821.x86fre.winblue_ltsb.170914-0600'\n",
      " '10240.16430.amd64fre.th1.150807-2049'\n",
      " '7600.17795.amd64fre.win7_gdr.150318-1623'\n",
      " '7601.23418.x86fre.win7sp1_ldr.160408-2045'\n",
      " '7601.18247.amd64fre.win7sp1_gdr.130828-1532'\n",
      " '17733.1000.amd64fre.rs5_release.180803-1525'\n",
      " '7601.23796.amd64fre.win7sp1_ldr.170427-1518'\n",
      " '7601.23539.amd64fre.win7sp1_ldr.160902-0600'\n",
      " '14393.2551.x86fre.rs1_release.181004-1309'\n",
      " '9600.19035.x86fre.winblue_ltsb_escrow.180522-1700'\n",
      " '7601.23807.amd64fre.win7sp1_ldr.170512-0600'\n",
      " '9600.18505.amd64fre.winblue_ltsb.160930-0600'\n",
      " '17760.1.amd64fre.rs5_release.180911-1415'\n",
      " '7601.24093.amd64fre.win7sp1_ldr_escrow.180327-2230'\n",
      " '9600.19128.amd64fre.winblue_ltsb_escrow.180813-1030'\n",
      " '17639.1000.amd64fre.rs_prerelease.180330-1630'\n",
      " '14393.2395.amd64fre.rs1_release_inmarket.180714-1932'\n",
      " '10240.17184.x86fre.th1_st1.161024-1820'\n",
      " '17134.1.arm64fre.rs4_release.180410-1804'\n",
      " '14393.2485.x86fre.rs1_release.180827-1809'\n",
      " '9600.17328.amd64fre.winblue_r3.140827-1500'\n",
      " '9600.18790.amd64fre.winblue_ltsb.170810-1616'\n",
      " '10586.3.x86fre.th2_release_sec.151104-1948'\n",
      " '14393.2339.x86fre.rs1_release_inmarket.180611-1502'\n",
      " '10240.16431.amd64fre.th1.150810-2333'\n",
      " '7601.24150.x86fre.win7sp1_ldr_escrow.180528-1700'\n",
      " '14393.2273.amd64fre.rs1_release_1.180427-1811'\n",
      " '17634.1000.amd64fre.rs_prerelease.180323-1629'\n",
      " '7601.24000.amd64fre.win7sp1_ldr.171231-1547'\n",
      " '7601.24291.x86fre.win7sp1_ldr_escrow.181110-1429'\n",
      " '17758.1.x86fre.rs5_release.180907-1536'\n",
      " '14393.187.x86fre.rs1_release_inmarket.160906-1818'\n",
      " '14393.726.amd64fre.rs1_release.170112-1758'\n",
      " '7601.18409.amd64fre.win7sp1_gdr.140303-2144'\n",
      " '7601.23915.amd64fre.win7sp1_ldr.170913-0600'\n",
      " '17751.1.amd64fre.rs5_release.180828-1428'\n",
      " '10240.16412.amd64fre.th1.150729-1800'\n",
      " '17755.1.amd64fre.rs5_release.180904-1423'\n",
      " '10240.16545.x86fre.th1.150930-1750'\n",
      " '14393.2155.x86fre.rs1_release_1.180305-1842'\n",
      " '9600.18790.x86fre.winblue_ltsb.170810-1616'\n",
      " '18247.1001.amd64fre.rs_prerelease.180922-2224'\n",
      " '14393.2608.x86fre.rs1_release.181024-1742'\n",
      " '10240.17071.amd64fre.th1.160802-1852'\n",
      " '7601.18869.x86fre.win7sp1_gdr.150525-0603'\n",
      " '10240.16430.x86fre.th1.150807-2049'\n",
      " '14393.206.amd64fre.rs1_release.160915-0644'\n",
      " '17692.1004.amd64fre.rs_prerelease_flt.180625-1624'\n",
      " '17754.1.amd64fre.rs5_release.180831-1429'\n",
      " '7601.24117.x86fre.win7sp1_ldr_escrow.180422-1430'\n",
      " '7601.19135.x86fre.win7sp1_gdr.160121-1718'\n",
      " '7601.24236.x86fre.win7sp1_ldr_escrow.180815-1700'\n",
      " '7601.24024.amd64fre.win7sp1_ldr.180112-0600'\n",
      " '9600.18378.amd64fre.winblue_ltsb.160611-0600'\n",
      " '10240.17202.amd64fre.th1_st1.161118-1836'\n",
      " '10240.17946.amd64fre.th1.180806-2045'\n",
      " '9600.18264.x86fre.winblue_ltsb.160310-0600'\n",
      " '14393.2430.x86fre.rs1_release_inmarket_aim.180806-1810'\n",
      " '10240.17889.amd64fre.th1_st1.180529-1823'\n",
      " '10240.17184.amd64fre.th1_st1.161024-1820'\n",
      " '17627.1000.amd64fre.rs_prerelease.180315-1512'\n",
      " '14393.1914.x86fre.rs1_release_inmarket.171117-1700'\n",
      " '10240.17202.x86fre.th1_st1.161118-1836'\n",
      " '7601.23539.x86fre.win7sp1_ldr.160902-0600'\n",
      " '10586.962.x86fre.th2_release.170602-2241'\n",
      " '10240.16431.x86fre.th1.150810-2333'\n",
      " '10586.122.x86fre.th2_release_inmarket.160222-1549'\n",
      " '7601.24214.x86fre.win7sp1_ldr_escrow.180801-1700'\n",
      " '7601.19110.amd64fre.win7sp1_gdr.151230-0600'\n",
      " '17746.1000.amd64fre.rs5_release.180821-1736'\n",
      " '17744.1001.amd64fre.rs5_release.180818-1845'\n",
      " '18267.1001.amd64fre.rs_prerelease.181020-1908'\n",
      " '7601.23915.x86fre.win7sp1_ldr.170913-0600'\n",
      " '9600.19101.x86fre.winblue_ltsb_escrow.180718-1800'\n",
      " '14393.479.x86fre.rs1_release.161110-2025'\n",
      " '7601.24094.x86fre.win7sp1_ldr_escrow.180330-1600'\n",
      " '14393.206.x86fre.rs1_release.160915-0644'\n",
      " '9600.18146.amd64fre.winblue_ltsb.151121-0600'\n",
      " '14393.1770.x86fre.rs1_release.170917-1700'\n",
      " '10240.16644.amd64fre.th1.160104-1507'\n",
      " '14393.2155.amd64fre.rs1_release_1.180305-1842'\n",
      " '10240.17976.x86fre.th1.180905-1120'\n",
      " '7601.24291.amd64fre.win7sp1_ldr_escrow.181110-1429'\n",
      " '7601.19160.amd64fre.win7sp1_gdr.160211-0600'\n",
      " '14393.1537.amd64fre.rs1_release_inmarket.170731-1907'\n",
      " '14393.2339.amd64fre.rs1_release_inmarket.180611-1502'\n",
      " '10240.16590.amd64fre.th1_st1.151104-1714'\n",
      " '17677.1000.amd64fre.rs_prerelease.180520-0940'\n",
      " '14393.2312.x86fre.rs1_release.180607-1919'\n",
      " '10240.16545.amd64fre.th1.150930-1750'\n",
      " '10240.16841.x86fre.th1_st1.160408-1853'\n",
      " '18242.1000.amd64fre.rs_prerelease.180914-1435'\n",
      " '9600.18685.amd64fre.winblue_ltsb.170427-1704'\n",
      " '10240.16841.amd64fre.th1_st1.160408-1853'\n",
      " '7601.24000.x86fre.win7sp1_ldr.171231-1547'\n",
      " '7601.17514.x86fre.win7sp1_rtm.101119-1850'\n",
      " '7600.16385.x86fre.win7_rtm.090713-1255'\n",
      " '7601.23864.x86fre.win7sp1_ldr.170707-0600'\n",
      " '7601.18933.x86fre.win7sp1_gdr.150715-0600'\n",
      " '14393.2097.amd64fre.rs1_release_1.180212-1105'\n",
      " '10240.17831.amd64fre.th1_st1.180323-1758'\n",
      " '14393.2035.amd64fre.rs1_release_inmarket.180110-1910'\n",
      " '10240.18005.x86fre.th1.180924-1744' '10240.16515.x86fre.th1.150916-2039'\n",
      " '9600.18340.amd64fre.winblue_ltsb.160513-1153'\n",
      " '9600.18202.amd64fre.winblue_ltsb.160119-0600'\n",
      " '18277.1000.x86fre.rs_prerelease.181102-1446'\n",
      " '7601.24024.x86fre.win7sp1_ldr.180112-0600'\n",
      " '17738.1000.amd64fre.rs5_release.180810-1706'\n",
      " '7600.17273.x86fre.win7_gdr.130318-1532'\n",
      " '18272.1000.x86fre.rs_prerelease.181026-1425'\n",
      " '16299.15.arm64fre.rs3_release.170928-1534'\n",
      " '14393.103.x86fre.rs1_release_inmarket.160819-1924'\n",
      " '10240.17738.x86fre.th1.180101-1159' '10240.16463.x86fre.th1.150819-1946'\n",
      " '14393.1532.amd64fre.rs1_release_d.170711-1840'\n",
      " '18234.1000.amd64fre.rs_prerelease.180831-1440'\n",
      " '7601.23564.x86fre.win7sp1_ldr.160930-0600'\n",
      " '17686.1003.amd64fre.rs_prerelease.180603-1447'\n",
      " '10240.16724.x86fre.th1_st1.160222-1812'\n",
      " '10240.16590.x86fre.th1_st1.151104-1714'\n",
      " '10240.17797.amd64fre.th1_st1.180228-1829'\n",
      " '7601.23714.amd64fre.win7sp1_ldr.170307-1800'\n",
      " '17741.1000.amd64fre.rs5_release.180814-1430'\n",
      " '9600.18896.amd64fre.winblue_ltsb_escrow.180108-1534'\n",
      " '14393.2035.x86fre.rs1_release_inmarket.180110-1910'\n",
      " '9600.19179.x86fre.winblue_ltsb_escrow.181015-1847'\n",
      " '7601.24059.x86fre.win7sp1_ldr_escrow.180308-1637'\n",
      " '9600.17476.amd64fre.winblue_r5.141029-1500'\n",
      " '7600.17795.x86fre.win7_gdr.150318-1623'\n",
      " '14393.2368.amd64fre.rs1_release_inmarket_aim.180712-1833'\n",
      " '9600.17736.amd64fre.winblue_r9.150322-1500'\n",
      " '17666.1000.amd64fre.rs_prerelease.180504-1501'\n",
      " '14393.1532.x86fre.rs1_release_d.170711-1840'\n",
      " '7601.24168.x86fre.win7sp1_ldr.180608-0600'\n",
      " '7601.23796.x86fre.win7sp1_ldr.170427-1518'\n",
      " '14393.2515.x86fre.rs1_release_1.180830-1044'\n",
      " '7601.23392.amd64fre.win7sp1_ldr.160317-0600'\n",
      " '17604.1000.amd64fre.rs_prerelease.180209-1422'\n",
      " '9600.19000.x86fre.winblue_ltsb.180410-0600'\n",
      " '17713.1000.amd64fre.rs5_release.180706-1551'\n",
      " '9600.18264.amd64fre.winblue_ltsb.160310-0600'\n",
      " '18259.1000.amd64fre.rs_prerelease.181009-1436'\n",
      " '9600.18258.amd64fre.winblue_ltsb.160303-0600'\n",
      " '7601.18700.x86fre.win7sp1_gdr.141211-1742'\n",
      " '7601.24009.amd64fre.win7sp1_ldr.180107-0421'\n",
      " '7601.23572.x86fre.win7sp1_ldr.161011-0600'\n",
      " '7601.23677.amd64fre.win7sp1_ldr.170209-0600'\n",
      " '14393.2156.amd64fre.rs1_release_inmarket.180321-1733'\n",
      " '18237.1000.amd64fre.rs_prerelease.180907-1621'\n",
      " '9600.18292.amd64fre.winblue_ltsb.160330-1744'\n",
      " '9600.18730.x86fre.winblue_ltsb.170613-0600'\n",
      " '9600.18423.amd64fre.winblue_ltsb.160723-0600'\n",
      " '14393.2273.x86fre.rs1_release_1.180427-1811'\n",
      " '9600.18379.x86fre.winblue_ltsb.160614-0600'\n",
      " '7601.18741.amd64fre.win7sp1_gdr.150202-1526'\n",
      " '17666.1000.x86fre.rs_prerelease.180504-1501'\n",
      " '7601.17592.amd64fre.win7sp1_gdr.110408-1631'\n",
      " '9600.18895.x86fre.winblue_ltsb.180101-1800'\n",
      " '7601.17514.amd64fre.win7sp1_rtm.101119-1850'\n",
      " '9600.18896.x86fre.winblue_ltsb_escrow.180108-1534'\n",
      " '7601.19018.amd64fre.win7sp1_gdr.150928-1507'\n",
      " '9600.18090.amd64fre.winblue_ltsb.151014-0600'\n",
      " '9600.18185.amd64fre.winblue_ltsb.151230-0600'\n",
      " '17735.1000.amd64fre.rs5_release.180807-1451'\n",
      " '14246.1944.amd64fre.rs1_release.171104-2100'\n",
      " '7601.24060.amd64fre.win7sp1_ldr_escrow.180319-1512'\n",
      " '10240.17071.x86fre.th1.160802-1852'\n",
      " '10240.17643.amd64fre.th1_st1.170918-1824'\n",
      " '7601.19045.x86fre.win7sp1_gdr.151019-1254'\n",
      " '7601.23889.x86fre.win7sp1_ldr.170810-1615'\n",
      " '9600.18931.x86fre.winblue_ltsb.180201-0600'\n",
      " '7601.23714.x86fre.win7sp1_ldr.170307-1800'\n",
      " '17760.1.x86fre.rs5_release.180911-1415'\n",
      " '10240.17022.x86fre.th1_st1.160623-1726'\n",
      " '14393.594.amd64fre.rs1_release_inmarket.161213-1754'\n",
      " '7601.23807.x86fre.win7sp1_ldr.170512-0600'\n",
      " '18219.1000.amd64fre.rs_prerelease.180810-1721'\n",
      " '7601.18717.amd64fre.win7sp1_gdr.150113-1808'\n",
      " '18285.1000.amd64fre.rs_prerelease.181114-1628'\n",
      " '17763.1.arm64fre.rs5_release.180914-1434'\n",
      " '7601.23564.amd64fre.win7sp1_ldr.160930-0600'\n",
      " '17682.1000.amd64fre.rs_prerelease.180525-1616'\n",
      " '18262.1000.x86fre.rs_prerelease.181012-1414'\n",
      " '17661.1001.amd64fre.rs_prerelease.180428-1349'\n",
      " '10240.17831.x86fre.th1_st1.180323-1758'\n",
      " '10240.17914.amd64fre.th1.180627-1911'\n",
      " '10240.17319.x86fre.th1.170303-1600'\n",
      " '10240.17709.amd64fre.th1.171130-0900'\n",
      " '9600.17238.x86fre.winblue_gdr.140723-2018'\n",
      " '10240.17354.x86fre.th1_st1.170327-1827'\n",
      " '17692.1000.amd64fre.rs_prerelease.180609-1317'\n",
      " '10240.18036.x86fre.th1.181024-1742'\n",
      " '7601.24059.amd64fre.win7sp1_ldr_escrow.180308-1637'\n",
      " '10240.17113.x86fre.th1.160906-1755'\n",
      " '9600.17415.amd64fre.winblue_r4.141028-1500'\n",
      " '9600.18194.amd64fre.winblue_ltsb.160112-0600'\n",
      " '17754.1.x86fre.rs5_release.180831-1429'\n",
      " '7601.18869.amd64fre.win7sp1_gdr.150525-0603'\n",
      " '9600.18185.x86fre.winblue_ltsb.151230-0600'\n",
      " '18267.1001.x86fre.rs_prerelease.181020-1908'\n",
      " '7601.18247.x86fre.win7sp1_gdr.130828-1532'\n",
      " '9600.18589.x86fre.winblue_ltsb.170204-0600'\n",
      " '7601.24009.x86fre.win7sp1_ldr.180107-0421'\n",
      " '10240.17861.x86fre.th1.180427-1806'\n",
      " '7601.18229.amd64fre.win7sp1_gdr.130801-1533'\n",
      " '10586.456.amd64fre.th2_release.160617-1853'\n",
      " '7600.16385.amd64fre.win7_rtm.090713-1255'\n",
      " '7601.18933.amd64fre.win7sp1_gdr.150715-0600'\n",
      " '10240.17770.amd64fre.th1.180209-1728'\n",
      " '9600.18725.amd64fre.winblue_ltsb.170607-0600'\n",
      " '7601.23391.x86fre.win7sp1_ldr.160316-0600'\n",
      " '14393.2580.x86fre.rs1_release_inmarket.181009-1745'\n",
      " '17746.1000.x86fre.rs5_release.180821-1736'\n",
      " '7600.16617.amd64fre.win7_gdr.100618-1621'\n",
      " '17728.1000.amd64fre.rs5_release.180727-1721'\n",
      " '9600.19067.x86fre.winblue_ltsb_escrow.180619-2033'\n",
      " '9600.17041.amd64fre.winblue_gdr.140305-1710'\n",
      " '10240.17738.amd64fre.th1.180101-1159'\n",
      " '9600.18969.x86fre.winblue_ltsb.180309-0600'\n",
      " '14393.2395.x86fre.rs1_release_inmarket.180714-1932'\n",
      " '14393.2097.x86fre.rs1_release_1.180212-1105'\n",
      " '9600.17668.amd64fre.winblue_r8.150127-1500'\n",
      " '7601.18798.x86fre.win7sp1_gdr.150316-1654'\n",
      " '10240.17918.amd64fre.th1_escrow.180712-1918'\n",
      " '18252.1000.arm64fre.rs_prerelease.180928-1410'\n",
      " '9600.18696.x86fre.winblue_ltsb.170511-1554'\n",
      " '10586.456.x86fre.th2_release.160617-1853'\n",
      " '10240.16644.x86fre.th1.160104-1507' '10240.17946.x86fre.th1.180806-2045'\n",
      " '7601.23569.x86fre.win7sp1_ldr.161007-0600'\n",
      " '10240.16387.amd64fre.th1_st1.150711-1429'\n",
      " '10240.17146.x86fre.th1_st1.160929-1748'\n",
      " '7601.23392.x86fre.win7sp1_ldr.160317-0600'\n",
      " '7601.19135.amd64fre.win7sp1_gdr.160121-1718'\n",
      " '10240.17394.x86fre.th1_st1.170427-1347'\n",
      " '14393.223.x86fre.rs1_release_inmarket_rim.161002-1903'\n",
      " '14393.1613.amd64fre.rs1_release_d.170807-1806'\n",
      " '7601.19160.x86fre.win7sp1_gdr.160211-0600'\n",
      " '7600.16792.x86fre.win7_gdr.110408-1633'\n",
      " '17711.1000.amd64fre.rs_prerelease.180703-1539'\n",
      " '18247.1001.x86fre.rs_prerelease.180922-2224'\n",
      " '18280.1000.amd64fre.rs_prerelease.181107-1441'\n",
      " '17650.1001.amd64fre.rs_prerelease.180414-2140'\n",
      " '7601.23569.amd64fre.win7sp1_ldr.161007-0600'\n",
      " '16299.637.arm64fre.rs3_release_svc.180808-1748'\n",
      " '10240.16412.x86fre.th1.150729-1800'\n",
      " '7601.17803.x86fre.win7sp1_gdr.120330-1504'\n",
      " '18204.1001.amd64fre.rs_prerelease.180721-1657'\n",
      " '17723.1000.x86fre.rs5_release.180720-1452'\n",
      " '7601.19018.x86fre.win7sp1_gdr.150928-1507'\n",
      " '17759.1.amd64fre.rs5_release.180910-1322' nan\n",
      " '17672.1000.x86fre.rs_prerelease.180511-1445'\n",
      " '10240.17889.x86fre.th1_st1.180529-1823'\n",
      " '17692.1000.x86fre.rs_prerelease.180609-1317'\n",
      " '17643.1000.amd64fre.rs_prerelease.180405-1509'\n",
      " '9600.18438.x86fre.winblue_ltsb.160812-0914'\n",
      " '9600.18505.x86fre.winblue_ltsb.160930-0600'\n",
      " '7601.24060.x86fre.win7sp1_ldr_escrow.180319-1512'\n",
      " '9600.18758.x86fre.winblue_ltsb.170707-0600'\n",
      " '7600.16792.amd64fre.win7_gdr.110408-1633'\n",
      " '17738.1000.x86fre.rs5_release.180810-1706'\n",
      " '10240.17533.amd64fre.th1.170801-1946'\n",
      " '9600.19038.amd64fre.winblue_ltsb_escrow.180608-1416'\n",
      " '17723.1000.amd64fre.rs5_release.180720-1452'\n",
      " '7601.23250.x86fre.win7sp1_ldr.151019-1255'\n",
      " '7601.23455.amd64fre.win7sp1_ldr.160516-0600'\n",
      " '9600.17415.x86fre.winblue_r4.141028-1500'\n",
      " '18242.1000.x86fre.rs_prerelease.180914-1435'\n",
      " '9600.19128.x86fre.winblue_ltsb_escrow.180813-1030'\n",
      " '7601.18113.x86fre.win7sp1_gdr.130318-1533'\n",
      " '7601.18741.x86fre.win7sp1_gdr.150202-1526'\n",
      " '7601.17591.amd64fre.win7sp1_gdr.110407-1603'\n",
      " '7601.23391.amd64fre.win7sp1_ldr.160316-0600'\n",
      " '7601.18715.amd64fre.win7sp1_gdr.150111-1512'\n",
      " '9600.17328.x86fre.winblue_r3.140827-1500'\n",
      " '9600.18007.amd64fre.winblue_ltsb.150807-0612'\n",
      " '9600.18289.x86fre.winblue_ltsb.160328-1315'\n",
      " '10240.17609.amd64fre.th1.170904-1739'\n",
      " '7601.18526.amd64fre.win7sp1_gdr.140706-1506'\n",
      " '17686.1003.x86fre.rs_prerelease.180603-1447'\n",
      " '17751.1.x86fre.rs5_release.180828-1428'\n",
      " '9600.17736.x86fre.winblue_r9.150322-1500'\n",
      " '17704.1000.x86fre.rs_prerelease.180623-1611'\n",
      " '10240.17770.x86fre.th1.180209-1728'\n",
      " '9600.18202.x86fre.winblue_ltsb.160119-0600'\n",
      " '18265.1000.amd64fre.rs_prerelease.181017-1441'\n",
      " '17704.1000.amd64fre.rs_prerelease.180623-1611'\n",
      " '17733.1000.x86fre.rs5_release.180803-1525'\n",
      " '17756.1.amd64fre.rs5_release.180905-1436'\n",
      " '7601.17640.amd64fre.win7sp1_gdr.110622-1506'\n",
      " '7601.18839.amd64fre.win7sp1_gdr.150427-0707'\n",
      " '7601.18717.x86fre.win7sp1_gdr.150113-1808'\n",
      " '17677.1000.x86fre.rs_prerelease.180520-0940'\n",
      " '10240.17914.x86fre.th1.180627-1911'\n",
      " '18219.1000.x86fre.rs_prerelease.180810-1721'\n",
      " '7600.17118.x86fre.win7_gdr.120830-0334'\n",
      " '7601.18923.amd64fre.win7sp1_gdr.150714-1514'\n",
      " '17655.1000.amd64fre.rs_prerelease.180420-1850'\n",
      " '10586.596.amd64fre.th2_release_inmarket.160916-2001'\n",
      " '18255.1000.x86fre.rs_prerelease.181003-1454'\n",
      " '7601.17727.amd64fre.win7sp1_gdr.111118-2330'\n",
      " '17755.1.x86fre.rs5_release.180904-1423'\n",
      " '7601.18839.x86fre.win7sp1_gdr.150427-0707'\n",
      " '9600.18685.x86fre.winblue_ltsb.170427-1704'\n",
      " '7600.16695.x86fre.win7_gdr.101026-1503'\n",
      " '7601.18939.x86fre.win7sp1_gdr.150722-0600'\n",
      " '14393.2457.x86fre.rs1_release_inmarket.180822-1743'\n",
      " '7600.16617.x86fre.win7_gdr.100618-1621'\n",
      " '14393.1670.amd64fre.rs1_release_inmarket.170821-1825'\n",
      " '9600.18233.amd64fre.winblue_ltsb.160210-0600'\n",
      " '7601.18939.amd64fre.win7sp1_gdr.150722-0600'\n",
      " '7601.17944.x86fre.win7sp1_gdr.120830-0333'\n",
      " '17623.1002.amd64fre.rs_prerelease.180310-1600'\n",
      " '7600.17273.amd64fre.win7_gdr.130318-1532'\n",
      " '7600.16539.amd64fre.win7_gdr.100226-1909'\n",
      " '17735.1000.x86fre.rs5_release.180807-1451'\n",
      " '9600.17936.x86fre.winblue_ltsb.150715-0840'\n",
      " '7601.23349.amd64fre.win7sp1_ldr.160210-0600'\n",
      " '17655.1000.x86fre.rs_prerelease.180420-1850'\n",
      " '10240.17488.amd64fre.th1.170705-2101'\n",
      " '14393.729.amd64fre.rs1_release_inmarket_rim.170123-1753'\n",
      " '7601.18923.x86fre.win7sp1_gdr.150714-1514'\n",
      " '7601.19131.x86fre.win7sp1_gdr.160116-0600'\n",
      " '16299.431.arm64fre.rs3_release_svc_escrow.180502-1908'\n",
      " '18255.1000.amd64fre.rs_prerelease.181003-1454'\n",
      " '10240.17446.amd64fre.th1_escrow.170616-1918'\n",
      " '7601.19110.x86fre.win7sp1_gdr.151230-0600'\n",
      " '10240.17709.x86fre.th1.171130-0900'\n",
      " '7601.17713.x86fre.win7sp1_gdr.111025-1505'\n",
      " '17133.1.amd64fre.rs4_release.180323-1312'\n",
      " '10240.16425.amd64fre.th1.150802-1600'\n",
      " '7600.20510.amd64fre.win7_ldr.090819-1503'\n",
      " '17682.1000.x86fre.rs_prerelease.180525-1616'\n",
      " '14393.1797.x86fre.rs1_release_inmarket_aim.171027-1738'\n",
      " '17639.1000.x86fre.rs_prerelease.180330-1630'\n",
      " '7601.23455.x86fre.win7sp1_ldr.160516-0600'\n",
      " '7601.23153.amd64fre.win7sp1_ldr.150804-0600'\n",
      " '9600.17933.amd64fre.winblue_ltsb.150713-1132'\n",
      " '14393.2156.x86fre.rs1_release_inmarket.180321-1733'\n",
      " '17661.1001.x86fre.rs_prerelease.180428-1349'\n",
      " '7601.23349.x86fre.win7sp1_ldr.160210-0600'\n",
      " '9600.16452.amd64fre.winblue_gdr.131030-1505'\n",
      " '9600.18066.amd64fre.winblue_ltsb.150928-1002'\n",
      " '14393.1797.amd64fre.rs1_release_inmarket_aim.171027-1738'\n",
      " '7601.17640.x86fre.win7sp1_gdr.110622-1506'\n",
      " '16299.0.x86fre.rs3_release.170922-1354'\n",
      " '18234.1000.x86fre.rs_prerelease.180831-1440'\n",
      " '18214.1000.amd64fre.rs_prerelease.180803-1553'\n",
      " '9600.17031.amd64fre.winblue_gdr.140221-1952'\n",
      " '7600.16973.x86fre.win7_gdr.120305-1504'\n",
      " '10586.1177.amd64fre.th2_release_inmarket.171027-1506'\n",
      " '9600.18233.x86fre.winblue_ltsb.160210-0600'\n",
      " '7601.18526.x86fre.win7sp1_gdr.140706-1506'\n",
      " '14393.1737.amd64fre.rs1_release_inmarket.170914-1249'\n",
      " '14393.2368.x86fre.rs1_release_inmarket_aim.180712-1833'\n",
      " '7601.18700.amd64fre.win7sp1_gdr.141211-1742'\n",
      " '7600.21980.amd64fre.win7_ldr.150318-1623'\n",
      " '7601.17790.amd64fre.win7sp1_gdr.120305-1505'\n",
      " '7601.18147.x86fre.win7sp1_gdr.130505-1534'\n",
      " '16299.484.amd64fre.rs3_release_svc_escrow.180511-1748'\n",
      " '14216.1944.amd64fre.rs1_release.171261-2100'\n",
      " '7601.17727.x86fre.win7sp1_gdr.111118-2330'\n",
      " '16299.0.amd64fre.rs3_release.170922-1354'\n",
      " '17618.1000.amd64fre.rs_prerelease.180302-1651'\n",
      " '17713.1000.x86fre.rs5_release.180706-1551'\n",
      " '7600.16481.x86fre.win7_gdr.091207-1941'\n",
      " '17627.1000.x86fre.rs_prerelease.180315-1512'\n",
      " '14436.1944.amd64fre.rs1_release.171173-2100'\n",
      " '7601.18205.x86fre.win7sp1_gdr.130708-1532'\n",
      " '18279.1000.amd64fre.rs_onecore_sigma_grfx_dev.181107-1700'\n",
      " '18253.1000.amd64fre.rs_prerelease.181001-1418'\n",
      " '9600.18007.x86fre.winblue_ltsb.150807-0612'\n",
      " '14422.1944.amd64fre.rs1_release.171131-2100'\n",
      " '10240.17643.x86fre.th1_st1.170918-1824'\n",
      " '7600.20941.amd64fre.win7_ldr.110408-1635'\n",
      " '10240.17797.x86fre.th1_st1.180228-1829'\n",
      " '14393.0.amd64fre.rs1_release_srvmedia.160808-1702'\n",
      " '7600.17017.amd64fre.win7_gdr.120503-2030'\n",
      " '7601.18205.amd64fre.win7sp1_gdr.130708-1532'\n",
      " '17634.1000.x86fre.rs_prerelease.180323-1629'\n",
      " '18287.1001.amd64fre.rs_prerelease.181117-1527'\n",
      " '7601.18044.amd64fre.win7sp1_gdr.130104-1431'\n",
      " '17754.1000.amd64fre.rs5_release_sigma.180831-1700'\n",
      " '10240.16387.x86fre.th1_st1.150711-1429'\n",
      " '10586.842.amd64fre.th2_release_inmarket.170318-0600'\n",
      " '18260.1000.amd64fre.rs_prerelease.181010-1554'\n",
      " '7601.23338.amd64fre.win7sp1_ldr.160121-1716'\n",
      " '17728.1000.x86fre.rs5_release.180727-1721'\n",
      " '17741.1000.x86fre.rs5_release.180814-1430'\n",
      " '18247.1000.x86fre.rs_prerelease.180921-1318'\n",
      " '18259.1000.x86fre.rs_prerelease.181009-1436'\n",
      " '7601.17790.x86fre.win7sp1_gdr.120305-1505'\n",
      " '7601.17944.amd64fre.win7sp1_gdr.120830-0333'\n",
      " '14320.1944.amd64fre.rs1_release.171244-2100'\n",
      " '7601.23338.x86fre.win7sp1_ldr.160121-1716'\n",
      " '18237.1000.x86fre.rs_prerelease.180907-1621'\n",
      " '14393.1613.x86fre.rs1_release_d.170807-1806'\n",
      " '10586.1177.x86fre.th2_release_inmarket.171027-1506'\n",
      " '18249.1000.x86fre.rs_prerelease.180925-1413'\n",
      " '7601.22908.x86fre.win7sp1_ldr.141211-1743'\n",
      " '7601.17835.amd64fre.win7sp1_gdr.120503-2030'\n",
      " '18287.1001.x86fre.rs_prerelease.181117-1527'\n",
      " '7600.21980.x86fre.win7_ldr.150318-1623'\n",
      " '9600.17476.x86fre.winblue_r5.141029-1500'\n",
      " '14218.1944.amd64fre.rs1_release.171165-2100'\n",
      " '10240.17918.x86fre.th1_escrow.180712-1918'\n",
      " '18255.1000.amd64fre.rs_onecore_dep.181003-1700'\n",
      " '14421.1944.amd64fre.rs1_release.171268-2100'\n",
      " '18248.1000.amd64fre.rs_prerelease.180924-1406'\n",
      " '14393.594.x86fre.rs1_release_inmarket.161213-1754'\n",
      " '7601.23313.x86fre.win7sp1_ldr.151230-0600'\n",
      " '10586.338.x86fre.th2_release.160517-1918'\n",
      " '9600.18292.x86fre.winblue_ltsb.160330-1744'\n",
      " '18289.1000.amd64fre.rs_prerelease.181120-1439'\n",
      " '7601.22656.amd64fre.win7sp1_ldr.140417-1532'\n",
      " '16299.811.amd64fre.rs3_release_svc.181008-1831'\n",
      " '14294.1944.amd64fre.rs1_release.171089-2100'\n",
      " '18249.1000.amd64fre.rs_prerelease.180925-1413'\n",
      " '9600.17085.x86fre.winblue_gdr.140330-1035'\n",
      " '7600.16988.amd64fre.win7_gdr.120401-1505'\n",
      " '9600.18066.x86fre.winblue_ltsb.150928-1002'\n",
      " '9600.18378.x86fre.winblue_ltsb.160611-0600'\n",
      " '7600.16988.x86fre.win7_gdr.120401-1505'\n",
      " '16024.1.amd64fre.rs5_release.180904-1423'\n",
      " '7601.17803.amd64fre.win7sp1_gdr.120330-1504'\n",
      " '7601.18738.amd64fre.win7sp1_gdr.150128-1513'\n",
      " '18260.1000.amd64fre.rsmaster.181010-1540'\n",
      " '17730.1000.amd64fre.rs5_release.180731-1427'\n",
      " '7601.18044.x86fre.win7sp1_gdr.130104-1431'\n",
      " '18256.1000.amd64fre.rs_prerelease.181004-1434'\n",
      " '7601.18711.amd64fre.win7sp1_gdr.150106-1506'\n",
      " '9600.18423.x86fre.winblue_ltsb.160723-0600'\n",
      " '17711.1000.x86fre.rs_prerelease.180703-1539'\n",
      " '7601.22948.amd64fre.win7sp1_ldr.150202-1521'\n",
      " '7601.23250.amd64fre.win7sp1_ldr.151019-1255'\n",
      " '14337.1944.amd64fre.rs1_release.171106-2100'\n",
      " '7601.23002.amd64fre.win7sp1_ldr.150316-1651'\n",
      " '14229.1944.amd64fre.rs1_release.171144-2100'\n",
      " '18266.1000.amd64fre.rs_shell.181018-1628'\n",
      " '17704.1002.amd64fre.rs_onecore_sigma_grfx_dev.180625-1838'\n",
      " '18214.1000.x86fre.rs_prerelease.180803-1553'\n",
      " '7600.16841.amd64fre.win7_gdr.110622-1503'\n",
      " '10586.639.amd64fre.th2_release_inmarket.161014-1749'\n",
      " '15063.2.x86fre.rs2_release_svc_d.170531-1743'\n",
      " '7600.20642.amd64fre.win7_ldr.100211-1706'\n",
      " '18270.1000.amd64fre.rs_prerelease.181024-1418'\n",
      " '18269.1000.x86fre.rs_prerelease.181023-1417'\n",
      " '17133.1.x86fre.rs4_release.180323-1312'\n",
      " '14367.1944.amd64fre.rs1_release.171263-2100'\n",
      " '18264.1000.x86fre.rs_prerelease.181016-1426'\n",
      " '9600.18258.x86fre.winblue_ltsb.160303-0600'\n",
      " '10586.639.x86fre.th2_release_inmarket.161014-1749'\n",
      " '18264.1000.amd64fre.rs_prerelease.181016-1426'\n",
      " '10586.461.amd64fre.th2_release.160701-1757'\n",
      " '17653.1000.amd64fre.rs_onecore_sigma_grfx_dev.180419-1700'\n",
      " '9600.16452.x86fre.winblue_gdr.131030-1505'\n",
      " '7601.22616.amd64fre.win7sp1_ldr.140303-2307'\n",
      " '7601.22379.x86fre.win7sp1_ldr.130707-1535'\n",
      " '17643.1000.x86fre.rs_prerelease.180405-1509'\n",
      " '7600.16397.x86fre.win7_gdr_staging.090720-1852'\n",
      " '7601.21915.x86fre.win7sp1_ldr.120203-2106'\n",
      " '17134.1*amd64fre.rs4_release.180410-1804'\n",
      " '9600.17041.x86fre.winblue_gdr.140305-1710'\n",
      " '15063.2.amd64fre.rs2_release.170323-1837'\n",
      " '10240.17609.x86fre.th1.170904-1739'\n",
      " '14372.1944.amd64fre.rs1_release.171205-2100'\n",
      " '7600.20941.x86fre.win7_ldr.110408-1635'\n",
      " '14355.1944.amd64fre.rs1_release.171164-2100'\n",
      " '10240.17533.x86fre.th1.170801-1946'\n",
      " '17758.1.arm64fre.rs5_release.180907-1536'\n",
      " '7601.23142.amd64fre.win7sp1_ldr.150722-0600'\n",
      " '14279.1944.amd64fre.rs1_release.171220-2100'\n",
      " '18238.1000.amd64fre.rs_onecore_sigma_grfx_dev.180911-1700'\n",
      " '17760.1.arm64fre.rs5_release.180911-1415'\n",
      " '18279.1001.amd64fre.rs_prerelease.181106-1504'\n",
      " '18289.1000.x86fre.rs_prerelease.181120-1439'\n",
      " '9600.17668.x86fre.winblue_r8.150127-1500'\n",
      " '7601.23072.amd64fre.win7sp1_ldr.150525-0604'\n",
      " '18252.1001.amd64fre.rs_shell.180929-1715'\n",
      " '7600.17118.amd64fre.win7_gdr.120830-0334']\n"
     ]
    }
   ],
   "source": [
    "print(dataframe['OsBuildLab'].unique())"
   ]
  },
  {
   "cell_type": "code",
   "execution_count": 42,
   "metadata": {},
   "outputs": [],
   "source": [
    "unique_valuesOsBuildLab = dataframe['OsBuildLab'].unique()\n",
    "\n",
    "# Mappeo los valores unicos por numeros\n",
    "value_to_number = {value: index + 1 for index, value in enumerate(unique_valuesOsBuildLab)}\n",
    "\n",
    "# Cambio los valores por los numeros \n",
    "dfC['OsBuildLab'] = dfC['OsBuildLab'].map(value_to_number)"
   ]
  },
  {
   "cell_type": "code",
   "execution_count": 43,
   "metadata": {},
   "outputs": [
    {
     "name": "stdout",
     "output_type": "stream",
     "text": [
      "0    1.0\n",
      "1    2.0\n",
      "2    3.0\n",
      "3    4.0\n",
      "4    4.0\n",
      "5    5.0\n",
      "6    5.0\n",
      "Name: OsBuildLab, dtype: float64\n"
     ]
    }
   ],
   "source": [
    "print(dfC['OsBuildLab'].head(7))"
   ]
  },
  {
   "cell_type": "markdown",
   "metadata": {},
   "source": [
    "SkuEdition"
   ]
  },
  {
   "cell_type": "code",
   "execution_count": 44,
   "metadata": {},
   "outputs": [
    {
     "name": "stdout",
     "output_type": "stream",
     "text": [
      "['Home' 'Pro' 'Education' 'Enterprise' 'Invalid' 'Enterprise LTSB' 'Cloud'\n",
      " 'Server']\n"
     ]
    }
   ],
   "source": [
    "print(dataframe['SkuEdition'].unique())"
   ]
  },
  {
   "cell_type": "code",
   "execution_count": 45,
   "metadata": {},
   "outputs": [],
   "source": [
    "unique_valuesSkuEdition = dataframe['SkuEdition'].unique()\n",
    "\n",
    "# Mappeo los valores unicos por numeros\n",
    "value_to_number = {value: index + 1 for index, value in enumerate(unique_valuesSkuEdition)}\n",
    "\n",
    "# Cambio los valores por los numeros \n",
    "dfC['SkuEdition'] = dfC['SkuEdition'].map(value_to_number)"
   ]
  },
  {
   "cell_type": "code",
   "execution_count": 46,
   "metadata": {},
   "outputs": [
    {
     "name": "stdout",
     "output_type": "stream",
     "text": [
      "0    1\n",
      "1    1\n",
      "2    1\n",
      "3    1\n",
      "4    1\n",
      "5    2\n",
      "6    1\n",
      "Name: SkuEdition, dtype: int64\n"
     ]
    }
   ],
   "source": [
    "print(dfC['SkuEdition'].head(7))"
   ]
  },
  {
   "cell_type": "markdown",
   "metadata": {},
   "source": [
    "IsProtected"
   ]
  },
  {
   "cell_type": "code",
   "execution_count": 47,
   "metadata": {},
   "outputs": [
    {
     "name": "stdout",
     "output_type": "stream",
     "text": [
      "[ 1.  0. nan]\n"
     ]
    }
   ],
   "source": [
    "print(dataframe['IsProtected'].unique())"
   ]
  },
  {
   "cell_type": "markdown",
   "metadata": {},
   "source": [
    "AutoSampleOptIn"
   ]
  },
  {
   "cell_type": "code",
   "execution_count": 48,
   "metadata": {},
   "outputs": [
    {
     "name": "stdout",
     "output_type": "stream",
     "text": [
      "[0 1]\n"
     ]
    }
   ],
   "source": [
    "print(dataframe['AutoSampleOptIn'].unique())"
   ]
  },
  {
   "cell_type": "markdown",
   "metadata": {},
   "source": [
    "IeVerIdentifier"
   ]
  },
  {
   "cell_type": "code",
   "execution_count": 49,
   "metadata": {},
   "outputs": [
    {
     "name": "stdout",
     "output_type": "stream",
     "text": [
      "[108. 117.  98. 137. 135. 205. 111.  94.  73.  53. 259. 107. 333.  74.\n",
      "  76. 103.  96.  86. 105.  90. 323. 114.  82. 280.  91.  71.  nan  70.\n",
      " 339.  81.  78. 199. 302.  87. 246. 338. 332. 293.  85. 234.  92.  41.\n",
      "  51. 337.  68. 309.  42. 364. 295. 102. 288.  44.  52.  88.  47.  84.\n",
      " 331. 163. 254.  72.  63.  12. 287. 264. 321. 335.  50. 153.  46. 185.\n",
      " 315.  34. 334.  77. 322. 362. 307. 275. 176. 325. 312. 319. 201. 328.\n",
      " 145.  48. 143. 340. 290. 398. 190. 196. 230.  45. 296. 320. 194. 304.\n",
      " 327.  49.  64. 142. 318. 383. 303. 186. 251. 429. 305.  18. 154. 224.\n",
      " 286. 326. 388. 347. 297. 311.  62. 423. 180. 411.  59. 218. 313. 158.\n",
      "   7.  61. 317. 281. 182. 329. 284. 308. 152. 306. 139. 169. 316. 282.\n",
      " 243. 285. 324. 220. 299. 336. 178. 330.  57. 349. 300. 212. 268.  39.\n",
      " 156. 151. 394.  65.  58. 162.  20.  79.  60. 173.  66. 314.  17. 289.\n",
      " 418. 350. 168. 262. 147. 292.  33.  11. 409. 392. 210. 171.   1. 200.\n",
      " 146. 283.  14.  56.   9. 393.   8. 166.  16. 249. 197. 416. 294. 291.\n",
      " 395. 150. 239. 298. 408. 141.  10.  55. 278. 384. 390.  54. 380. 136.\n",
      "  43. 348. 358. 277. 427. 109. 211. 378. 391. 399. 404.  75.  13. 140.\n",
      " 279. 361. 368. 301. 371. 260. 237. 353. 415. 365. 401.  15.  83.  27.\n",
      " 270.  24. 421. 195. 396.  89. 244. 360. 229. 417. 377. 366. 232. 407.\n",
      "  21. 397. 382. 405. 231. 345.   6. 419. 272. 130. 420. 400. 413. 369.\n",
      " 373. 356.  32. 174.  19. 240. 113. 374. 381.  36. 250. 406. 167. 428.\n",
      " 310. 106. 253. 252. 248.  38. 412.  80. 149. 425. 342. 376. 221. 261.\n",
      " 235.]\n"
     ]
    }
   ],
   "source": [
    "print(dataframe['IeVerIdentifier'].unique())"
   ]
  },
  {
   "cell_type": "code",
   "execution_count": 50,
   "metadata": {},
   "outputs": [
    {
     "name": "stdout",
     "output_type": "stream",
     "text": [
      "0    108.0\n",
      "1    117.0\n",
      "2     98.0\n",
      "3    117.0\n",
      "4    117.0\n",
      "5    137.0\n",
      "6    137.0\n",
      "Name: IeVerIdentifier, dtype: float64\n"
     ]
    }
   ],
   "source": [
    "print(dfC['IeVerIdentifier'].head(7))"
   ]
  },
  {
   "cell_type": "markdown",
   "metadata": {},
   "source": [
    "UacLuaenable"
   ]
  },
  {
   "cell_type": "code",
   "execution_count": 51,
   "metadata": {},
   "outputs": [
    {
     "name": "stdout",
     "output_type": "stream",
     "text": [
      "[1.00000000e+00 0.00000000e+00            nan 4.80000000e+01\n",
      " 6.35706200e+06 2.00000000e+00 3.00000000e+00 4.90000000e+01\n",
      " 5.00000000e+00 8.08482864e+08 5.37591856e+08]\n"
     ]
    }
   ],
   "source": [
    "print(dataframe['UacLuaenable'].unique())"
   ]
  },
  {
   "cell_type": "code",
   "execution_count": 52,
   "metadata": {},
   "outputs": [
    {
     "name": "stdout",
     "output_type": "stream",
     "text": [
      "0    1.0\n",
      "1    1.0\n",
      "2    1.0\n",
      "3    1.0\n",
      "4    1.0\n",
      "5    1.0\n",
      "6    1.0\n",
      "Name: UacLuaenable, dtype: float64\n"
     ]
    }
   ],
   "source": [
    "print(dfC['UacLuaenable'].head(7))"
   ]
  },
  {
   "cell_type": "markdown",
   "metadata": {},
   "source": [
    "Census_MDC2FormFactor"
   ]
  },
  {
   "cell_type": "code",
   "execution_count": 53,
   "metadata": {},
   "outputs": [
    {
     "name": "stdout",
     "output_type": "stream",
     "text": [
      "['Notebook' 'Desktop' 'PCOther' 'AllInOne' 'SmallTablet' 'Convertible'\n",
      " 'Detachable' 'MediumServer' 'LargeTablet' 'SmallServer' 'LargeServer'\n",
      " 'ServerOther' 'IoTOther' 'Other']\n"
     ]
    }
   ],
   "source": [
    "print(dataframe['Census_MDC2FormFactor'].unique())"
   ]
  },
  {
   "cell_type": "code",
   "execution_count": 54,
   "metadata": {},
   "outputs": [],
   "source": [
    "unique_valuesCensus_MDC2FormFactor = dataframe['Census_MDC2FormFactor'].unique()\n",
    "\n",
    "# Mappeo los valores unicos por numeros\n",
    "value_to_number = {value: index + 1 for index, value in enumerate(unique_valuesCensus_MDC2FormFactor)}\n",
    "\n",
    "# Cambio los valores por los numeros \n",
    "dfC['Census_MDC2FormFactor'] = dfC['Census_MDC2FormFactor'].map(value_to_number)"
   ]
  },
  {
   "cell_type": "code",
   "execution_count": 55,
   "metadata": {},
   "outputs": [
    {
     "name": "stdout",
     "output_type": "stream",
     "text": [
      "0    1\n",
      "1    1\n",
      "2    1\n",
      "3    1\n",
      "4    1\n",
      "5    2\n",
      "6    1\n",
      "Name: Census_MDC2FormFactor, dtype: int64\n"
     ]
    }
   ],
   "source": [
    "print(dfC['Census_MDC2FormFactor'].head(7))"
   ]
  },
  {
   "cell_type": "markdown",
   "metadata": {},
   "source": [
    "Census_DeviceFamily"
   ]
  },
  {
   "cell_type": "code",
   "execution_count": 56,
   "metadata": {},
   "outputs": [
    {
     "name": "stdout",
     "output_type": "stream",
     "text": [
      "['Windows.Desktop' 'Windows.Server' 'Windows']\n"
     ]
    }
   ],
   "source": [
    "print(dataframe['Census_DeviceFamily'].unique())"
   ]
  },
  {
   "cell_type": "code",
   "execution_count": 57,
   "metadata": {},
   "outputs": [],
   "source": [
    "unique_valuesCensus_DeviceFamily = dataframe['Census_DeviceFamily'].unique()\n",
    "\n",
    "# Mappeo los valores unicos por numeros\n",
    "value_to_number = {value: index + 1 for index, value in enumerate(unique_valuesCensus_DeviceFamily)}\n",
    "\n",
    "# Cambio los valores por los numeros \n",
    "dfC['Census_DeviceFamily'] = dfC['Census_DeviceFamily'].map(value_to_number)"
   ]
  },
  {
   "cell_type": "code",
   "execution_count": 58,
   "metadata": {},
   "outputs": [
    {
     "name": "stdout",
     "output_type": "stream",
     "text": [
      "0    1\n",
      "1    1\n",
      "2    1\n",
      "3    1\n",
      "4    1\n",
      "5    1\n",
      "6    1\n",
      "Name: Census_DeviceFamily, dtype: int64\n"
     ]
    }
   ],
   "source": [
    "print(dfC['Census_DeviceFamily'].head(7))"
   ]
  },
  {
   "cell_type": "markdown",
   "metadata": {},
   "source": [
    "Census_ProcessorCoreCount"
   ]
  },
  {
   "cell_type": "code",
   "execution_count": 59,
   "metadata": {},
   "outputs": [
    {
     "name": "stdout",
     "output_type": "stream",
     "text": [
      "[  4.   2.  nan   8.   6.   1.  12.   3.  20.  16.  32.  48.  24.  28.\n",
      "   7.  40.  72.  14.  36.  64.  88.   5.   9.  10.  56.  80.  22.  44.\n",
      "  52. 104.  18.  15.  30.  23. 128.  46.  96.  13. 224. 120.  11.  26.\n",
      " 112. 144.  19.  35.]\n"
     ]
    }
   ],
   "source": [
    "print(dataframe['Census_ProcessorCoreCount'].unique())"
   ]
  },
  {
   "cell_type": "code",
   "execution_count": 60,
   "metadata": {},
   "outputs": [
    {
     "name": "stdout",
     "output_type": "stream",
     "text": [
      "0    4.0\n",
      "1    4.0\n",
      "2    2.0\n",
      "3    2.0\n",
      "4    4.0\n",
      "5    2.0\n",
      "6    4.0\n",
      "Name: Census_ProcessorCoreCount, dtype: float64\n"
     ]
    }
   ],
   "source": [
    "print(dfC['Census_ProcessorCoreCount'].head(7))"
   ]
  },
  {
   "cell_type": "markdown",
   "metadata": {},
   "source": [
    "Census_ProcessorManufacturerIdentifier"
   ]
  },
  {
   "cell_type": "code",
   "execution_count": 61,
   "metadata": {},
   "outputs": [
    {
     "name": "stdout",
     "output_type": "stream",
     "text": [
      "[ 5. nan  1. 10.  3.  6.  2.  8.]\n"
     ]
    }
   ],
   "source": [
    "print(dataframe['Census_ProcessorManufacturerIdentifier'].unique())"
   ]
  },
  {
   "cell_type": "code",
   "execution_count": 62,
   "metadata": {},
   "outputs": [
    {
     "name": "stdout",
     "output_type": "stream",
     "text": [
      "0    5.0\n",
      "1    5.0\n",
      "2    5.0\n",
      "3    5.0\n",
      "4    5.0\n",
      "5    5.0\n",
      "6    5.0\n",
      "Name: Census_ProcessorManufacturerIdentifier, dtype: float64\n"
     ]
    }
   ],
   "source": [
    "print(dfC['Census_ProcessorManufacturerIdentifier'].head(7))"
   ]
  },
  {
   "cell_type": "markdown",
   "metadata": {},
   "source": [
    "Census_ProcessorModelIdentifier"
   ]
  },
  {
   "cell_type": "code",
   "execution_count": 63,
   "metadata": {},
   "outputs": [
    {
     "name": "stdout",
     "output_type": "stream",
     "text": [
      "[3063. 3410. 2097. ... 1208. 4320. 2242.]\n"
     ]
    }
   ],
   "source": [
    "print(dataframe['Census_ProcessorModelIdentifier'].unique())"
   ]
  },
  {
   "cell_type": "code",
   "execution_count": 64,
   "metadata": {},
   "outputs": [
    {
     "name": "stdout",
     "output_type": "stream",
     "text": [
      "0    3063.0\n",
      "1    3410.0\n",
      "2    2097.0\n",
      "3    1985.0\n",
      "4    3394.0\n",
      "5    3512.0\n",
      "6    2382.0\n",
      "Name: Census_ProcessorModelIdentifier, dtype: float64\n"
     ]
    }
   ],
   "source": [
    "print(dfC['Census_ProcessorModelIdentifier'].head(7))"
   ]
  },
  {
   "cell_type": "markdown",
   "metadata": {},
   "source": [
    "Census_PrimaryDiskTotalCapacity"
   ]
  },
  {
   "cell_type": "code",
   "execution_count": 65,
   "metadata": {},
   "outputs": [
    {
     "name": "stdout",
     "output_type": "stream",
     "text": [
      "[ 488386. 1907729.   29820. ...  286160.   26274.   37615.]\n"
     ]
    }
   ],
   "source": [
    "print(dataframe['Census_PrimaryDiskTotalCapacity'].unique())"
   ]
  },
  {
   "cell_type": "code",
   "execution_count": 66,
   "metadata": {},
   "outputs": [
    {
     "name": "stdout",
     "output_type": "stream",
     "text": [
      "0     488386.0\n",
      "1    1907729.0\n",
      "2      29820.0\n",
      "3     476940.0\n",
      "4     476940.0\n",
      "5     305244.0\n",
      "6     953869.0\n",
      "Name: Census_PrimaryDiskTotalCapacity, dtype: float64\n"
     ]
    }
   ],
   "source": [
    "print(dfC['Census_PrimaryDiskTotalCapacity'].head(7))"
   ]
  },
  {
   "cell_type": "markdown",
   "metadata": {},
   "source": [
    "Census_PrimaryDiskTypeName"
   ]
  },
  {
   "cell_type": "code",
   "execution_count": 67,
   "metadata": {},
   "outputs": [
    {
     "name": "stdout",
     "output_type": "stream",
     "text": [
      "['SSD' 'HDD' 'UNKNOWN' 'Unspecified' nan]\n"
     ]
    }
   ],
   "source": [
    "print(dataframe['Census_PrimaryDiskTypeName'].unique())"
   ]
  },
  {
   "cell_type": "code",
   "execution_count": 68,
   "metadata": {},
   "outputs": [],
   "source": [
    "unique_valuesCensus_PrimaryDiskTypeName = dataframe['Census_PrimaryDiskTypeName'].unique()\n",
    "\n",
    "# Mappeo los valores unicos por numeros\n",
    "value_to_number = {value: index + 1 for index, value in enumerate(unique_valuesCensus_PrimaryDiskTypeName)}\n",
    "\n",
    "# Cambio los valores por los numeros \n",
    "dfC['Census_PrimaryDiskTypeName'] = dfC['Census_PrimaryDiskTypeName'].map(value_to_number)"
   ]
  },
  {
   "cell_type": "code",
   "execution_count": 69,
   "metadata": {},
   "outputs": [
    {
     "name": "stdout",
     "output_type": "stream",
     "text": [
      "0    1.0\n",
      "1    2.0\n",
      "2    1.0\n",
      "3    2.0\n",
      "4    2.0\n",
      "5    3.0\n",
      "6    2.0\n",
      "Name: Census_PrimaryDiskTypeName, dtype: float64\n"
     ]
    }
   ],
   "source": [
    "print(dfC['Census_PrimaryDiskTypeName'].head(7))"
   ]
  },
  {
   "cell_type": "markdown",
   "metadata": {},
   "source": [
    "Census_SystemVolumeTotalCapacity"
   ]
  },
  {
   "cell_type": "code",
   "execution_count": 70,
   "metadata": {},
   "outputs": [
    {
     "name": "stdout",
     "output_type": "stream",
     "text": [
      "[ 123179. 1882352.   28678. ...   72462.  177061.   32942.]\n"
     ]
    }
   ],
   "source": [
    "print(dataframe['Census_SystemVolumeTotalCapacity'].unique())"
   ]
  },
  {
   "cell_type": "code",
   "execution_count": 71,
   "metadata": {},
   "outputs": [
    {
     "name": "stdout",
     "output_type": "stream",
     "text": [
      "0     123179.0\n",
      "1    1882352.0\n",
      "2      28678.0\n",
      "3     439345.0\n",
      "4     461506.0\n",
      "5     304261.0\n",
      "6     936631.0\n",
      "Name: Census_SystemVolumeTotalCapacity, dtype: float64\n"
     ]
    }
   ],
   "source": [
    "print(dfC['Census_SystemVolumeTotalCapacity'].head(7))"
   ]
  },
  {
   "cell_type": "markdown",
   "metadata": {},
   "source": [
    "Census_HasOpticalDiskDrive"
   ]
  },
  {
   "cell_type": "code",
   "execution_count": 72,
   "metadata": {},
   "outputs": [
    {
     "name": "stdout",
     "output_type": "stream",
     "text": [
      "[0 1]\n"
     ]
    }
   ],
   "source": [
    "print(dataframe['Census_HasOpticalDiskDrive'].unique())"
   ]
  },
  {
   "cell_type": "code",
   "execution_count": 73,
   "metadata": {},
   "outputs": [
    {
     "name": "stdout",
     "output_type": "stream",
     "text": [
      "0    0\n",
      "1    0\n",
      "2    0\n",
      "3    0\n",
      "4    1\n",
      "5    0\n",
      "6    0\n",
      "Name: Census_HasOpticalDiskDrive, dtype: int64\n"
     ]
    }
   ],
   "source": [
    "print(dfC['Census_HasOpticalDiskDrive'].head(7))"
   ]
  },
  {
   "cell_type": "markdown",
   "metadata": {},
   "source": [
    "Census_TotalPhysicalRAM"
   ]
  },
  {
   "cell_type": "code",
   "execution_count": 74,
   "metadata": {},
   "outputs": [
    {
     "name": "stdout",
     "output_type": "stream",
     "text": [
      "[ 8192.  4096.  2048. ...  5863.  4991. 15648.]\n"
     ]
    }
   ],
   "source": [
    "print(dataframe['Census_TotalPhysicalRAM'].unique())"
   ]
  },
  {
   "cell_type": "code",
   "execution_count": 75,
   "metadata": {},
   "outputs": [
    {
     "name": "stdout",
     "output_type": "stream",
     "text": [
      "0    8192.0\n",
      "1    8192.0\n",
      "2    4096.0\n",
      "3    4096.0\n",
      "4    2048.0\n",
      "5    2048.0\n",
      "6    4096.0\n",
      "Name: Census_TotalPhysicalRAM, dtype: float64\n"
     ]
    }
   ],
   "source": [
    "print(dfC['Census_TotalPhysicalRAM'].head(7))"
   ]
  },
  {
   "cell_type": "markdown",
   "metadata": {},
   "source": [
    "Census_ChassisTypeName"
   ]
  },
  {
   "cell_type": "code",
   "execution_count": 76,
   "metadata": {},
   "outputs": [
    {
     "name": "stdout",
     "output_type": "stream",
     "text": [
      "['Notebook' 'Desktop' 'SpaceSaving' 'UNKNOWN' 'Laptop' 'AllinOne'\n",
      " 'LowProfileDesktop' 'Other' 'MiniTower' 'HandHeld' 'Convertible' 'Tablet'\n",
      " 'Portable' 'Detachable' 'SubNotebook' 'MainServerChassis' 'LunchBox'\n",
      " 'Tower' 'RackMountChassis' 'BusExpansionChassis' 'Unknown' 'MiniPC' '30'\n",
      " 'StickPC' '0' nan 'PizzaBox' '88' 'MultisystemChassis' 'DockingStation'\n",
      " 'Blade' '35' '31' 'SealedCasePC' 'SubChassis' 'BladeEnclosure' '127' '36'\n",
      " '44' '83' 'ExpansionChassis' '32' '120' '64' '25' '93'\n",
      " 'PeripheralChassis' 'CompactPCI' '82']\n"
     ]
    }
   ],
   "source": [
    "print(dataframe['Census_ChassisTypeName'].unique())"
   ]
  },
  {
   "cell_type": "code",
   "execution_count": 77,
   "metadata": {},
   "outputs": [],
   "source": [
    "unique_valuesCensus_ChassisTypeName = dataframe['Census_ChassisTypeName'].unique()\n",
    "\n",
    "# Mappeo los valores unicos por numeros\n",
    "value_to_number = {value: index + 1 for index, value in enumerate(unique_valuesCensus_ChassisTypeName)}\n",
    "\n",
    "# Cambio los valores por los numeros \n",
    "dfC['Census_ChassisTypeName'] = dfC['Census_ChassisTypeName'].map(value_to_number)"
   ]
  },
  {
   "cell_type": "code",
   "execution_count": 78,
   "metadata": {},
   "outputs": [
    {
     "name": "stdout",
     "output_type": "stream",
     "text": [
      "0    1.0\n",
      "1    1.0\n",
      "2    1.0\n",
      "3    1.0\n",
      "4    1.0\n",
      "5    2.0\n",
      "6    1.0\n",
      "Name: Census_ChassisTypeName, dtype: float64\n"
     ]
    }
   ],
   "source": [
    "print(dfC['Census_ChassisTypeName'].head(7))"
   ]
  },
  {
   "cell_type": "markdown",
   "metadata": {},
   "source": [
    "Census_InternalPrimaryDiagonalDisplaySizeInInches"
   ]
  },
  {
   "cell_type": "code",
   "execution_count": 79,
   "metadata": {},
   "outputs": [
    {
     "name": "stdout",
     "output_type": "stream",
     "text": [
      "[ 15.5  13.9  14.   17.   23.2  28.8  18.5  21.5  13.3  23.   15.3  19.\n",
      "  21.7  17.5  64.5  72.3  17.3  23.8  19.5  19.8  20.1  11.6  40.2   8.\n",
      "  13.2  15.4  12.   10.4  12.9  10.1  34.1  17.2  31.5  24.1  27.2  23.5\n",
      "  23.4   8.3  12.5  20.   10.   32.   16.3  52.   15.6  24.2  18.4  15.\n",
      "  19.9  18.9  17.1  20.2  19.4  27.    nan   7.9  24.   12.3  10.8  31.6\n",
      "  15.7  23.1  14.1  13.5  57.8  12.1  22.   10.6  42.    9.9  12.7  19.3\n",
      "  22.1  26.9  13.6  10.3  11.4  17.7  37.   47.4  21.6  43.    9.8  16.6\n",
      "  40.   48.6  25.   19.1  20.7  12.2  27.3 125.5  14.5  33.1  54.6  24.5\n",
      "  48.9  26.8  27.9  12.8  20.4  10.2  13.1  47.   12.4  11.9  22.9  16.2\n",
      "  11.7  31.2  14.7  20.6  20.9  46.   16.1  14.8  15.9  11.5   8.8  13.7\n",
      "  29.4  15.2  65.   24.3  39.5  22.4  30.2  16.8  55.   16.   42.1  23.6\n",
      "  42.5  16.7  13.4  38.3  14.6  18.    8.9  24.7  22.6  18.1  45.9  30.\n",
      "  18.7  26.1  16.4   7.8  21.8  12.6  13.8  25.7  19.7   7.   18.6  27.7\n",
      "  28.9  35.9  20.8  23.9  40.1   6.9  34.8  21.4  16.9  27.5  26.7  14.9\n",
      "  22.5  34.    9.   78.7  33.9  22.3  11.8  18.2  25.5   9.7  73.2   7.2\n",
      "  17.8  14.4  50.   21.9  27.6  31.9  31.   60.1  72.2  19.2  35.4   8.7\n",
      "  23.7  50.1  47.7  19.6  28.6  64.7  11.1  46.1  60.   47.8  25.6  50.6\n",
      "  30.5  36.1  17.6  49.7  41.9   9.4  59.4  22.2  34.5   8.4  35.   30.6\n",
      "   5.5  15.8  27.4  26.   31.4  31.7  32.8  13.   80.7  34.3  61.2  34.9\n",
      "  15.1  32.1  48.   32.6  38.8   7.1  43.9  28.4  18.8  37.3  29.7  49.5\n",
      "  26.4  29.8  85.   21.1  27.8  22.7  84.6  58.2  14.3  41.3  39.8  63.7\n",
      "  43.2 142.   11.2  10.7  46.8  17.4  21.3   8.5  52.2  21.2  33.    9.5\n",
      "  29.5  22.8  11.3  24.9   8.2  56.3  11.   83.5  53.4  39.9  20.3  62.5\n",
      "  28.   21.   29.   54.9  54.3  30.4  72.   64.2   8.6  49.   38.5  18.3\n",
      "  49.4  36.   39.   59.1  48.1   3.  100.    8.1  27.1   9.6  54.8  35.3\n",
      "  48.3  51.8  47.6  39.3  58.6  39.1  17.9  41.6  66.9  46.9  50.3  38.1\n",
      "  74.6  44.3  50.4  65.8  47.2  95.3  37.6  24.4  49.6  34.2  10.5  51.4\n",
      "  89.1  44.9  28.3  28.5  49.2  69.6  30.1 122.1  61.3  26.6  48.5  44.2\n",
      "   6.7  25.2  39.7  45.7  45.   25.9  45.8  39.2  25.8  42.3  20.5  61.\n",
      "  33.8  16.5  25.1  30.3  14.2  48.4  30.9  38.9  52.1  55.7  41.8  69.5\n",
      "  44.8  10.9  29.1  99.1   9.1  58.   75.   74.9  43.4  57.7  38.4  49.8\n",
      "  84.4  26.5  51.9   9.2  43.3  37.5  29.6  63.   74.5  32.3  61.9  24.8\n",
      "  57.   55.2  42.2  49.9  46.6  42.8  43.5  41.4  47.1  34.7  46.2  69.3\n",
      "  76.5  63.3   6.   38.6  45.1  26.3  54.4  29.9  36.6  25.3  55.1  33.3\n",
      "  36.9  85.8  83.2 100.8  72.1  55.4  39.4  40.9  45.3  42.6  65.7  56.\n",
      "  43.8   9.3  83.6  28.2  84.1   7.7  81.8  50.2  37.7  36.2   7.6  31.1\n",
      "  54.7  59.2  41.   58.8   7.3  50.5   5.8  25.4  74.3  70.4   4.9  44.6\n",
      "  80.   79.9 113.3  64.1  24.6  45.2  32.9  30.7  47.9  53.5  68.4  37.2\n",
      "  51.2  70.6  65.4  28.1  68.9  36.4  75.6  54.2  26.2  23.3  51.5  42.9\n",
      "  36.5  35.6  50.8  49.1  89.9  40.4  99.9  57.5  35.1  56.7  56.4  45.5\n",
      "  29.3  30.8  39.6  36.7  84.   64.9  38.   86.7  29.2  45.4  71.   33.5\n",
      "  70.   42.7   4.3  44.4  52.4  95.1  62.   42.4  46.3  68.8  41.7  60.2\n",
      "  38.2  48.8   5.9  61.4  50.7  52.3  37.1   5.2  98.   71.6  46.7  34.6\n",
      "  55.6  62.7  57.6  32.5  99.   36.8  61.7  28.7  47.3  32.4  71.2   6.6\n",
      "  53.8  63.1  97.5  72.8   7.4  40.8  55.3  41.2  31.3  41.1  40.7  94.8\n",
      " 108.4  98.7  51.6  56.5  32.7  35.5   3.9  38.7  75.4  57.9  43.1  65.2\n",
      "  33.6  40.6 115.6  56.1  69.   54.1   3.2  63.9 102.6  31.8  95.2  33.2\n",
      "  58.1  83.1  33.4  92.7  73.   99.8  35.2  37.4  57.3  54.5  75.2  61.5\n",
      "  63.4  66.4  59.5  44.5  46.4   7.5  44.1  33.7  40.5  77.7  53.3  51.3\n",
      "  68.7  34.4  50.9   6.2  35.8  53.6  97.   37.9  59.6  52.6  63.5  96.5\n",
      "  45.6  92.1  44.  126.8  51.7  58.9  36.3   6.8  64.  110.4  66.5  37.8\n",
      "  71.1  97.2  44.7  41.5  52.9  51.   53.1  62.3  81.3 213.8  90.2  71.4\n",
      "  61.1 127.4  68.6  57.2  60.7  65.9  48.2  68.5  80.9  64.6  46.5  71.9\n",
      "  58.4  56.6  32.2  52.8  89.   43.6   6.1   5.   66.7  76.3  53.9 141.9\n",
      "  95.4  60.9  99.6 111.4  51.1 173.5  64.3  94.1   6.4 118.9  70.2  59.7\n",
      " 129.6  75.3  99.4  77.1  79.3  80.4 142.5 102.5  76.9  55.5  67.9  53.7\n",
      "  80.3  90.5 106.9  62.4  66.8  40.3  60.5  64.8  56.8  87.5  62.9  81.\n",
      "  73.4   4.1  43.7  49.3  74.2  88.   76.   62.6  87.6  52.5 109.8  59.9\n",
      "  56.9   5.3  74.4  69.4  67.8  69.7  47.5   6.3   4.7  79.4 103.1  79.\n",
      "  90.  115.1  94.9  61.8  52.7  81.5  91.8  85.6 116.7   6.5  59.8 101.1\n",
      "  70.1  70.9  66.2 144.5  92.   35.7  78.6  57.4  78.2 101.6  68.3 100.6\n",
      "  97.9  53.2  74.   91.4  83.9  93.5   2.1  80.6  72.5   4.8 111.5 128.1\n",
      " 105.7  96.7  84.3  60.6  59.   66.1  62.1  61.6  81.4  75.8  76.6  95.\n",
      "  84.5  70.8  55.9  86.8  60.8  62.8 101.2  98.9  68.2  56.2   5.4  76.1\n",
      "  70.5  58.7  78.  100.9 122.7   5.1  71.7 102.2  93.4  88.3  87.8   0.7\n",
      " 202.5  80.8  67.7  73.5  94.6  75.9  91.6   4.2  48.7  87.   65.5  67.\n",
      "  66.  114.2  63.6   3.5 112.5  58.5 109.3 102.9  71.5  82.5   2.   88.8]\n"
     ]
    }
   ],
   "source": [
    "print(dataframe['Census_InternalPrimaryDiagonalDisplaySizeInInches'].unique())"
   ]
  },
  {
   "cell_type": "code",
   "execution_count": 80,
   "metadata": {},
   "outputs": [],
   "source": [
    "unique_valuesCensus_InternalPrimaryDiagonalDisplaySizeInInches = dataframe['Census_InternalPrimaryDiagonalDisplaySizeInInches'].unique()\n",
    "\n",
    "# Mappeo los valores unicos por numeros\n",
    "value_to_number = {value: index + 1 for index, value in enumerate(unique_valuesCensus_InternalPrimaryDiagonalDisplaySizeInInches)}\n",
    "\n",
    "# Cambio los valores por los numeros \n",
    "dfC['Census_InternalPrimaryDiagonalDisplaySizeInInches'] = dfC['Census_InternalPrimaryDiagonalDisplaySizeInInches'].map(value_to_number)"
   ]
  },
  {
   "cell_type": "code",
   "execution_count": 81,
   "metadata": {},
   "outputs": [
    {
     "name": "stdout",
     "output_type": "stream",
     "text": [
      "0    1.0\n",
      "1    1.0\n",
      "2    2.0\n",
      "3    3.0\n",
      "4    1.0\n",
      "5    4.0\n",
      "6    1.0\n",
      "Name: Census_InternalPrimaryDiagonalDisplaySizeInInches, dtype: float64\n"
     ]
    }
   ],
   "source": [
    "print(dfC['Census_InternalPrimaryDiagonalDisplaySizeInInches'].head(7))"
   ]
  },
  {
   "cell_type": "markdown",
   "metadata": {},
   "source": [
    "Census_InternalPrimaryDisplayResolutionHorizontal"
   ]
  },
  {
   "cell_type": "code",
   "execution_count": 82,
   "metadata": {},
   "outputs": [
    {
     "name": "stdout",
     "output_type": "stream",
     "text": [
      "[1920. 1366. 1280. ...  761. 7560. 3870.]\n"
     ]
    }
   ],
   "source": [
    "print(dataframe['Census_InternalPrimaryDisplayResolutionHorizontal'].unique())"
   ]
  },
  {
   "cell_type": "code",
   "execution_count": 83,
   "metadata": {},
   "outputs": [
    {
     "name": "stdout",
     "output_type": "stream",
     "text": [
      "0    1920.0\n",
      "1    1366.0\n",
      "2    1280.0\n",
      "3    1366.0\n",
      "4    1366.0\n",
      "5    1440.0\n",
      "6    1920.0\n",
      "Name: Census_InternalPrimaryDisplayResolutionHorizontal, dtype: float64\n"
     ]
    }
   ],
   "source": [
    "print(dfC['Census_InternalPrimaryDisplayResolutionHorizontal'].head(7))"
   ]
  },
  {
   "cell_type": "markdown",
   "metadata": {},
   "source": [
    "Census_InternalPrimaryDisplayResolutionVertical"
   ]
  },
  {
   "cell_type": "code",
   "execution_count": 84,
   "metadata": {},
   "outputs": [
    {
     "name": "stdout",
     "output_type": "stream",
     "text": [
      "[1080.  768.  720. ... 1819. 2110. 2298.]\n"
     ]
    }
   ],
   "source": [
    "print(dataframe['Census_InternalPrimaryDisplayResolutionVertical'].unique())"
   ]
  },
  {
   "cell_type": "code",
   "execution_count": 85,
   "metadata": {},
   "outputs": [
    {
     "name": "stdout",
     "output_type": "stream",
     "text": [
      "0    1080.0\n",
      "1     768.0\n",
      "2     720.0\n",
      "3     768.0\n",
      "4     768.0\n",
      "5     900.0\n",
      "6    1080.0\n",
      "Name: Census_InternalPrimaryDisplayResolutionVertical, dtype: float64\n"
     ]
    }
   ],
   "source": [
    "print(dfC['Census_InternalPrimaryDisplayResolutionVertical'].head(7))"
   ]
  },
  {
   "cell_type": "markdown",
   "metadata": {},
   "source": [
    "Census_PowerPlatformRoleName"
   ]
  },
  {
   "cell_type": "code",
   "execution_count": 86,
   "metadata": {},
   "outputs": [
    {
     "name": "stdout",
     "output_type": "stream",
     "text": [
      "['Mobile' 'Desktop' 'UNKNOWN' 'Workstation' 'Slate' 'SOHOServer'\n",
      " 'AppliancePC' 'EnterpriseServer' 'PerformanceServer' nan 'Unspecified']\n"
     ]
    }
   ],
   "source": [
    "print(dataframe['Census_PowerPlatformRoleName'].unique())"
   ]
  },
  {
   "cell_type": "code",
   "execution_count": 87,
   "metadata": {},
   "outputs": [],
   "source": [
    "unique_valuesCensus_PowerPlatformRoleName = dataframe['Census_PowerPlatformRoleName'].unique()\n",
    "\n",
    "# Mappeo los valores unicos por numeros\n",
    "value_to_number = {value: index + 1 for index, value in enumerate(unique_valuesCensus_PowerPlatformRoleName)}\n",
    "\n",
    "# Cambio los valores por los numeros \n",
    "dfC['Census_PowerPlatformRoleName'] = dfC['Census_PowerPlatformRoleName'].map(value_to_number)"
   ]
  },
  {
   "cell_type": "code",
   "execution_count": 88,
   "metadata": {},
   "outputs": [
    {
     "name": "stdout",
     "output_type": "stream",
     "text": [
      "0    1.0\n",
      "1    1.0\n",
      "2    1.0\n",
      "3    1.0\n",
      "4    1.0\n",
      "5    2.0\n",
      "6    1.0\n",
      "Name: Census_PowerPlatformRoleName, dtype: float64\n"
     ]
    }
   ],
   "source": [
    "print(dfC['Census_PowerPlatformRoleName'].head(7))"
   ]
  },
  {
   "cell_type": "markdown",
   "metadata": {},
   "source": [
    "Census_OSVersion"
   ]
  },
  {
   "cell_type": "code",
   "execution_count": 89,
   "metadata": {},
   "outputs": [
    {
     "name": "stdout",
     "output_type": "stream",
     "text": [
      "['10.0.15063.1387' '10.0.16299.611' '10.0.14393.2189' '10.0.16299.371'\n",
      " '10.0.17134.286' '10.0.17134.345' '10.0.16299.125' '10.0.17763.134'\n",
      " '10.0.16299.192' '10.0.16299.431' '10.0.16299.785' '10.0.17134.407'\n",
      " '10.0.14393.351' '10.0.15063.1356' '10.0.10586.1045' '10.0.16299.19'\n",
      " '10.0.15063.1206' '10.0.15063.1029' '10.0.17134.285' '10.0.16299.666'\n",
      " '10.0.17134.319' '10.0.10240.17443' '10.0.16299.309' '10.0.17134.112'\n",
      " '10.0.17134.228' '10.0.18282.1000' '10.0.14393.447' '10.0.16299.547'\n",
      " '10.0.15063.1266' '10.0.14393.2363' '10.0.17134.1' '10.0.17763.55'\n",
      " '10.0.16299.665' '10.0.15063.966' '10.0.15063.1088' '10.0.14393.2214'\n",
      " '10.0.15063.674' '10.0.16299.726' '10.0.17134.320' '10.0.16299.98'\n",
      " '10.0.14393.576' '10.0.10586.1176' '10.0.15063.1155' '10.0.15063.786'\n",
      " '10.0.16299.248' '10.0.17134.165' '10.0.16299.334' '10.0.10586.318'\n",
      " '10.0.10586.29' '10.0.17134.81' '10.0.14393.1198' '10.0.17134.376'\n",
      " '10.0.14393.1066' '10.0.14393.1358' '10.0.14393.2608' '10.0.14393.1944'\n",
      " '10.0.15063.1324' '10.0.14393.1593' '10.0.17134.48' '10.0.16299.461'\n",
      " '10.0.10586.679' '10.0.15063.0' '10.0.10586.873' '10.0.10586.545'\n",
      " '10.0.16299.15' '10.0.15063.909' '10.0.16299.699' '10.0.14393.0'\n",
      " '10.0.15063.332' '10.0.16299.251' '10.0.14393.1770' '10.0.18277.1006'\n",
      " '10.0.10586.122' '10.0.10586.420' '10.0.16299.492' '10.0.10586.916'\n",
      " '10.0.10586.0' '10.0.17134.137' '10.0.10240.18036' '10.0.17763.1'\n",
      " '10.0.15063.850' '10.0.18272.1000' '10.0.15063.726' '10.0.10586.218'\n",
      " '10.0.14393.953' '10.0.15063.483' '10.0.17763.104' '10.0.17763.107'\n",
      " '10.0.10586.494' '10.0.14393.479' '10.0.10586.164' '10.0.16299.755'\n",
      " '10.0.10586.14' '10.0.17758.1' '10.0.10586.63' '10.0.10586.713'\n",
      " '10.0.18262.1000' '10.0.14393.2007' '10.0.14393.693' '10.0.14393.105'\n",
      " '10.0.17134.191' '10.0.16299.64' '10.0.15063.608' '10.0.16299.402'\n",
      " '10.0.14393.1480' '10.0.17134.167' '10.0.10586.104' '10.0.14393.1914'\n",
      " '10.0.15063.540' '10.0.15063.502' '10.0.17134.254' '10.0.14393.2515'\n",
      " '10.0.10586.633' '10.0.18252.1000' '10.0.10586.962' '10.0.10240.16430'\n",
      " '10.0.10586.1106' '10.0.15063.675' '10.0.10586.71' '10.0.10240.16384'\n",
      " '10.0.14393.2485' '10.0.10586.753' '10.0.10240.16405' '10.0.15063.1235'\n",
      " '10.0.15063.1418' '10.0.10586.36' '10.0.15063.632' '10.0.10240.17354'\n",
      " '10.0.14393.2580' '10.0.15063.250' '10.0.15063.296' '10.0.14393.1884'\n",
      " '10.0.10240.17976' '10.0.16299.194' '10.0.10240.16520' '10.0.15063.413'\n",
      " '10.0.15063.1112' '10.0.14393.726' '10.0.14393.5' '10.0.16299.214'\n",
      " '10.0.14393.82' '10.0.16299.696' '10.0.14393.187' '10.0.14393.223'\n",
      " '10.0.16299.551' '10.0.14393.2125' '10.0.10240.16771' '10.0.14393.10'\n",
      " '10.0.14393.1715' '10.0.15063.447' '10.0.17758.4' '10.0.10240.17394'\n",
      " '10.0.10586.839' '10.0.14393.2068' '10.0.15063.1292' '10.0.14393.2248'\n",
      " '10.0.16299.579' '10.0.10240.17146' '10.0.10586.589' '10.0.14393.2551'\n",
      " '10.0.10240.18005' '10.0.17134.5' '10.0.10240.16463' '10.0.17692.1004'\n",
      " '10.0.10586.1007' '10.0.10240.17024' '10.0.10586.3' '10.0.10240.17861'\n",
      " '10.0.14393.321' '10.0.15063.1182' '10.0.15063.14' '10.0.10240.16487'\n",
      " '10.0.14393.2457' '10.0.10586.446' '10.0.16299.522' '10.0.15063.138'\n",
      " '10.0.14393.2312' '10.0.17763.165' '10.0.10240.17319' '10.0.10586.17'\n",
      " '10.0.14393.3' '10.0.15063.729' '10.0.17672.1000' '10.0.10240.17113'\n",
      " '10.0.15063.1209' '10.0.17744.1001' '10.0.16299.637' '10.0.14393.222'\n",
      " '10.0.15063.11' '10.0.14393.970' '10.0.14393.969' '10.0.10586.338'\n",
      " '10.0.15063.13' '10.0.14393.51' '10.0.14393.2430' '10.0.15063.448'\n",
      " '10.0.17733.1000' '10.0.17760.1' '10.0.10240.16397' '10.0.17639.1000'\n",
      " '10.0.14393.2396' '10.0.10240.17190' '10.0.14393.67' '10.0.10240.16445'\n",
      " '10.0.14393.2273' '10.0.17634.1000' '10.0.10240.16590' '10.0.15063.877'\n",
      " '10.0.17751.1' '10.0.10240.16413' '10.0.10240.16549' '10.0.14393.2155'\n",
      " '10.0.15063.994' '10.0.18247.1001' '10.0.10240.17071' '10.0.17763.17'\n",
      " '10.0.10240.16433' '10.0.10240.16601' '10.0.17754.1' '10.0.14393.1378'\n",
      " '10.0.10240.17236' '10.0.10240.17946' '10.0.10586.1540' '10.0.15063.936'\n",
      " '10.0.14393.2395' '10.0.10240.17889' '10.0.17627.1000' '10.0.15063.1058'\n",
      " '10.0.10240.17202' '10.0.10586.112' '10.0.10240.16725' '10.0.10586.79'\n",
      " '10.0.15063.242' '10.0.17746.1000' '10.0.17744.1003' '10.0.14393.577'\n",
      " '10.0.18267.1001' '10.0.10240.16644' '10.0.16299.491' '10.0.14393.2339'\n",
      " '10.0.17677.1000' '10.0.10240.16683' '10.0.10240.16942' '10.0.10586.499'\n",
      " '10.0.15063.330' '10.0.10240.17673' '10.0.18242.1000' '10.0.18277.1000'\n",
      " '10.0.10586.11' '10.0.10240.17831' '10.0.14393.2035' '10.0.14393.103'\n",
      " '10.0.17133.1' '10.0.17738.1000' '10.0.10240.17738' '10.0.14393.1532'\n",
      " '10.0.18234.1000' '10.0.10240.17797' '10.0.17741.1000' '6.3.9600.19182'\n",
      " '10.0.14393.2368' '10.0.17666.1000' '10.0.10586.105' '10.0.17134.83'\n",
      " '10.0.17604.1000' '10.0.18259.1000' '10.0.14393.1537' '10.0.14393.2156'\n",
      " '10.0.10240.16854' '10.0.18237.1000' '10.0.16299.201' '10.0.10240.16566'\n",
      " '10.0.14393.2097' '10.0.17713.1002' '10.0.14246.1' '10.0.15063.1154'\n",
      " '10.0.17744.1004' '10.0.14393.594' '10.0.18285.1000' '10.0.17682.1000'\n",
      " '10.0.17686.1003' '10.0.17661.1001' '10.0.10240.17709' '10.0.14393.1794'\n",
      " '10.0.17692.1000' '10.0.15007.1000' '10.0.10586.456' '10.0.10240.17770'\n",
      " '10.0.15063.1446' '10.0.9600.318' '10.0.17755.1' '10.0.10240.17918'\n",
      " '10.0.10240.16387' '10.0.10240.17914' '10.0.14393.1613' '10.0.17735.1000'\n",
      " '10.0.15048.0' '10.0.18280.1000' '10.0.17650.1001' '10.0.10240.16500'\n",
      " '10.0.10240.16393' '10.0.10240.16394' '10.0.14393.1230' '10.0.17759.1'\n",
      " '10.0.17074.1000' '10.0.14385.0' '10.0.17643.1000' '10.0.10240.17533'\n",
      " '10.0.14390.0' '10.0.16353.1000' '10.0.10240.17609' '10.0.10240.16389'\n",
      " '10.0.18265.1000' '10.0.10240.16732' '10.0.17756.1' '10.0.17711.1000'\n",
      " '10.0.17655.1000' '10.0.10586.596' '10.0.18255.1000' '10.0.14955.1000'\n",
      " '10.0.14352.1002' '10.0.17127.1' '10.0.14393.1670' '6.1.7601.24263'\n",
      " '10.0.10240.17488' '10.0.14393.729' '10.0.14986.1001' '10.0.17133.73'\n",
      " '10.0.14295.1005' '10.0.10240.17446' '10.0.15014.1000' '6.1.7601.23934'\n",
      " '10.0.10240.16425' '10.0.14383.0' '10.0.14393.1797' '10.0.10240.16724'\n",
      " '10.0.17025.1000' '10.0.16176.1000' '10.0.17742.1000' '10.0.14936.1000'\n",
      " '6.1.7601.24241' '10.0.16299.0' '10.0.17101.1000' '10.0.16215.1000'\n",
      " '10.0.14926.1000' '10.0.10586.1177' '10.0.14282.345' '10.0.10565.41736'\n",
      " '10.0.14965.1001' '10.0.17728.1000' '10.0.14216.248' '10.0.17134.111'\n",
      " '10.0.11102.1000' '10.0.17730.1001' '10.0.16232.1000' '10.0.17713.1000'\n",
      " '10.0.10586.639' '10.0.14971.1000' '10.0.14436.286' '10.0.10240.16399'\n",
      " '10.0.17074.1002' '10.0.18279.1000' '10.0.18253.1000' '10.0.10240.17643'\n",
      " '10.0.14295.1000' '10.0.14367.0' '10.0.17134.373' '10.0.14422.112'\n",
      " '10.0.16179.1000' '10.0.14393.1737' '10.0.14251.1000' '10.0.10586.601'\n",
      " '6.3.9600.19134' '6.3.9600.19155' '10.0.17763.53' '10.0.18286.1000'\n",
      " '10.0.14915.1000' '10.0.10586.550' '10.0.17017.1000' '10.0.18287.1001'\n",
      " '10.0.17730.1000' '10.0.14931.1002' '10.0.17040.1000' '10.0.10586.842'\n",
      " '10.0.18260.1000' '10.0.14316.1000' '10.0.18247.1000' '10.0.14257.1000'\n",
      " '6.1.7601.23539' '10.0.17128.1' '10.0.14320.1' '10.0.18249.1000'\n",
      " '10.0.17618.1000' '10.0.14986.1000' '10.0.14218.376' '10.0.16294.1'\n",
      " '10.0.16278.1000' '10.0.16296.0' '10.0.14421.345' '10.0.14279.1000'\n",
      " '10.0.14332.1001' '10.0.18248.1000' '10.0.10576.0' '10.0.18289.1000'\n",
      " '10.0.16299.811' '10.0.14294.286' '10.0.17035.1000' '10.0.15063.1443'\n",
      " '10.0.15025.1000' '10.0.16299.428' '10.0.14376.0' '10.0.10586.240'\n",
      " '10.0.14905.1000' '10.0.14342.1002' '10.0.15058.0' '6.1.7601.23418'\n",
      " '10.0.14379.0' '10.0.18256.1000' '10.0.14942.1000' '10.0.16299.188'\n",
      " '10.0.15060.0' '10.0.16251.0' '10.0.10586.1' '10.0.17754.1000'\n",
      " '10.0.14337.345' '10.0.14393.206' '10.0.14229.285' '10.0.15019.1000'\n",
      " '10.0.18266.1000' '10.0.14372.0' '10.0.16275.1000' '10.0.15042.0'\n",
      " '10.0.14931.1000' '10.0.11082.1000' '10.0.16241.1001' '6.3.9600.18202'\n",
      " '10.0.7601.545' '10.0.15063.2' '10.0.14366.0' '10.0.18270.1000'\n",
      " '10.0.18269.1000' '10.0.17093.1000' '10.0.17120.1' '10.0.15031.0'\n",
      " '10.0.14367.112' '10.0.18264.1000' '10.0.14232.112' '10.0.17107.1000'\n",
      " '10.0.17115.1' '10.0.16251.1000' '10.0.9600.1198' '10.0.10586.461'\n",
      " '10.0.17653.1000' '10.0.17110.1000' '10.0.7601.674' '10.0.9600.693'\n",
      " '10.0.15002.1001' '6.1.7601.18869' '10.0.16299.784' '6.1.7601.24289'\n",
      " '10.0.16299.725' '6.1.7601.18933' '10.0.14946.1000' '10.0.14301.1'\n",
      " '10.0.14355.191' '10.0.16288.1' '10.0.15063.192' '10.0.14279.0'\n",
      " '10.0.14328.1000' '10.0.16184.1001' '6.3.9600.19069' '10.0.14342.1001'\n",
      " '10.0.18279.1001' '10.0.18204.1001' '10.0.18219.1000']\n"
     ]
    }
   ],
   "source": [
    "print(dataframe['Census_OSVersion'].unique())"
   ]
  },
  {
   "cell_type": "code",
   "execution_count": 90,
   "metadata": {},
   "outputs": [],
   "source": [
    "unique_valuesCensus_OSVersion = dataframe['Census_OSVersion'].unique()\n",
    "\n",
    "# Mappeo los valores unicos por numeros\n",
    "value_to_number = {value: index + 1 for index, value in enumerate(unique_valuesCensus_OSVersion)}\n",
    "\n",
    "# Cambio los valores por los numeros \n",
    "dfC['Census_OSVersion'] = dfC['Census_OSVersion'].map(value_to_number)"
   ]
  },
  {
   "cell_type": "code",
   "execution_count": 91,
   "metadata": {},
   "outputs": [
    {
     "name": "stdout",
     "output_type": "stream",
     "text": [
      "0    1\n",
      "1    2\n",
      "2    3\n",
      "3    4\n",
      "4    4\n",
      "5    5\n",
      "6    6\n",
      "Name: Census_OSVersion, dtype: int64\n"
     ]
    }
   ],
   "source": [
    "print(dfC['Census_OSVersion'].head(7))"
   ]
  },
  {
   "cell_type": "markdown",
   "metadata": {},
   "source": [
    "Census_OSArchitecture"
   ]
  },
  {
   "cell_type": "code",
   "execution_count": 92,
   "metadata": {},
   "outputs": [
    {
     "name": "stdout",
     "output_type": "stream",
     "text": [
      "['amd64' 'x86' 'arm64']\n"
     ]
    }
   ],
   "source": [
    "print(dataframe['Census_OSArchitecture'].unique())"
   ]
  },
  {
   "cell_type": "code",
   "execution_count": 93,
   "metadata": {},
   "outputs": [],
   "source": [
    "unique_valuesCensus_OSArchitecture = dataframe['Census_OSArchitecture'].unique()\n",
    "\n",
    "# Mappeo los valores unicos por numeros\n",
    "value_to_number = {value: index + 1 for index, value in enumerate(unique_valuesCensus_OSArchitecture)}\n",
    "\n",
    "# Cambio los valores por los numeros \n",
    "dfC['Census_OSArchitecture'] = dfC['Census_OSArchitecture'].map(value_to_number)"
   ]
  },
  {
   "cell_type": "code",
   "execution_count": 94,
   "metadata": {},
   "outputs": [
    {
     "name": "stdout",
     "output_type": "stream",
     "text": [
      "0    1\n",
      "1    1\n",
      "2    1\n",
      "3    1\n",
      "4    1\n",
      "5    1\n",
      "6    1\n",
      "Name: Census_OSArchitecture, dtype: int64\n"
     ]
    }
   ],
   "source": [
    "print(dfC['Census_OSArchitecture'].head(7))"
   ]
  },
  {
   "cell_type": "markdown",
   "metadata": {},
   "source": [
    "Census_OSBranch"
   ]
  },
  {
   "cell_type": "code",
   "execution_count": 95,
   "metadata": {},
   "outputs": [
    {
     "name": "stdout",
     "output_type": "stream",
     "text": [
      "['rs2_release' 'rs3_release_svc_escrow' 'rs1_release' 'rs3_release'\n",
      " 'rs4_release' 'rs5_release' 'th2_release_sec' 'th1' 'rs_prerelease'\n",
      " 'th1_st1' 'th2_release' 'rs3_release_svc_escrow_im' 'rs_prerelease_flt'\n",
      " 'winblue_ltsb_escrow' 'win7sp1_ldr' 'rs_onecore_sigma_dplat_d7'\n",
      " 'rs5_release_sigma' 'rs5_release_sigma_dev' 'rs_onecore_sigma_grfx_dev'\n",
      " 'winblue_ltsb' 'rs1_release_srvmedia' 'rs_onecore_dep'\n",
      " 'rs1_release_inmarket' 'rsmaster' 'rs_shell' 'rs2_release_svc_d'\n",
      " 'win7sp1_gdr' 'win7sp1_ldr_escrow' 'rs_edge']\n"
     ]
    }
   ],
   "source": [
    "print(dataframe['Census_OSBranch'].unique())"
   ]
  },
  {
   "cell_type": "code",
   "execution_count": 96,
   "metadata": {},
   "outputs": [],
   "source": [
    "unique_valuesCensus_OSBranch = dataframe['Census_OSBranch'].unique()\n",
    "\n",
    "# Mappeo los valores unicos por numeros\n",
    "value_to_number = {value: index + 1 for index, value in enumerate(unique_valuesCensus_OSBranch)}\n",
    "\n",
    "# Cambio los valores por los numeros \n",
    "dfC['Census_OSBranch'] = dfC['Census_OSBranch'].map(value_to_number)"
   ]
  },
  {
   "cell_type": "code",
   "execution_count": 97,
   "metadata": {},
   "outputs": [
    {
     "name": "stdout",
     "output_type": "stream",
     "text": [
      "0    1\n",
      "1    2\n",
      "2    3\n",
      "3    4\n",
      "4    4\n",
      "5    5\n",
      "6    5\n",
      "Name: Census_OSBranch, dtype: int64\n"
     ]
    }
   ],
   "source": [
    "print(dfC['Census_OSBranch'].head(7))"
   ]
  },
  {
   "cell_type": "markdown",
   "metadata": {},
   "source": [
    "Census_OSBuildNumber"
   ]
  },
  {
   "cell_type": "code",
   "execution_count": 98,
   "metadata": {},
   "outputs": [
    {
     "name": "stdout",
     "output_type": "stream",
     "text": [
      "[15063 16299 14393 17134 17763 10586 10240 18282 18277 18272 17758 18262\n",
      " 18252 17692 17672 17744 17733 17760 17639 17634 17751 18247 17754 17627\n",
      " 17746 18267 17677 18242 17133 17738 18234 17741  9600 17666 17604 18259\n",
      " 18237 17713 14246 18285 17682 17686 17661 15007 17755 17735 15048 18280\n",
      " 17650 17759 17074 14385 17643 14390 16353 18265 17756 17711 17655 18255\n",
      " 14955 14352 17127  7601 14986 14295 15014 14383 17025 16176 17742 14936\n",
      " 17101 16215 14926 14282 10565 14965 17728 14216 11102 17730 16232 14971\n",
      " 14436 18279 18253 14367 14422 16179 14251 18286 14915 17017 18287 14931\n",
      " 17040 18260 14316 14257 17128 14320 18249 17618 14218 16294 16278 16296\n",
      " 14421 14279 14332 18248 10576 18289 14294 17035 15025 14376 14905 14342\n",
      " 15058 14379 18256 14942 15060 16251 14337 14229 15019 18266 14372 16275\n",
      " 15042 11082 16241 14366 18270 18269 17093 17120 15031 18264 14232 17107\n",
      " 17115 17653 17110 15002 14946 14301 14355 16288 14328 16184 18204 18219]\n"
     ]
    }
   ],
   "source": [
    "print(dataframe['Census_OSBuildNumber'].unique())"
   ]
  },
  {
   "cell_type": "code",
   "execution_count": 99,
   "metadata": {},
   "outputs": [
    {
     "name": "stdout",
     "output_type": "stream",
     "text": [
      "0    15063\n",
      "1    16299\n",
      "2    14393\n",
      "3    16299\n",
      "4    16299\n",
      "5    17134\n",
      "6    17134\n",
      "Name: Census_OSBuildNumber, dtype: int64\n"
     ]
    }
   ],
   "source": [
    "print(dfC['Census_OSBuildNumber'].head(7))"
   ]
  },
  {
   "cell_type": "markdown",
   "metadata": {},
   "source": [
    "Census_OSBuildNumber"
   ]
  },
  {
   "cell_type": "markdown",
   "metadata": {},
   "source": [
    "Census_OSBuildRevision"
   ]
  },
  {
   "cell_type": "code",
   "execution_count": 100,
   "metadata": {},
   "outputs": [
    {
     "name": "stdout",
     "output_type": "stream",
     "text": [
      "[ 1387   611  2189   371   286   345   125   134   192   431   785   407\n",
      "   351  1356  1045    19  1206  1029   285   666   319 17443   309   112\n",
      "   228  1000   447   547  1266  2363     1    55   665   966  1088  2214\n",
      "   674   726   320    98   576  1176  1155   786   248   165   334   318\n",
      "    29    81  1198   376  1066  1358  2608  1944  1324  1593    48   461\n",
      "   679     0   873   545    15   909   699   332   251  1770  1006   122\n",
      "   420   492   916   137 18036   850   218   953   483   104   107   494\n",
      "   479   164   755    14    63   713  2007   693   105   191    64   608\n",
      "   402  1480   167  1914   540   502   254  2515   633   962 16430  1106\n",
      "   675    71 16384  2485   753 16405  1235  1418    36   632 17354  2580\n",
      "   250   296  1884 17976   194 16520   413  1112     5   214    82   696\n",
      "   187   223   551  2125 16771    10  1715     4 17394   839  2068  1292\n",
      "  2248   579 17146   589  2551 18005 16463  1004  1007 17024     3 17861\n",
      "   321  1182 16487  2457   446   522   138  2312 17319    17   729 17113\n",
      "  1209  1001   637   222    11   970   969   338    13    51  2430   448\n",
      " 16397  2396 17190    67 16445  2273 16590   877 16413 16549  2155   994\n",
      " 17071 16433 16601  1378 17236 17946  1540   936  2395 17889  1058 17202\n",
      " 16725    79   242  1003   577 16644   491  2339 16683 16942   499   330\n",
      " 17673 17831  2035   103 17738  1532 17797 19182  2368    83  1537  2156\n",
      " 16854   201 16566  2097  1002  1154   594 17709  1794   456 17770  1446\n",
      " 17918 16387 17914  1613 16500 16393 16394  1230 17533 17609 16389 16732\n",
      "   596  1670 24263 17488    73  1005 17446 23934 16425  1797 16724 24241\n",
      "  1177 41736   111   639 16399 17643   373  1737   601 19134 19155    53\n",
      "   550   842 23539   811  1443   428   240 23418   188   206 18202     2\n",
      " 18869   784 24289   725 18933 19069]\n"
     ]
    }
   ],
   "source": [
    "print(dataframe['Census_OSBuildRevision'].unique())"
   ]
  },
  {
   "cell_type": "code",
   "execution_count": 101,
   "metadata": {},
   "outputs": [
    {
     "name": "stdout",
     "output_type": "stream",
     "text": [
      "0    1387\n",
      "1     611\n",
      "2    2189\n",
      "3     371\n",
      "4     371\n",
      "5     286\n",
      "6     345\n",
      "Name: Census_OSBuildRevision, dtype: int64\n"
     ]
    }
   ],
   "source": [
    "print(dfC['Census_OSBuildRevision'].head(7))"
   ]
  },
  {
   "cell_type": "markdown",
   "metadata": {},
   "source": [
    "Census_OSEdition"
   ]
  },
  {
   "cell_type": "code",
   "execution_count": 102,
   "metadata": {},
   "outputs": [
    {
     "name": "stdout",
     "output_type": "stream",
     "text": [
      "['Core' 'CoreSingleLanguage' 'Professional' 'CoreCountrySpecific'\n",
      " 'ProfessionalEducation' 'Education' 'Enterprise' 'ServerStandard'\n",
      " 'ProfessionalN' 'EnterpriseS' 'EducationN' 'CoreN' 'Cloud'\n",
      " 'ServerStandardEval' 'ServerDatacenterEval' 'ProfessionalWorkstation'\n",
      " 'ServerSolution' 'EnterpriseSN' 'ProfessionalEducationN' 'EnterpriseN'\n",
      " 'EnterpriseG' 'ProfessionalWorkstationN' 'ServerRdsh' 'ServerDatacenter'\n",
      " 'HomeBasic' 'Ultimate' 'PRO' '00426-OEM-8992662-00006' nan 'Pro'\n",
      " 'ProfessionalSingleLanguage' 'ProfessionalCountrySpecific' 'CloudN'\n",
      " 'Home' 'Window 10 Enterprise' 'HomePremium' '#']\n"
     ]
    }
   ],
   "source": [
    "print(dataframe['Census_OSEdition'].unique())"
   ]
  },
  {
   "cell_type": "code",
   "execution_count": 103,
   "metadata": {},
   "outputs": [],
   "source": [
    "unique_valuesCensus_OSEdition = dataframe['Census_OSEdition'].unique()\n",
    "\n",
    "# Mappeo los valores unicos por numeros\n",
    "value_to_number = {value: index + 1 for index, value in enumerate(unique_valuesCensus_OSEdition)}\n",
    "\n",
    "# Cambio los valores por los numeros \n",
    "dfC['Census_OSEdition'] = dfC['Census_OSEdition'].map(value_to_number)"
   ]
  },
  {
   "cell_type": "code",
   "execution_count": 104,
   "metadata": {},
   "outputs": [
    {
     "name": "stdout",
     "output_type": "stream",
     "text": [
      "0    1.0\n",
      "1    1.0\n",
      "2    2.0\n",
      "3    2.0\n",
      "4    2.0\n",
      "5    3.0\n",
      "6    2.0\n",
      "Name: Census_OSEdition, dtype: float64\n"
     ]
    }
   ],
   "source": [
    "print(dfC['Census_OSEdition'].head(7))"
   ]
  },
  {
   "cell_type": "markdown",
   "metadata": {},
   "source": [
    "Census_OSSkuName"
   ]
  },
  {
   "cell_type": "code",
   "execution_count": 105,
   "metadata": {},
   "outputs": [
    {
     "name": "stdout",
     "output_type": "stream",
     "text": [
      "['CORE' 'CORE_SINGLELANGUAGE' 'PROFESSIONAL' 'CORE_COUNTRYSPECIFIC'\n",
      " 'EDUCATION' 'ENTERPRISE' 'STANDARD_SERVER' 'PROFESSIONAL_N'\n",
      " 'ENTERPRISE_S' 'EDUCATION_N' 'CORE_N' 'CLOUD'\n",
      " 'STANDARD_EVALUATION_SERVER' 'DATACENTER_EVALUATION_SERVER'\n",
      " 'PRO_WORKSTATION' 'SB_SOLUTION_SERVER' 'ENTERPRISE_S_N' 'ENTERPRISE_N'\n",
      " 'ENTERPRISEG' 'PRO_FOR_EDUCATION' 'PRO_WORKSTATION_N' 'SERVERRDSH'\n",
      " 'DATACENTER_SERVER' 'HOME_BASIC' 'ULTIMATE' 'UNLICENSED'\n",
      " 'PRO_SINGLE_LANGUAGE' 'PRO_CHINA' 'CLOUDN' 'HOME_PREMIUM' 'UNDEFINED']\n"
     ]
    }
   ],
   "source": [
    "print(dataframe['Census_OSSkuName'].unique())"
   ]
  },
  {
   "cell_type": "code",
   "execution_count": 106,
   "metadata": {},
   "outputs": [],
   "source": [
    "unique_valuesCensus_OSSkuName = dataframe['Census_OSSkuName'].unique()\n",
    "\n",
    "# Mappeo los valores unicos por numeros\n",
    "value_to_number = {value: index + 1 for index, value in enumerate(unique_valuesCensus_OSSkuName)}\n",
    "\n",
    "# Cambio los valores por los numeros \n",
    "dfC['Census_OSSkuName'] = dfC['Census_OSSkuName'].map(value_to_number)"
   ]
  },
  {
   "cell_type": "code",
   "execution_count": 107,
   "metadata": {},
   "outputs": [
    {
     "name": "stdout",
     "output_type": "stream",
     "text": [
      "0    1\n",
      "1    1\n",
      "2    2\n",
      "3    2\n",
      "4    2\n",
      "5    3\n",
      "6    2\n",
      "Name: Census_OSSkuName, dtype: int64\n"
     ]
    }
   ],
   "source": [
    "print(dfC['Census_OSSkuName'].head(7))"
   ]
  },
  {
   "cell_type": "markdown",
   "metadata": {},
   "source": [
    "Census_OSInstallTypeName"
   ]
  },
  {
   "cell_type": "code",
   "execution_count": 108,
   "metadata": {},
   "outputs": [
    {
     "name": "stdout",
     "output_type": "stream",
     "text": [
      "['Reset' 'UUPUpgrade' 'Other' 'Upgrade' 'Update' 'Refresh' 'IBSClean'\n",
      " 'CleanPCRefresh' 'Clean']\n"
     ]
    }
   ],
   "source": [
    "print(dataframe['Census_OSInstallTypeName'].unique())"
   ]
  },
  {
   "cell_type": "code",
   "execution_count": 109,
   "metadata": {},
   "outputs": [],
   "source": [
    "unique_valuesCensus_OSInstallTypeName = dataframe['Census_OSInstallTypeName'].unique()\n",
    "\n",
    "# Mappeo los valores unicos por numeros\n",
    "value_to_number = {value: index + 1 for index, value in enumerate(unique_valuesCensus_OSInstallTypeName)}\n",
    "\n",
    "# Cambio los valores por los numeros \n",
    "dfC['Census_OSInstallTypeName'] = dfC['Census_OSInstallTypeName'].map(value_to_number)"
   ]
  },
  {
   "cell_type": "code",
   "execution_count": 110,
   "metadata": {},
   "outputs": [
    {
     "name": "stdout",
     "output_type": "stream",
     "text": [
      "0    1\n",
      "1    2\n",
      "2    3\n",
      "3    4\n",
      "4    5\n",
      "5    4\n",
      "6    6\n",
      "Name: Census_OSInstallTypeName, dtype: int64\n"
     ]
    }
   ],
   "source": [
    "print(dfC['Census_OSInstallTypeName'].head(7))"
   ]
  },
  {
   "cell_type": "markdown",
   "metadata": {},
   "source": [
    "Census_OSInstallLanguageIdentifier"
   ]
  },
  {
   "cell_type": "code",
   "execution_count": 111,
   "metadata": {},
   "outputs": [
    {
     "name": "stdout",
     "output_type": "stream",
     "text": [
      "[37.  7. 35. 26. 29. 19.  8. 33. 27. 39.  6. 14. 31.  5. 10.  9. 24. 30.\n",
      " 17. 20.  3. 12. 25. 18. 13.  2. 23.  1. 15. 28. 36. 32. nan 34.  4. 16.\n",
      " 22. 21. 38. 11.]\n"
     ]
    }
   ],
   "source": [
    "print(dataframe['Census_OSInstallLanguageIdentifier'].unique())"
   ]
  },
  {
   "cell_type": "code",
   "execution_count": 112,
   "metadata": {},
   "outputs": [
    {
     "name": "stdout",
     "output_type": "stream",
     "text": [
      "0    37.0\n",
      "1     7.0\n",
      "2    35.0\n",
      "3    26.0\n",
      "4    29.0\n",
      "5    26.0\n",
      "6    26.0\n",
      "Name: Census_OSInstallLanguageIdentifier, dtype: float64\n"
     ]
    }
   ],
   "source": [
    "print(dfC['Census_OSInstallLanguageIdentifier'].head(7))"
   ]
  },
  {
   "cell_type": "markdown",
   "metadata": {},
   "source": [
    "Census_OSUILocaleIdentifier"
   ]
  },
  {
   "cell_type": "code",
   "execution_count": 113,
   "metadata": {},
   "outputs": [
    {
     "name": "stdout",
     "output_type": "stream",
     "text": [
      "[158  30 148 119 125  74  31 140 120 160  28  49 130  26  35  34 109 128\n",
      "  64  83  20  44 115  72  48  11 105   5  58  68 123 151 136 145  24  90\n",
      "  62  92 159 156 126  17  38   9  15  37  70  12  27  76 161  63  54   6\n",
      "  51 132  40  78  33 149 157  73  19 124  42  59  32 152 116  91  80  84\n",
      "  93 122  50  36  69 139 121  65 129 131 162 104 146  21 110  39  43  29\n",
      " 102 153  71   8  60  41  45  85 134  95   7  81 135  75 141  98  77 133\n",
      "  25 143  61 138   3 101 111  16 106  66  97 127  96  55  57 144  67 150\n",
      "  46  18  14   1 117  79  89 114  56 142  86  13 155]\n"
     ]
    }
   ],
   "source": [
    "print(dataframe['Census_OSUILocaleIdentifier'].unique())"
   ]
  },
  {
   "cell_type": "code",
   "execution_count": 114,
   "metadata": {},
   "outputs": [
    {
     "name": "stdout",
     "output_type": "stream",
     "text": [
      "0    158\n",
      "1     30\n",
      "2    148\n",
      "3    119\n",
      "4    125\n",
      "5    119\n",
      "6    119\n",
      "Name: Census_OSUILocaleIdentifier, dtype: int64\n"
     ]
    }
   ],
   "source": [
    "print(dfC['Census_OSUILocaleIdentifier'].head(7))"
   ]
  },
  {
   "cell_type": "markdown",
   "metadata": {},
   "source": [
    "Census_OSWUAutoUpdateOptionsName"
   ]
  },
  {
   "cell_type": "code",
   "execution_count": 115,
   "metadata": {},
   "outputs": [
    {
     "name": "stdout",
     "output_type": "stream",
     "text": [
      "['AutoInstallAndRebootAtMaintenanceTime' 'UNKNOWN' 'Notify' 'FullAuto'\n",
      " 'Off' 'DownloadNotify']\n"
     ]
    }
   ],
   "source": [
    "print(dataframe['Census_OSWUAutoUpdateOptionsName'].unique())"
   ]
  },
  {
   "cell_type": "code",
   "execution_count": 116,
   "metadata": {},
   "outputs": [],
   "source": [
    "unique_valuesCensus_OSWUAutoUpdateOptionsName = dataframe['Census_OSWUAutoUpdateOptionsName'].unique()\n",
    "\n",
    "# Mappeo los valores unicos por numeros\n",
    "value_to_number = {value: index + 1 for index, value in enumerate(unique_valuesCensus_OSWUAutoUpdateOptionsName)}\n",
    "\n",
    "# Cambio los valores por los numeros \n",
    "dfC['Census_OSWUAutoUpdateOptionsName'] = dfC['Census_OSWUAutoUpdateOptionsName'].map(value_to_number)"
   ]
  },
  {
   "cell_type": "code",
   "execution_count": 117,
   "metadata": {},
   "outputs": [
    {
     "name": "stdout",
     "output_type": "stream",
     "text": [
      "0    1\n",
      "1    1\n",
      "2    2\n",
      "3    3\n",
      "4    2\n",
      "5    4\n",
      "6    4\n",
      "Name: Census_OSWUAutoUpdateOptionsName, dtype: int64\n"
     ]
    }
   ],
   "source": [
    "print(dfC['Census_OSWUAutoUpdateOptionsName'].head(7))"
   ]
  },
  {
   "cell_type": "markdown",
   "metadata": {},
   "source": [
    "Census_IsPortableOperatingSystem"
   ]
  },
  {
   "cell_type": "code",
   "execution_count": 118,
   "metadata": {},
   "outputs": [
    {
     "name": "stdout",
     "output_type": "stream",
     "text": [
      "[0 1]\n"
     ]
    }
   ],
   "source": [
    "print(dataframe['Census_IsPortableOperatingSystem'].unique())"
   ]
  },
  {
   "cell_type": "code",
   "execution_count": 119,
   "metadata": {},
   "outputs": [
    {
     "name": "stdout",
     "output_type": "stream",
     "text": [
      "0    0\n",
      "1    0\n",
      "2    0\n",
      "3    0\n",
      "4    0\n",
      "5    0\n",
      "6    0\n",
      "Name: Census_IsPortableOperatingSystem, dtype: int64\n"
     ]
    }
   ],
   "source": [
    "print(dfC['Census_IsPortableOperatingSystem'].head(7))"
   ]
  },
  {
   "cell_type": "markdown",
   "metadata": {},
   "source": [
    "Census_GenuineStateName"
   ]
  },
  {
   "cell_type": "code",
   "execution_count": 120,
   "metadata": {},
   "outputs": [
    {
     "name": "stdout",
     "output_type": "stream",
     "text": [
      "['IS_GENUINE' 'UNKNOWN' 'INVALID_LICENSE' 'OFFLINE' 'TAMPERED' nan]\n"
     ]
    }
   ],
   "source": [
    "print(dataframe['Census_GenuineStateName'].unique())"
   ]
  },
  {
   "cell_type": "code",
   "execution_count": 121,
   "metadata": {},
   "outputs": [],
   "source": [
    "unique_valuesCensus_GenuineStateName = dataframe['Census_GenuineStateName'].unique()\n",
    "\n",
    "# Mappeo los valores unicos por numeros\n",
    "value_to_number = {value: index + 1 for index, value in enumerate(unique_valuesCensus_GenuineStateName)}\n",
    "\n",
    "# Cambio los valores por los numeros \n",
    "dfC['Census_GenuineStateName'] = dfC['Census_GenuineStateName'].map(value_to_number)"
   ]
  },
  {
   "cell_type": "code",
   "execution_count": 122,
   "metadata": {},
   "outputs": [
    {
     "name": "stdout",
     "output_type": "stream",
     "text": [
      "0    1.0\n",
      "1    1.0\n",
      "2    1.0\n",
      "3    1.0\n",
      "4    1.0\n",
      "5    1.0\n",
      "6    1.0\n",
      "Name: Census_GenuineStateName, dtype: float64\n"
     ]
    }
   ],
   "source": [
    "print(dfC['Census_GenuineStateName'].head(7))"
   ]
  },
  {
   "cell_type": "markdown",
   "metadata": {},
   "source": [
    "CONTINUAR DE ACA CON EL 55"
   ]
  },
  {
   "cell_type": "markdown",
   "metadata": {},
   "source": [
    "Census_ActivationChannel"
   ]
  },
  {
   "cell_type": "code",
   "execution_count": 123,
   "metadata": {},
   "outputs": [
    {
     "name": "stdout",
     "output_type": "stream",
     "text": [
      "['OEM:DM' 'Retail' 'OEM:NONSLP' 'Volume:GVLK' 'Volume:MAK'\n",
      " 'Retail:TB:Eval']\n"
     ]
    }
   ],
   "source": [
    "print(dataframe['Census_ActivationChannel'].unique())"
   ]
  },
  {
   "cell_type": "code",
   "execution_count": 124,
   "metadata": {},
   "outputs": [],
   "source": [
    "unique_valuesCensus_ActivationChannel = dataframe['Census_ActivationChannel'].unique()\n",
    "\n",
    "# Mappeo los valores unicos por numeros\n",
    "value_to_number = {value: index + 1 for index, value in enumerate(unique_valuesCensus_ActivationChannel)}\n",
    "\n",
    "# Cambio los valores por los numeros \n",
    "dfC['Census_ActivationChannel'] = dfC['Census_ActivationChannel'].map(value_to_number)"
   ]
  },
  {
   "cell_type": "code",
   "execution_count": 125,
   "metadata": {},
   "outputs": [
    {
     "name": "stdout",
     "output_type": "stream",
     "text": [
      "0    1\n",
      "1    2\n",
      "2    1\n",
      "3    1\n",
      "4    2\n",
      "5    2\n",
      "6    1\n",
      "Name: Census_ActivationChannel, dtype: int64\n"
     ]
    }
   ],
   "source": [
    "print(dfC['Census_ActivationChannel'].head(7))"
   ]
  },
  {
   "cell_type": "markdown",
   "metadata": {},
   "source": [
    "Census_FlightRing"
   ]
  },
  {
   "cell_type": "code",
   "execution_count": 126,
   "metadata": {},
   "outputs": [
    {
     "name": "stdout",
     "output_type": "stream",
     "text": [
      "['Retail' 'NOT_SET' 'WIF' 'Unknown' 'WIS' 'RP' 'Disabled' 'OSG' 'Canary'\n",
      " 'CBCanary' 'Invalid']\n"
     ]
    }
   ],
   "source": [
    "print(dataframe['Census_FlightRing'].unique())"
   ]
  },
  {
   "cell_type": "code",
   "execution_count": 127,
   "metadata": {},
   "outputs": [],
   "source": [
    "unique_valuesCensus_FlightRing = dataframe['Census_FlightRing'].unique()\n",
    "\n",
    "# Mappeo los valores unicos por numeros\n",
    "value_to_number = {value: index + 1 for index, value in enumerate(unique_valuesCensus_FlightRing)}\n",
    "\n",
    "# Cambio los valores por los numeros \n",
    "dfC['Census_FlightRing'] = dfC['Census_FlightRing'].map(value_to_number)"
   ]
  },
  {
   "cell_type": "code",
   "execution_count": 128,
   "metadata": {},
   "outputs": [
    {
     "name": "stdout",
     "output_type": "stream",
     "text": [
      "0    1\n",
      "1    1\n",
      "2    1\n",
      "3    1\n",
      "4    1\n",
      "5    1\n",
      "6    1\n",
      "Name: Census_FlightRing, dtype: int64\n"
     ]
    }
   ],
   "source": [
    "print(dfC['Census_FlightRing'].head(7))"
   ]
  },
  {
   "cell_type": "markdown",
   "metadata": {},
   "source": [
    "Census_IsSecureBootEnabled"
   ]
  },
  {
   "cell_type": "code",
   "execution_count": 129,
   "metadata": {},
   "outputs": [
    {
     "name": "stdout",
     "output_type": "stream",
     "text": [
      "[1 0]\n"
     ]
    }
   ],
   "source": [
    "print(dataframe['Census_IsSecureBootEnabled'].unique())"
   ]
  },
  {
   "cell_type": "code",
   "execution_count": 130,
   "metadata": {},
   "outputs": [
    {
     "name": "stdout",
     "output_type": "stream",
     "text": [
      "0    1\n",
      "1    1\n",
      "2    1\n",
      "3    1\n",
      "4    1\n",
      "5    0\n",
      "6    1\n",
      "Name: Census_IsSecureBootEnabled, dtype: int64\n"
     ]
    }
   ],
   "source": [
    "print(dfC['Census_IsSecureBootEnabled'].head(7))"
   ]
  },
  {
   "cell_type": "markdown",
   "metadata": {},
   "source": [
    "Census_IsVirtualDevice"
   ]
  },
  {
   "cell_type": "code",
   "execution_count": 131,
   "metadata": {},
   "outputs": [
    {
     "name": "stdout",
     "output_type": "stream",
     "text": [
      "[ 0.  1. nan]\n"
     ]
    }
   ],
   "source": [
    "print(dataframe['Census_IsVirtualDevice'].unique())"
   ]
  },
  {
   "cell_type": "code",
   "execution_count": 132,
   "metadata": {},
   "outputs": [
    {
     "name": "stdout",
     "output_type": "stream",
     "text": [
      "0    0.0\n",
      "1    0.0\n",
      "2    0.0\n",
      "3    0.0\n",
      "4    0.0\n",
      "5    0.0\n",
      "6    0.0\n",
      "Name: Census_IsVirtualDevice, dtype: float64\n"
     ]
    }
   ],
   "source": [
    "print(dfC['Census_IsVirtualDevice'].head(7))"
   ]
  },
  {
   "cell_type": "markdown",
   "metadata": {},
   "source": [
    "Census_IsTouchEnabled"
   ]
  },
  {
   "cell_type": "code",
   "execution_count": 133,
   "metadata": {},
   "outputs": [
    {
     "name": "stdout",
     "output_type": "stream",
     "text": [
      "[0 1]\n"
     ]
    }
   ],
   "source": [
    "print(dataframe['Census_IsTouchEnabled'].unique())"
   ]
  },
  {
   "cell_type": "code",
   "execution_count": 134,
   "metadata": {},
   "outputs": [
    {
     "name": "stdout",
     "output_type": "stream",
     "text": [
      "0    0\n",
      "1    0\n",
      "2    0\n",
      "3    0\n",
      "4    0\n",
      "5    0\n",
      "6    0\n",
      "Name: Census_IsTouchEnabled, dtype: int64\n"
     ]
    }
   ],
   "source": [
    "print(dfC['Census_IsTouchEnabled'].head(7))"
   ]
  },
  {
   "cell_type": "markdown",
   "metadata": {},
   "source": [
    "Census_IsPenCapable"
   ]
  },
  {
   "cell_type": "code",
   "execution_count": 135,
   "metadata": {},
   "outputs": [
    {
     "name": "stdout",
     "output_type": "stream",
     "text": [
      "[0 1]\n"
     ]
    }
   ],
   "source": [
    "print(dataframe['Census_IsPenCapable'].unique())"
   ]
  },
  {
   "cell_type": "code",
   "execution_count": 136,
   "metadata": {},
   "outputs": [
    {
     "name": "stdout",
     "output_type": "stream",
     "text": [
      "0    0\n",
      "1    0\n",
      "2    0\n",
      "3    0\n",
      "4    0\n",
      "5    0\n",
      "6    0\n",
      "Name: Census_IsPenCapable, dtype: int64\n"
     ]
    }
   ],
   "source": [
    "print(dfC['Census_IsPenCapable'].head(7))"
   ]
  },
  {
   "cell_type": "markdown",
   "metadata": {},
   "source": [
    "Census_IsAlwaysOnAlwaysConnectedCapable"
   ]
  },
  {
   "cell_type": "code",
   "execution_count": 137,
   "metadata": {},
   "outputs": [
    {
     "name": "stdout",
     "output_type": "stream",
     "text": [
      "[ 0. nan  1.]\n"
     ]
    }
   ],
   "source": [
    "print(dataframe['Census_IsAlwaysOnAlwaysConnectedCapable'].unique())"
   ]
  },
  {
   "cell_type": "code",
   "execution_count": 138,
   "metadata": {},
   "outputs": [
    {
     "name": "stdout",
     "output_type": "stream",
     "text": [
      "0    0.0\n",
      "1    0.0\n",
      "2    0.0\n",
      "3    0.0\n",
      "4    0.0\n",
      "5    0.0\n",
      "6    0.0\n",
      "Name: Census_IsAlwaysOnAlwaysConnectedCapable, dtype: float64\n"
     ]
    }
   ],
   "source": [
    "print(dfC['Census_IsAlwaysOnAlwaysConnectedCapable'].head(7))"
   ]
  },
  {
   "cell_type": "markdown",
   "metadata": {},
   "source": [
    "Agregamos la columna 'HasDetections' para insertar lo que predice el modelo"
   ]
  },
  {
   "cell_type": "code",
   "execution_count": 140,
   "metadata": {},
   "outputs": [],
   "source": [
    "import pandas as pd\n",
    "import numpy as np\n",
    "\n",
    "dfC['HasDetections'] = np.nan"
   ]
  },
  {
   "cell_type": "markdown",
   "metadata": {},
   "source": [
    "Exportamos este nuevo test.csv con los datos ya limpiados para su uso"
   ]
  },
  {
   "cell_type": "code",
   "execution_count": 141,
   "metadata": {},
   "outputs": [],
   "source": [
    "dfC.to_csv('testLimpio.csv', index=False)"
   ]
  }
 ],
 "metadata": {
  "kernelspec": {
   "display_name": "ml",
   "language": "python",
   "name": "python3"
  },
  "language_info": {
   "codemirror_mode": {
    "name": "ipython",
    "version": 3
   },
   "file_extension": ".py",
   "mimetype": "text/x-python",
   "name": "python",
   "nbconvert_exporter": "python",
   "pygments_lexer": "ipython3",
   "version": "3.10.11"
  }
 },
 "nbformat": 4,
 "nbformat_minor": 2
}
