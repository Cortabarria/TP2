{
 "cells": [
  {
   "cell_type": "code",
   "execution_count": 1,
   "metadata": {},
   "outputs": [
    {
     "name": "stderr",
     "output_type": "stream",
     "text": [
      "C:\\Users\\Feli\\AppData\\Local\\Temp\\ipykernel_15136\\40746346.py:5: DtypeWarning: Columns (28) have mixed types. Specify dtype option on import or set low_memory=False.\n",
      "  dataframe = pd.read_csv(ruta_archivo, sep=',')\n"
     ]
    }
   ],
   "source": [
    "import pandas as pd\n",
    "\n",
    "ruta_archivo = 'train.csv'\n",
    "\n",
    "dataframe = pd.read_csv(ruta_archivo, sep=',')"
   ]
  },
  {
   "cell_type": "code",
   "execution_count": 2,
   "metadata": {},
   "outputs": [
    {
     "name": "stdout",
     "output_type": "stream",
     "text": [
      "Numero de filas: 8921483\n"
     ]
    }
   ],
   "source": [
    "num_rows_method2 = len(dataframe)\n",
    "print(\"Numero de filas:\", num_rows_method2)"
   ]
  },
  {
   "cell_type": "code",
   "execution_count": 3,
   "metadata": {},
   "outputs": [],
   "source": [
    "num_columns_alternative = len(dataframe.columns)"
   ]
  },
  {
   "cell_type": "code",
   "execution_count": 4,
   "metadata": {},
   "outputs": [
    {
     "name": "stdout",
     "output_type": "stream",
     "text": [
      "Number of Integer columns: 17\n",
      "Number of Float columns: 36\n",
      "Number of String columns: 30\n",
      "Number of Object columns: 0\n",
      "Number of columns with other data types: 0\n"
     ]
    }
   ],
   "source": [
    "import pandas as pd\n",
    "\n",
    "def count_data_types(df):\n",
    "    # Initialize counters\n",
    "    int_count = 0\n",
    "    float_count = 0\n",
    "    str_count = 0\n",
    "    object_count = 0\n",
    "    other_count = 0\n",
    "\n",
    "    # Iterate through columns and count data types\n",
    "    for col in df.columns:\n",
    "        dtype = df[col].dtype\n",
    "        if pd.api.types.is_integer_dtype(dtype):\n",
    "            int_count += 1\n",
    "        elif pd.api.types.is_float_dtype(dtype):\n",
    "            float_count += 1\n",
    "        elif pd.api.types.is_string_dtype(dtype):\n",
    "            str_count += 1\n",
    "        elif pd.api.types.is_object_dtype(dtype):\n",
    "            object_count += 1\n",
    "        else:\n",
    "            other_count += 1\n",
    "\n",
    "    # Print the results\n",
    "    print(\"Number of Integer columns:\", int_count)\n",
    "    print(\"Number of Float columns:\", float_count)\n",
    "    print(\"Number of String columns:\", str_count)\n",
    "    print(\"Number of Object columns:\", object_count)\n",
    "    print(\"Number of columns with other data types:\", other_count)\n",
    "\n",
    "\n",
    "\n",
    "count_data_types(dataframe)\n"
   ]
  }
 ],
 "metadata": {
  "kernelspec": {
   "display_name": "ml",
   "language": "python",
   "name": "python3"
  },
  "language_info": {
   "codemirror_mode": {
    "name": "ipython",
    "version": 3
   },
   "file_extension": ".py",
   "mimetype": "text/x-python",
   "name": "python",
   "nbconvert_exporter": "python",
   "pygments_lexer": "ipython3",
   "version": "3.10.11"
  }
 },
 "nbformat": 4,
 "nbformat_minor": 2
}
